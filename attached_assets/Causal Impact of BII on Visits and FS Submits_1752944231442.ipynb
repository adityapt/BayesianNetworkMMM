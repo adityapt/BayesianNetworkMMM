{
 "cells": [
  {
   "cell_type": "code",
   "execution_count": 0,
   "metadata": {
    "application/vnd.databricks.v1+cell": {
     "cellMetadata": {
      "byteLimit": 2048000,
      "rowLimit": 10000
     },
     "inputWidgets": {},
     "nuid": "2caf03e1-a93c-4e7b-acdd-5aab912c0562",
     "showTitle": false,
     "tableResultSettingsMap": {},
     "title": ""
    }
   },
   "outputs": [
    {
     "output_type": "stream",
     "name": "stdout",
     "output_type": "stream",
     "text": [
      "Collecting pyvis\n  Downloading pyvis-0.3.2-py3-none-any.whl.metadata (1.7 kB)\nRequirement already satisfied: ipython>=5.3.0 in /databricks/python3/lib/python3.12/site-packages (from pyvis) (8.25.0)\nRequirement already satisfied: jinja2>=2.9.6 in /databricks/python3/lib/python3.12/site-packages (from pyvis) (3.1.4)\nCollecting jsonpickle>=1.4.1 (from pyvis)\n  Downloading jsonpickle-4.1.1-py3-none-any.whl.metadata (8.1 kB)\nRequirement already satisfied: networkx>=1.11 in /databricks/python3/lib/python3.12/site-packages (from pyvis) (3.2.1)\nRequirement already satisfied: decorator in /databricks/python3/lib/python3.12/site-packages (from ipython>=5.3.0->pyvis) (5.1.1)\nRequirement already satisfied: jedi>=0.16 in /databricks/python3/lib/python3.12/site-packages (from ipython>=5.3.0->pyvis) (0.19.1)\nRequirement already satisfied: matplotlib-inline in /databricks/python3/lib/python3.12/site-packages (from ipython>=5.3.0->pyvis) (0.1.6)\nRequirement already satisfied: prompt-toolkit<3.1.0,>=3.0.41 in /databricks/python3/lib/python3.12/site-packages (from ipython>=5.3.0->pyvis) (3.0.43)\nRequirement already satisfied: pygments>=2.4.0 in /databricks/python3/lib/python3.12/site-packages (from ipython>=5.3.0->pyvis) (2.15.1)\nRequirement already satisfied: stack-data in /databricks/python3/lib/python3.12/site-packages (from ipython>=5.3.0->pyvis) (0.2.0)\nRequirement already satisfied: traitlets>=5.13.0 in /databricks/python3/lib/python3.12/site-packages (from ipython>=5.3.0->pyvis) (5.14.3)\nRequirement already satisfied: pexpect>4.3 in /databricks/python3/lib/python3.12/site-packages (from ipython>=5.3.0->pyvis) (4.8.0)\nRequirement already satisfied: MarkupSafe>=2.0 in /databricks/python3/lib/python3.12/site-packages (from jinja2>=2.9.6->pyvis) (2.1.3)\nRequirement already satisfied: parso<0.9.0,>=0.8.3 in /databricks/python3/lib/python3.12/site-packages (from jedi>=0.16->ipython>=5.3.0->pyvis) (0.8.3)\nRequirement already satisfied: ptyprocess>=0.5 in /databricks/python3/lib/python3.12/site-packages (from pexpect>4.3->ipython>=5.3.0->pyvis) (0.7.0)\nRequirement already satisfied: wcwidth in /databricks/python3/lib/python3.12/site-packages (from prompt-toolkit<3.1.0,>=3.0.41->ipython>=5.3.0->pyvis) (0.2.5)\nRequirement already satisfied: executing in /databricks/python3/lib/python3.12/site-packages (from stack-data->ipython>=5.3.0->pyvis) (0.8.3)\nRequirement already satisfied: asttokens in /databricks/python3/lib/python3.12/site-packages (from stack-data->ipython>=5.3.0->pyvis) (2.0.5)\nRequirement already satisfied: pure-eval in /databricks/python3/lib/python3.12/site-packages (from stack-data->ipython>=5.3.0->pyvis) (0.2.2)\nRequirement already satisfied: six in /usr/lib/python3/dist-packages (from asttokens->stack-data->ipython>=5.3.0->pyvis) (1.16.0)\nDownloading pyvis-0.3.2-py3-none-any.whl (756 kB)\n\u001B[?25l   \u001B[90m━━━━━━━━━━━━━━━━━━━━━━━━━━━━━━━━━━━━━━━━\u001B[0m \u001B[32m0.0/756.0 kB\u001B[0m \u001B[31m?\u001B[0m eta \u001B[36m-:--:--\u001B[0m\n\u001B[2K   \u001B[91m━━━━━━━━━━━━━━━━\u001B[0m\u001B[90m╺\u001B[0m\u001B[90m━━━━━━━━━━━━━━━━━━━━━━━\u001B[0m \u001B[32m307.2/756.0 kB\u001B[0m \u001B[31m9.1 MB/s\u001B[0m eta \u001B[36m0:00:01\u001B[0m\n\u001B[2K   \u001B[91m━━━━━━━━━━━━━━━━━━━━━━━━━━━━━━━━━━━━━━━\u001B[0m\u001B[91m╸\u001B[0m \u001B[32m747.5/756.0 kB\u001B[0m \u001B[31m11.2 MB/s\u001B[0m eta \u001B[36m0:00:01\u001B[0m\n\u001B[2K   \u001B[90m━━━━━━━━━━━━━━━━━━━━━━━━━━━━━━━━━━━━━━━━\u001B[0m \u001B[32m756.0/756.0 kB\u001B[0m \u001B[31m9.8 MB/s\u001B[0m eta \u001B[36m0:00:00\u001B[0m\n\u001B[?25hDownloading jsonpickle-4.1.1-py3-none-any.whl (47 kB)\n\u001B[?25l   \u001B[90m━━━━━━━━━━━━━━━━━━━━━━━━━━━━━━━━━━━━━━━━\u001B[0m \u001B[32m0.0/47.1 kB\u001B[0m \u001B[31m?\u001B[0m eta \u001B[36m-:--:--\u001B[0m\n\u001B[2K   \u001B[90m━━━━━━━━━━━━━━━━━━━━━━━━━━━━━━━━━━━━━━━━\u001B[0m \u001B[32m47.1/47.1 kB\u001B[0m \u001B[31m4.4 MB/s\u001B[0m eta \u001B[36m0:00:00\u001B[0m\n\u001B[?25hInstalling collected packages: jsonpickle, pyvis\nSuccessfully installed jsonpickle-4.1.1 pyvis-0.3.2\n\u001B[43mNote: you may need to restart the kernel using %restart_python or dbutils.library.restartPython() to use updated packages.\u001B[0m\nCollecting pgmpy\n  Downloading pgmpy-1.0.0-py3-none-any.whl.metadata (9.4 kB)\nRequirement already satisfied: pymc in /local_disk0/.ephemeral_nfs/cluster_libraries/python/lib/python3.12/site-packages (5.24.0)\nRequirement already satisfied: arviz in /local_disk0/.ephemeral_nfs/cluster_libraries/python/lib/python3.12/site-packages (0.22.0)\nRequirement already satisfied: pandas in /local_disk0/.ephemeral_nfs/cluster_libraries/python/lib/python3.12/site-packages (2.3.1)\nRequirement already satisfied: networkx in /databricks/python3/lib/python3.12/site-packages (3.2.1)\nRequirement already satisfied: matplotlib in /databricks/python3/lib/python3.12/site-packages (3.8.4)\nRequirement already satisfied: numpy in /databricks/python3/lib/python3.12/site-packages (from pgmpy) (1.26.4)\nRequirement already satisfied: scipy in /databricks/python3/lib/python3.12/site-packages (from pgmpy) (1.13.1)\nRequirement already satisfied: scikit-learn in /databricks/python3/lib/python3.12/site-packages (from pgmpy) (1.4.2)\nRequirement already satisfied: torch in /databricks/python3/lib/python3.12/site-packages (from pgmpy) (2.6.0+cu124)\nRequirement already satisfied: statsmodels in /databricks/python3/lib/python3.12/site-packages (from pgmpy) (0.14.2)\nRequirement already satisfied: tqdm in /databricks/python3/lib/python3.12/site-packages (from pgmpy) (4.66.4)\nRequirement already satisfied: joblib in /databricks/python3/lib/python3.12/site-packages (from pgmpy) (1.4.2)\nRequirement already satisfied: opt-einsum in /databricks/python3/lib/python3.12/site-packages (from pgmpy) (3.4.0)\nCollecting pyro-ppl (from pgmpy)\n  Downloading pyro_ppl-1.9.1-py3-none-any.whl.metadata (7.8 kB)\nRequirement already satisfied: cachetools>=4.2.1 in /databricks/python3/lib/python3.12/site-packages (from pymc) (5.3.3)\nRequirement already satisfied: cloudpickle in /databricks/python3/lib/python3.12/site-packages (from pymc) (2.2.1)\nRequirement already satisfied: pytensor<2.32,>=2.31.2 in /local_disk0/.ephemeral_nfs/cluster_libraries/python/lib/python3.12/site-packages (from pymc) (2.31.7)\nRequirement already satisfied: rich>=13.7.1 in /local_disk0/.ephemeral_nfs/cluster_libraries/python/lib/python3.12/site-packages (from pymc) (14.0.0)\nRequirement already satisfied: threadpoolctl<4.0.0,>=3.1.0 in /local_disk0/.ephemeral_nfs/cluster_libraries/python/lib/python3.12/site-packages (from pymc) (3.6.0)\nRequirement already satisfied: typing-extensions>=3.7.4 in /databricks/python3/lib/python3.12/site-packages (from pymc) (4.11.0)\nRequirement already satisfied: setuptools>=60.0.0 in /usr/local/lib/python3.12/dist-packages (from arviz) (74.0.0)\nRequirement already satisfied: packaging in /databricks/python3/lib/python3.12/site-packages (from arviz) (24.1)\nRequirement already satisfied: xarray>=2023.7.0 in /local_disk0/.ephemeral_nfs/cluster_libraries/python/lib/python3.12/site-packages (from arviz) (2025.7.1)\nRequirement already satisfied: h5netcdf>=1.0.2 in /local_disk0/.ephemeral_nfs/cluster_libraries/python/lib/python3.12/site-packages (from arviz) (1.6.3)\nRequirement already satisfied: xarray-einstats>=0.3 in /local_disk0/.ephemeral_nfs/cluster_libraries/python/lib/python3.12/site-packages (from arviz) (0.9.1)\nRequirement already satisfied: python-dateutil>=2.8.2 in /databricks/python3/lib/python3.12/site-packages (from pandas) (2.9.0.post0)\nRequirement already satisfied: pytz>=2020.1 in /databricks/python3/lib/python3.12/site-packages (from pandas) (2024.1)\nRequirement already satisfied: tzdata>=2022.7 in /local_disk0/.ephemeral_nfs/cluster_libraries/python/lib/python3.12/site-packages (from pandas) (2025.2)\nRequirement already satisfied: contourpy>=1.0.1 in /databricks/python3/lib/python3.12/site-packages (from matplotlib) (1.2.0)\nRequirement already satisfied: cycler>=0.10 in /databricks/python3/lib/python3.12/site-packages (from matplotlib) (0.11.0)\nRequirement already satisfied: fonttools>=4.22.0 in /databricks/python3/lib/python3.12/site-packages (from matplotlib) (4.51.0)\nRequirement already satisfied: kiwisolver>=1.3.1 in /databricks/python3/lib/python3.12/site-packages (from matplotlib) (1.4.4)\nRequirement already satisfied: pillow>=8 in /databricks/python3/lib/python3.12/site-packages (from matplotlib) (10.3.0)\nRequirement already satisfied: pyparsing>=2.3.1 in /databricks/python3/lib/python3.12/site-packages (from matplotlib) (3.0.9)\nRequirement already satisfied: h5py in /databricks/python3/lib/python3.12/site-packages (from h5netcdf>=1.0.2->arviz) (3.11.0)\nRequirement already satisfied: filelock>=3.15 in /local_disk0/.ephemeral_nfs/cluster_libraries/python/lib/python3.12/site-packages (from pytensor<2.32,>=2.31.2->pymc) (3.18.0)\nRequirement already satisfied: etuples in /local_disk0/.ephemeral_nfs/cluster_libraries/python/lib/python3.12/site-packages (from pytensor<2.32,>=2.31.2->pymc) (0.3.10)\nRequirement already satisfied: logical-unification in /local_disk0/.ephemeral_nfs/cluster_libraries/python/lib/python3.12/site-packages (from pytensor<2.32,>=2.31.2->pymc) (0.4.6)\nRequirement already satisfied: miniKanren in /local_disk0/.ephemeral_nfs/cluster_libraries/python/lib/python3.12/site-packages (from pytensor<2.32,>=2.31.2->pymc) (1.0.3)\nRequirement already satisfied: cons in /local_disk0/.ephemeral_nfs/cluster_libraries/python/lib/python3.12/site-packages (from pytensor<2.32,>=2.31.2->pymc) (0.4.7)\nRequirement already satisfied: six>=1.5 in /usr/lib/python3/dist-packages (from python-dateutil>=2.8.2->pandas) (1.16.0)\nRequirement already satisfied: markdown-it-py>=2.2.0 in /databricks/python3/lib/python3.12/site-packages (from rich>=13.7.1->pymc) (2.2.0)\nRequirement already satisfied: pygments<3.0.0,>=2.13.0 in /databricks/python3/lib/python3.12/site-packages (from rich>=13.7.1->pymc) (2.15.1)\nCollecting pyro-api>=0.1.1 (from pyro-ppl->pgmpy)\n  Downloading pyro_api-0.1.2-py3-none-any.whl.metadata (2.5 kB)\nRequirement already satisfied: jinja2 in /databricks/python3/lib/python3.12/site-packages (from torch->pgmpy) (3.1.4)\nRequirement already satisfied: fsspec in /databricks/python3/lib/python3.12/site-packages (from torch->pgmpy) (2023.5.0)\nRequirement already satisfied: nvidia-cuda-nvrtc-cu12==12.4.127 in /databricks/python3/lib/python3.12/site-packages (from torch->pgmpy) (12.4.127)\nRequirement already satisfied: nvidia-cuda-runtime-cu12==12.4.127 in /databricks/python3/lib/python3.12/site-packages (from torch->pgmpy) (12.4.127)\nRequirement already satisfied: nvidia-cuda-cupti-cu12==12.4.127 in /databricks/python3/lib/python3.12/site-packages (from torch->pgmpy) (12.4.127)\nRequirement already satisfied: nvidia-cudnn-cu12==9.1.0.70 in /databricks/python3/lib/python3.12/site-packages (from torch->pgmpy) (9.1.0.70)\nRequirement already satisfied: nvidia-cublas-cu12==12.4.5.8 in /databricks/python3/lib/python3.12/site-packages (from torch->pgmpy) (12.4.5.8)\nRequirement already satisfied: nvidia-cufft-cu12==11.2.1.3 in /databricks/python3/lib/python3.12/site-packages (from torch->pgmpy) (11.2.1.3)\nRequirement already satisfied: nvidia-curand-cu12==10.3.5.147 in /databricks/python3/lib/python3.12/site-packages (from torch->pgmpy) (10.3.5.147)\nRequirement already satisfied: nvidia-cusolver-cu12==11.6.1.9 in /databricks/python3/lib/python3.12/site-packages (from torch->pgmpy) (11.6.1.9)\nRequirement already satisfied: nvidia-cusparse-cu12==12.3.1.170 in /databricks/python3/lib/python3.12/site-packages (from torch->pgmpy) (12.3.1.170)\nRequirement already satisfied: nvidia-cusparselt-cu12==0.6.2 in /databricks/python3/lib/python3.12/site-packages (from torch->pgmpy) (0.6.2)\nRequirement already satisfied: nvidia-nccl-cu12==2.21.5 in /databricks/python3/lib/python3.12/site-packages (from torch->pgmpy) (2.21.5)\nRequirement already satisfied: nvidia-nvtx-cu12==12.4.127 in /databricks/python3/lib/python3.12/site-packages (from torch->pgmpy) (12.4.127)\nRequirement already satisfied: nvidia-nvjitlink-cu12==12.4.127 in /databricks/python3/lib/python3.12/site-packages (from torch->pgmpy) (12.4.127)\nRequirement already satisfied: triton==3.2.0 in /databricks/python3/lib/python3.12/site-packages (from torch->pgmpy) (3.2.0)\nRequirement already satisfied: sympy==1.13.1 in /databricks/python3/lib/python3.12/site-packages (from torch->pgmpy) (1.13.1)\nRequirement already satisfied: mpmath<1.4,>=1.1.0 in /databricks/python3/lib/python3.12/site-packages (from sympy==1.13.1->torch->pgmpy) (1.3.0)\nRequirement already satisfied: patsy>=0.5.6 in /databricks/python3/lib/python3.12/site-packages (from statsmodels->pgmpy) (0.5.6)\nRequirement already satisfied: mdurl~=0.1 in /databricks/python3/lib/python3.12/site-packages (from markdown-it-py>=2.2.0->rich>=13.7.1->pymc) (0.1.0)\nRequirement already satisfied: toolz in /local_disk0/.ephemeral_nfs/cluster_libraries/python/lib/python3.12/site-packages (from logical-unification->pytensor<2.32,>=2.31.2->pymc) (1.0.0)\nRequirement already satisfied: multipledispatch in /local_disk0/.ephemeral_nfs/cluster_libraries/python/lib/python3.12/site-packages (from logical-unification->pytensor<2.32,>=2.31.2->pymc) (1.0.0)\nRequirement already satisfied: MarkupSafe>=2.0 in /databricks/python3/lib/python3.12/site-packages (from jinja2->torch->pgmpy) (2.1.3)\nDownloading pgmpy-1.0.0-py3-none-any.whl (2.0 MB)\n\u001B[?25l   \u001B[90m━━━━━━━━━━━━━━━━━━━━━━━━━━━━━━━━━━━━━━━━\u001B[0m \u001B[32m0.0/2.0 MB\u001B[0m \u001B[31m?\u001B[0m eta \u001B[36m-:--:--\u001B[0m\n\u001B[2K   \u001B[91m━━━━━━\u001B[0m\u001B[90m╺\u001B[0m\u001B[90m━━━━━━━━━━━━━━━━━━━━━━━━━━━━━━━━━\u001B[0m \u001B[32m0.3/2.0 MB\u001B[0m \u001B[31m9.1 MB/s\u001B[0m eta \u001B[36m0:00:01\u001B[0m\n\u001B[2K   \u001B[91m━━━━━━━━━━━━━━━━\u001B[0m\u001B[90m╺\u001B[0m\u001B[90m━━━━━━━━━━━━━━━━━━━━━━━\u001B[0m \u001B[32m0.8/2.0 MB\u001B[0m \u001B[31m11.8 MB/s\u001B[0m eta \u001B[36m0:00:01\u001B[0m\n\u001B[2K   \u001B[91m━━━━━━━━━━━━━━━━━━━━━━━━━━━━\u001B[0m\u001B[91m╸\u001B[0m\u001B[90m━━━━━━━━━━━\u001B[0m \u001B[32m1.4/2.0 MB\u001B[0m \u001B[31m13.9 MB/s\u001B[0m eta \u001B[36m0:00:01\u001B[0m\n\u001B[2K   \u001B[91m━━━━━━━━━━━━━━━━━━━━━━━━━━━━━━━━━━━━━━━\u001B[0m\u001B[91m╸\u001B[0m \u001B[32m2.0/2.0 MB\u001B[0m \u001B[31m15.3 MB/s\u001B[0m eta \u001B[36m0:00:01\u001B[0m\n\u001B[2K   \u001B[90m━━━━━━━━━━━━━━━━━━━━━━━━━━━━━━━━━━━━━━━━\u001B[0m \u001B[32m2.0/2.0 MB\u001B[0m \u001B[31m13.9 MB/s\u001B[0m eta \u001B[36m0:00:00\u001B[0m\n\u001B[?25hDownloading pyro_ppl-1.9.1-py3-none-any.whl (755 kB)\n\u001B[?25l   \u001B[90m━━━━━━━━━━━━━━━━━━━━━━━━━━━━━━━━━━━━━━━━\u001B[0m \u001B[32m0.0/756.0 kB\u001B[0m \u001B[31m?\u001B[0m eta \u001B[36m-:--:--\u001B[0m\n\u001B[2K   \u001B[91m━━━━━━━━━━━━━━━━━━━━━━━━━━━━━━━━━━━━━━━\u001B[0m\u001B[91m╸\u001B[0m \u001B[32m747.5/756.0 kB\u001B[0m \u001B[31m27.9 MB/s\u001B[0m eta \u001B[36m0:00:01\u001B[0m\n\u001B[2K   \u001B[90m━━━━━━━━━━━━━━━━━━━━━━━━━━━━━━━━━━━━━━━━\u001B[0m \u001B[32m756.0/756.0 kB\u001B[0m \u001B[31m20.3 MB/s\u001B[0m eta \u001B[36m0:00:00\u001B[0m\n\u001B[?25hDownloading pyro_api-0.1.2-py3-none-any.whl (11 kB)\nInstalling collected packages: pyro-api, pyro-ppl, pgmpy\nSuccessfully installed pgmpy-1.0.0 pyro-api-0.1.2 pyro-ppl-1.9.1\n\u001B[43mNote: you may need to restart the kernel using %restart_python or dbutils.library.restartPython() to use updated packages.\u001B[0m\n"
     ]
    }
   ],
   "source": [
    "%pip install pyvis \n",
    "%pip install pgmpy pymc arviz pandas networkx matplotlib"
   ]
  },
  {
   "cell_type": "code",
   "execution_count": 0,
   "metadata": {
    "application/vnd.databricks.v1+cell": {
     "cellMetadata": {
      "byteLimit": 2048000,
      "rowLimit": 10000
     },
     "inputWidgets": {},
     "nuid": "4411f20e-c727-4e7f-b949-cb6e71b38217",
     "showTitle": false,
     "tableResultSettingsMap": {},
     "title": ""
    }
   },
   "outputs": [],
   "source": [
    "dbutils.library.restartPython()"
   ]
  },
  {
   "cell_type": "code",
   "execution_count": 0,
   "metadata": {
    "application/vnd.databricks.v1+cell": {
     "cellMetadata": {
      "byteLimit": 2048000,
      "rowLimit": 10000
     },
     "inputWidgets": {},
     "nuid": "d6ce9c67-d826-4438-832a-0b8829eef6e8",
     "showTitle": false,
     "tableResultSettingsMap": {},
     "title": ""
    }
   },
   "outputs": [
    {
     "output_type": "stream",
     "name": "stderr",
     "output_type": "stream",
     "text": [
      "INFO:py4j.clientserver:Received command c on object id p0\nINFO:py4j.clientserver:Received command c on object id p0\nINFO:py4j.clientserver:Received command c on object id p0\nINFO:py4j.clientserver:Received command c on object id p0\n"
     ]
    }
   ],
   "source": [
    "# ---------------------------------------------------------------------\n",
    "# 0  Imports\n",
    "# ---------------------------------------------------------------------\n",
    "\n",
    "import pandas as pd\n",
    "import numpy as np\n",
    "import rapidmmm\n",
    "\n",
    "from __future__ import annotations\n",
    "import itertools\n",
    "import pathlib\n",
    "import warnings\n",
    "from typing import List, Tuple, Dict\n",
    "\n",
    "import pandas as pd\n",
    "import numpy as np\n",
    "import matplotlib.pyplot as plt\n",
    "from sklearn.preprocessing import KBinsDiscretizer\n",
    "from sklearn.linear_model import LinearRegression\n",
    "from pgmpy.estimators import HillClimbSearch, BayesianEstimator\n",
    "from pgmpy.models import BayesianNetwork\n",
    "from pgmpy.inference import VariableElimination\n",
    "from pgmpy.factors.continuous import LinearGaussianCPD\n",
    "from pgmpy.base import DAG\n",
    "\n",
    "from pyvis.network import Network\n",
    "import networkx as nx\n",
    "import tempfile, webbrowser, os\n"
   ]
  },
  {
   "cell_type": "code",
   "execution_count": 0,
   "metadata": {
    "application/vnd.databricks.v1+cell": {
     "cellMetadata": {
      "byteLimit": 2048000,
      "rowLimit": 10000
     },
     "inputWidgets": {},
     "nuid": "c98bd363-79cf-41e8-8df5-e1c5f21411c6",
     "showTitle": false,
     "tableResultSettingsMap": {},
     "title": ""
    }
   },
   "outputs": [],
   "source": [
    "import logging\n",
    "\n",
    "logger = logging.getLogger(\"py4j\")\n",
    "logger.setLevel(logging.WARN)"
   ]
  },
  {
   "cell_type": "code",
   "execution_count": 0,
   "metadata": {
    "application/vnd.databricks.v1+cell": {
     "cellMetadata": {
      "byteLimit": 2048000,
      "rowLimit": 10000
     },
     "inputWidgets": {},
     "nuid": "f281cc1a-12f6-4653-9fab-1a151da00c14",
     "showTitle": false,
     "tableResultSettingsMap": {},
     "title": ""
    }
   },
   "outputs": [],
   "source": [
    "from rapidmmm.PreProcessing.DataExploration import PlotlyVisualizer as pviz\n",
    "from rapidmmm.PreProcessing.MarketingMetricsData import MarketingMetricsData\n",
    "from rapidmmm.PreProcessing.BusinessMetricsData import BusinessMetricsData"
   ]
  },
  {
   "cell_type": "code",
   "execution_count": 0,
   "metadata": {
    "application/vnd.databricks.v1+cell": {
     "cellMetadata": {
      "byteLimit": 2048000,
      "rowLimit": 10000
     },
     "inputWidgets": {},
     "nuid": "cbb3de3d-ad28-489a-8fe4-27f31f4ee0db",
     "showTitle": false,
     "tableResultSettingsMap": {},
     "title": ""
    }
   },
   "outputs": [],
   "source": [
    "marketing_query = f\"\"\"\n",
    "            select 1000 as dmacode, 1000 as dma_regionid, \n",
    "case when tactic='Operational Emails' then 'NonMarketing' else  coalesce(core_campaign_super, campaign_super)  end  as campaign_super, \n",
    "case when channel = 'Email' and (tactic = 'Operational Emails' ) then 'Operational Emails'\n",
    "when network = 'Google UAC' then 'App' \n",
    "else channel end as channel,\n",
    "'None' as network, lob, tactic, \n",
    "coalesce(core_campaign_initiative, initiative) as initiative,\n",
    "date, week_monday, impressions, clicks, spend \n",
    "from  marketing.marketingde_gold.mmm_marketing_metrics  \n",
    "where week_monday between date'2024-01-01' and date'2025-06-30' \n",
    "and channel != 'OMP'\n",
    "            \"\"\"\n",
    "\n",
    "business_query = f\"\"\"select 1000 as dma_regionid, 1000 as dmacode, date, week_monday, data_name, metric, value from marketing.marketingde_gold.mmm_business_metrics \n",
    "              where metric in ('visits','fs_submits')\n",
    "                and date between date'2024-01-01' and date'2025-06-30'\n",
    "        \"\"\""
   ]
  },
  {
   "cell_type": "code",
   "execution_count": 0,
   "metadata": {
    "application/vnd.databricks.v1+cell": {
     "cellMetadata": {
      "byteLimit": 2048000,
      "rowLimit": 10000
     },
     "inputWidgets": {},
     "nuid": "c8ff0a4f-0ddb-444d-ad02-107539c4a289",
     "showTitle": false,
     "tableResultSettingsMap": {},
     "title": ""
    }
   },
   "outputs": [],
   "source": [
    "marketing_tbl = spark.sql(marketing_query)\n",
    "business_tbl = spark.sql(business_query)"
   ]
  },
  {
   "cell_type": "code",
   "execution_count": 0,
   "metadata": {
    "application/vnd.databricks.v1+cell": {
     "cellMetadata": {
      "byteLimit": 2048000,
      "rowLimit": 10000
     },
     "inputWidgets": {},
     "nuid": "39955b9f-e9be-4cbe-b7f4-ea1f67b4e749",
     "showTitle": false,
     "tableResultSettingsMap": {},
     "title": ""
    }
   },
   "outputs": [
    {
     "output_type": "stream",
     "name": "stderr",
     "output_type": "stream",
     "text": [
      "INFO:root:Default time variable set as date by default. \n Change it to a different one if needed\nINFO:root:This preprocessing works best with marketing.marketingde_gold.mmm_marketing_metrics data.\nINFO:root:These columns are needed to use this module: \n dma_regionid, dmacode, date, week_monday, campaign_super,\n                        lob, tactic, channel, network, initiative, impressions, clicks, spend\nINFO:root:if any of these are not present, either rename or add a dummy column with nulls\nINFO:root:Levels not needed for each channel has been set as null\nINFO:root:channel_network_map object updated\nINFO:root:Date Range Changed for Object Data\n         To revert, run retrieve_data_and_clean() again\nINFO:root:channel_network_map object updated\n"
     ]
    },
    {
     "output_type": "execute_result",
     "data": {
      "text/plain": [
       "{'Email': ['None'],\n",
       " 'Operational Emails': ['None'],\n",
       " 'SEM': ['None'],\n",
       " 'Display': ['None'],\n",
       " 'Owned Social': ['None'],\n",
       " 'App': ['None'],\n",
       " 'Push': ['null'],\n",
       " 'TV': ['None'],\n",
       " 'Paid Social': ['None'],\n",
       " 'Media Solutions': ['None'],\n",
       " 'Online Video': ['None'],\n",
       " 'Native': ['None'],\n",
       " 'Media Transformation': ['None'],\n",
       " 'Audio': ['None']}"
      ]
     },
     "execution_count": 87,
     "metadata": {},
     "output_type": "execute_result"
    }
   ],
   "source": [
    "MD = MarketingMetricsData(QUERY=marketing_query,time_var='date')\n",
    "MD.retrieve_data_and_clean()\n",
    "MD.filter_date_range(start_date='2024-01-01', end_date='2025-06-30')\n",
    "MD.channel_network_map"
   ]
  },
  {
   "cell_type": "code",
   "execution_count": 0,
   "metadata": {
    "application/vnd.databricks.v1+cell": {
     "cellMetadata": {
      "byteLimit": 2048000,
      "rowLimit": 10000
     },
     "inputWidgets": {},
     "nuid": "6f235bad-4393-4730-8d0a-cfbc1f3f6c7c",
     "showTitle": false,
     "tableResultSettingsMap": {},
     "title": ""
    }
   },
   "outputs": [],
   "source": [
    "df_pivot_overall = MD.get_pivoted_impressions_for_mmm(columns=[\"channel\", \"network\"])"
   ]
  },
  {
   "cell_type": "code",
   "execution_count": 0,
   "metadata": {
    "application/vnd.databricks.v1+cell": {
     "cellMetadata": {
      "byteLimit": 2048000,
      "rowLimit": 10000
     },
     "inputWidgets": {},
     "nuid": "853787b5-af1f-44c6-a75f-5fde738f3592",
     "showTitle": false,
     "tableResultSettingsMap": {},
     "title": ""
    }
   },
   "outputs": [
    {
     "output_type": "stream",
     "name": "stderr",
     "output_type": "stream",
     "text": [
      "INFO:root:multilevel columns collapsed into one level using | as separator\n"
     ]
    }
   ],
   "source": [
    "collapsed_data_overall = MD.unpivot_data_for_mmm(df_pivot_overall)"
   ]
  },
  {
   "cell_type": "code",
   "execution_count": 0,
   "metadata": {
    "application/vnd.databricks.v1+cell": {
     "cellMetadata": {
      "byteLimit": 2048000,
      "rowLimit": 10000
     },
     "inputWidgets": {},
     "nuid": "5091cf0a-d494-4e1a-8b09-efc064cfb42b",
     "showTitle": false,
     "tableResultSettingsMap": {},
     "title": ""
    }
   },
   "outputs": [
    {
     "output_type": "stream",
     "name": "stderr",
     "output_type": "stream",
     "text": [
      "INFO:root:Default time variable set as date. \n Change it to daily if needed\nINFO:root:Printing Query........ \n select 1000 as dma_regionid, 1000 as dmacode, date, week_monday, data_name, metric, value from marketing.marketingde_gold.mmm_business_metrics \n              where metric in ('visits','fs_submits')\n                and date between date'2024-01-01' and date'2025-06-30'\n        \nINFO:root:This module works best with marketing.marketingde_gold.mmm_business_metrics table\nINFO:root:Query requires fields dma_regionid, dmacode, date, week_monday, data_name, metric, value.         If any of these is not present, include in the query, or have it as null field\nINFO:root:Date Range Changed for Object Data\n         To revert, run retrieve_data_and_clean() again\n"
     ]
    },
    {
     "output_type": "execute_result",
     "data": {
      "text/plain": [
       "{'leads': ['fs_submits'], 'visits': ['visits']}"
      ]
     },
     "execution_count": 90,
     "metadata": {},
     "output_type": "execute_result"
    }
   ],
   "source": [
    "BD = BusinessMetricsData(QUERY=business_query,time_var='date')\n",
    "BD.retrieve_data_and_clean()\n",
    "BD.filter_date_range(start_date='2024-01-01', end_date='2025-06-30') #optional\n",
    "BD.data_metric_map"
   ]
  },
  {
   "cell_type": "code",
   "execution_count": 0,
   "metadata": {
    "application/vnd.databricks.v1+cell": {
     "cellMetadata": {
      "byteLimit": 2048000,
      "rowLimit": 10000
     },
     "inputWidgets": {},
     "nuid": "9177facc-798a-4ffe-bc9c-e3d7d936c9c9",
     "showTitle": false,
     "tableResultSettingsMap": {},
     "title": ""
    }
   },
   "outputs": [],
   "source": [
    "df_bd_pivot = BD.get_pivoted_data()"
   ]
  },
  {
   "cell_type": "code",
   "execution_count": 0,
   "metadata": {
    "application/vnd.databricks.v1+cell": {
     "cellMetadata": {
      "byteLimit": 2048000,
      "rowLimit": 10000
     },
     "inputWidgets": {},
     "nuid": "d32b2937-7fe9-4ec4-a0ea-7987c92b81b1",
     "showTitle": false,
     "tableResultSettingsMap": {},
     "title": ""
    }
   },
   "outputs": [
    {
     "output_type": "stream",
     "name": "stderr",
     "output_type": "stream",
     "text": [
      "INFO:root:multilevel columns collapsed into one level using | as separator\n"
     ]
    }
   ],
   "source": [
    "mmm_data = BD.unpivot_data_for_mmm(df_bd_pivot)"
   ]
  },
  {
   "cell_type": "code",
   "execution_count": 0,
   "metadata": {
    "application/vnd.databricks.v1+cell": {
     "cellMetadata": {
      "byteLimit": 2048000,
      "rowLimit": 10000
     },
     "inputWidgets": {},
     "nuid": "f7c94f97-4b7e-4954-a310-c4e8a41dde3e",
     "showTitle": false,
     "tableResultSettingsMap": {},
     "title": ""
    }
   },
   "outputs": [],
   "source": [
    "final_overall = pd.merge(collapsed_data_overall, mmm_data,  how='outer', left_on=['dma_regionid','dmacode', 'date'], \n",
    "         right_on = ['dma_regionid','dmacode', 'date'])"
   ]
  },
  {
   "cell_type": "code",
   "execution_count": 0,
   "metadata": {
    "application/vnd.databricks.v1+cell": {
     "cellMetadata": {
      "byteLimit": 2048000,
      "rowLimit": 10000
     },
     "inputWidgets": {},
     "nuid": "82e6d290-aa64-4555-afa6-78a409937ae0",
     "showTitle": false,
     "tableResultSettingsMap": {},
     "title": ""
    }
   },
   "outputs": [
    {
     "output_type": "execute_result",
     "data": {
      "text/html": [
       "<div>\n",
       "<style scoped>\n",
       "    .dataframe tbody tr th:only-of-type {\n",
       "        vertical-align: middle;\n",
       "    }\n",
       "\n",
       "    .dataframe tbody tr th {\n",
       "        vertical-align: top;\n",
       "    }\n",
       "\n",
       "    .dataframe thead th {\n",
       "        text-align: right;\n",
       "    }\n",
       "</style>\n",
       "<table border=\"1\" class=\"dataframe\">\n",
       "  <thead>\n",
       "    <tr style=\"text-align: right;\">\n",
       "      <th></th>\n",
       "      <th>dma_regionid</th>\n",
       "      <th>dmacode</th>\n",
       "      <th>date</th>\n",
       "      <th>impressions|App|None</th>\n",
       "      <th>impressions|Audio|None</th>\n",
       "      <th>impressions|Display|None</th>\n",
       "      <th>impressions|Email|None</th>\n",
       "      <th>impressions|Media Solutions|None</th>\n",
       "      <th>impressions|Media Transformation|None</th>\n",
       "      <th>impressions|Native|None</th>\n",
       "      <th>impressions|Online Video|None</th>\n",
       "      <th>impressions|Operational Emails|None</th>\n",
       "      <th>impressions|Owned Social|None</th>\n",
       "      <th>impressions|Paid Social|None</th>\n",
       "      <th>impressions|Push|null</th>\n",
       "      <th>impressions|SEM|None</th>\n",
       "      <th>impressions|TV|None</th>\n",
       "      <th>spend|App|None</th>\n",
       "      <th>spend|Audio|None</th>\n",
       "      <th>spend|Display|None</th>\n",
       "      <th>spend|Media Solutions|None</th>\n",
       "      <th>spend|Media Transformation|None</th>\n",
       "      <th>spend|Native|None</th>\n",
       "      <th>spend|Online Video|None</th>\n",
       "      <th>spend|Owned Social|None</th>\n",
       "      <th>spend|Paid Social|None</th>\n",
       "      <th>spend|SEM|None</th>\n",
       "      <th>spend|TV|None</th>\n",
       "      <th>value|leads|fs_submits</th>\n",
       "      <th>value|visits|visits</th>\n",
       "    </tr>\n",
       "  </thead>\n",
       "  <tbody>\n",
       "    <tr>\n",
       "      <th>0</th>\n",
       "      <td>1000</td>\n",
       "      <td>1000</td>\n",
       "      <td>2024-01-01</td>\n",
       "      <td>628889.000000</td>\n",
       "      <td>0</td>\n",
       "      <td>97893.000000</td>\n",
       "      <td>32680764.000000</td>\n",
       "      <td>9864399.000000</td>\n",
       "      <td>0</td>\n",
       "      <td>0</td>\n",
       "      <td>383798.000000</td>\n",
       "      <td>21916440.000000</td>\n",
       "      <td>560632.000000</td>\n",
       "      <td>8168475.000000</td>\n",
       "      <td>35322564.000000</td>\n",
       "      <td>1270101.000000</td>\n",
       "      <td>9522642.000000</td>\n",
       "      <td>26808.300040</td>\n",
       "      <td>0.0</td>\n",
       "      <td>2681.11</td>\n",
       "      <td>100455.130003</td>\n",
       "      <td>0.0</td>\n",
       "      <td>0.0</td>\n",
       "      <td>0.0</td>\n",
       "      <td>1463.069999</td>\n",
       "      <td>26096.195445</td>\n",
       "      <td>61922.19</td>\n",
       "      <td>0.0</td>\n",
       "      <td>27950.0</td>\n",
       "      <td>17962613.0</td>\n",
       "    </tr>\n",
       "    <tr>\n",
       "      <th>1</th>\n",
       "      <td>1000</td>\n",
       "      <td>1000</td>\n",
       "      <td>2024-01-02</td>\n",
       "      <td>635776.000000</td>\n",
       "      <td>0</td>\n",
       "      <td>171916.000000</td>\n",
       "      <td>46293790.000000</td>\n",
       "      <td>5861044.000000</td>\n",
       "      <td>0</td>\n",
       "      <td>0</td>\n",
       "      <td>400319.000000</td>\n",
       "      <td>27676053.000000</td>\n",
       "      <td>500689.000000</td>\n",
       "      <td>7332041.000000</td>\n",
       "      <td>45031927.000000</td>\n",
       "      <td>1707038.000000</td>\n",
       "      <td>863725.000000</td>\n",
       "      <td>29436.050002</td>\n",
       "      <td>0.0</td>\n",
       "      <td>3479.53</td>\n",
       "      <td>64287.290008</td>\n",
       "      <td>0.0</td>\n",
       "      <td>0.0</td>\n",
       "      <td>0.0</td>\n",
       "      <td>1574.619990</td>\n",
       "      <td>25377.860190</td>\n",
       "      <td>87743.18</td>\n",
       "      <td>0.0</td>\n",
       "      <td>38760.0</td>\n",
       "      <td>21931417.0</td>\n",
       "    </tr>\n",
       "    <tr>\n",
       "      <th>2</th>\n",
       "      <td>1000</td>\n",
       "      <td>1000</td>\n",
       "      <td>2024-01-03</td>\n",
       "      <td>532644.000000</td>\n",
       "      <td>0</td>\n",
       "      <td>277838.000000</td>\n",
       "      <td>47233042.000000</td>\n",
       "      <td>5077027.000000</td>\n",
       "      <td>0</td>\n",
       "      <td>0</td>\n",
       "      <td>398238.000000</td>\n",
       "      <td>27868975.000000</td>\n",
       "      <td>251222.000000</td>\n",
       "      <td>6165194.000000</td>\n",
       "      <td>43298061.000000</td>\n",
       "      <td>1877427.000000</td>\n",
       "      <td>852958.000000</td>\n",
       "      <td>23222.050005</td>\n",
       "      <td>0.0</td>\n",
       "      <td>5450.61</td>\n",
       "      <td>63868.000004</td>\n",
       "      <td>0.0</td>\n",
       "      <td>0.0</td>\n",
       "      <td>0.0</td>\n",
       "      <td>1265.359997</td>\n",
       "      <td>22974.448232</td>\n",
       "      <td>86621.37</td>\n",
       "      <td>0.0</td>\n",
       "      <td>39215.0</td>\n",
       "      <td>13254506.0</td>\n",
       "    </tr>\n",
       "    <tr>\n",
       "      <th>3</th>\n",
       "      <td>1000</td>\n",
       "      <td>1000</td>\n",
       "      <td>2024-01-04</td>\n",
       "      <td>389072.000000</td>\n",
       "      <td>0</td>\n",
       "      <td>211111.000000</td>\n",
       "      <td>46352265.000000</td>\n",
       "      <td>5149437.000000</td>\n",
       "      <td>0</td>\n",
       "      <td>0</td>\n",
       "      <td>416478.000000</td>\n",
       "      <td>29187255.000000</td>\n",
       "      <td>272587.000000</td>\n",
       "      <td>6070518.000000</td>\n",
       "      <td>44317455.000000</td>\n",
       "      <td>1915965.000000</td>\n",
       "      <td>527455.000000</td>\n",
       "      <td>20868.759970</td>\n",
       "      <td>0.0</td>\n",
       "      <td>4446.66</td>\n",
       "      <td>69041.060007</td>\n",
       "      <td>0.0</td>\n",
       "      <td>0.0</td>\n",
       "      <td>0.0</td>\n",
       "      <td>1312.390005</td>\n",
       "      <td>23037.992544</td>\n",
       "      <td>86081.71</td>\n",
       "      <td>0.0</td>\n",
       "      <td>39824.0</td>\n",
       "      <td>22245772.0</td>\n",
       "    </tr>\n",
       "    <tr>\n",
       "      <th>4</th>\n",
       "      <td>1000</td>\n",
       "      <td>1000</td>\n",
       "      <td>2024-01-05</td>\n",
       "      <td>363589.000000</td>\n",
       "      <td>0</td>\n",
       "      <td>130539.000000</td>\n",
       "      <td>67862827.000000</td>\n",
       "      <td>5115388.000000</td>\n",
       "      <td>0</td>\n",
       "      <td>0</td>\n",
       "      <td>384512.000000</td>\n",
       "      <td>30244702.000000</td>\n",
       "      <td>314634.000000</td>\n",
       "      <td>6222166.000000</td>\n",
       "      <td>41193133.000000</td>\n",
       "      <td>1834050.000000</td>\n",
       "      <td>505858.000000</td>\n",
       "      <td>18338.849983</td>\n",
       "      <td>0.0</td>\n",
       "      <td>3033.56</td>\n",
       "      <td>70520.680001</td>\n",
       "      <td>0.0</td>\n",
       "      <td>0.0</td>\n",
       "      <td>0.0</td>\n",
       "      <td>1849.369991</td>\n",
       "      <td>23124.295815</td>\n",
       "      <td>83356.91</td>\n",
       "      <td>0.0</td>\n",
       "      <td>40158.0</td>\n",
       "      <td>21514097.0</td>\n",
       "    </tr>\n",
       "  </tbody>\n",
       "</table>\n",
       "</div>"
      ],
      "text/plain": [
       "   dma_regionid  dmacode  ... value|leads|fs_submits value|visits|visits\n",
       "0          1000     1000  ...                27950.0          17962613.0\n",
       "1          1000     1000  ...                38760.0          21931417.0\n",
       "2          1000     1000  ...                39215.0          13254506.0\n",
       "3          1000     1000  ...                39824.0          22245772.0\n",
       "4          1000     1000  ...                40158.0          21514097.0\n",
       "\n",
       "[5 rows x 30 columns]"
      ]
     },
     "execution_count": 94,
     "metadata": {},
     "output_type": "execute_result"
    }
   ],
   "source": [
    "final_overall.head()"
   ]
  },
  {
   "cell_type": "code",
   "execution_count": 0,
   "metadata": {
    "application/vnd.databricks.v1+cell": {
     "cellMetadata": {
      "byteLimit": 2048000,
      "rowLimit": 10000
     },
     "inputWidgets": {},
     "nuid": "77393ffc-e35f-4e08-966f-6c9084c9990c",
     "showTitle": false,
     "tableResultSettingsMap": {},
     "title": ""
    }
   },
   "outputs": [],
   "source": [
    "# Aggregate it to monthly level\n",
    "\n",
    "month = [i.strftime('%Y-%m-01') for i in final_overall['date'].tolist()]"
   ]
  },
  {
   "cell_type": "code",
   "execution_count": 0,
   "metadata": {
    "application/vnd.databricks.v1+cell": {
     "cellMetadata": {
      "byteLimit": 2048000,
      "rowLimit": 10000
     },
     "inputWidgets": {},
     "nuid": "3e086e4b-22d1-4e9b-943a-ee3ac46d4bd1",
     "showTitle": false,
     "tableResultSettingsMap": {},
     "title": ""
    }
   },
   "outputs": [],
   "source": [
    "final_overall['month'] = month"
   ]
  },
  {
   "cell_type": "code",
   "execution_count": 0,
   "metadata": {
    "application/vnd.databricks.v1+cell": {
     "cellMetadata": {
      "byteLimit": 2048000,
      "rowLimit": 10000
     },
     "inputWidgets": {},
     "nuid": "a566a56d-8338-44f0-b818-17d8767b1dcf",
     "showTitle": false,
     "tableResultSettingsMap": {},
     "title": ""
    }
   },
   "outputs": [],
   "source": [
    "# Let's just aggregate the marketing impression variables to a monthly level\n",
    "\n",
    "aggregated = final_overall[['month'] + [i for i in final_overall.columns if i.startswith('impressions|')] + ['value|visits|visits','value|leads|fs_submits']].groupby('month').sum().reset_index()"
   ]
  },
  {
   "cell_type": "code",
   "execution_count": 0,
   "metadata": {
    "application/vnd.databricks.v1+cell": {
     "cellMetadata": {
      "byteLimit": 2048000,
      "rowLimit": 10000
     },
     "inputWidgets": {},
     "nuid": "b21ac89c-e455-4e17-b1da-23329c18e60a",
     "showTitle": false,
     "tableResultSettingsMap": {
      "0": {
       "dataGridStateBlob": "{\"version\":1,\"tableState\":{\"columnPinning\":{\"left\":[\"#row_number#\"],\"right\":[]},\"columnSizing\":{},\"columnVisibility\":{}},\"settings\":{\"columns\":{}},\"syncTimestamp\":1752628598758}",
       "filterBlob": null,
       "queryPlanFiltersBlob": null,
       "tableResultIndex": 0
      }
     },
     "title": ""
    }
   },
   "outputs": [
    {
     "output_type": "display_data",
     "data": {
      "text/html": [
       "<style scoped>\n",
       "  .table-result-container {\n",
       "    max-height: 300px;\n",
       "    overflow: auto;\n",
       "  }\n",
       "  table, th, td {\n",
       "    border: 1px solid black;\n",
       "    border-collapse: collapse;\n",
       "  }\n",
       "  th, td {\n",
       "    padding: 5px;\n",
       "  }\n",
       "  th {\n",
       "    text-align: left;\n",
       "  }\n",
       "</style><div class='table-result-container'><table class='table-result'><thead style='background-color: white'><tr><th>month</th><th>impressions|App|None</th><th>impressions|Audio|None</th><th>impressions|Display|None</th><th>impressions|Email|None</th><th>impressions|Media Solutions|None</th><th>impressions|Media Transformation|None</th><th>impressions|Native|None</th><th>impressions|Online Video|None</th><th>impressions|Operational Emails|None</th><th>impressions|Owned Social|None</th><th>impressions|Paid Social|None</th><th>impressions|Push|null</th><th>impressions|SEM|None</th><th>impressions|TV|None</th><th>value|visits|visits</th><th>value|leads|fs_submits</th></tr></thead><tbody><tr><td>2024-01-01</td><td>15418116.000000</td><td>0.000000</td><td>6046432.000000</td><td>1389711143.000000</td><td>141313189.000000</td><td>0.000000</td><td>0.000000</td><td>43317641.000000</td><td>795910962.000000</td><td>29987884.000000</td><td>180361887.000000</td><td>1268654564.000000</td><td>50912034.000000</td><td>14964913.000000</td><td>6.59262923E8</td><td>1164173.0</td></tr><tr><td>2024-02-01</td><td>21147175.000000</td><td>0.000000</td><td>2624475.000000</td><td>1374394752.000000</td><td>127365878.000000</td><td>0.000000</td><td>0.000000</td><td>207385449.000000</td><td>785563501.000000</td><td>32590991.000000</td><td>163930205.000000</td><td>1257050711.000000</td><td>50825612.000000</td><td>15116498.000000</td><td>6.61721641E8</td><td>1129000.0</td></tr><tr><td>2024-03-01</td><td>11103891.000000</td><td>0.000000</td><td>9819688.000000</td><td>1522981463.000000</td><td>132878494.000000</td><td>0.000000</td><td>0.000000</td><td>19928998.000000</td><td>870353729.000000</td><td>15409682.000000</td><td>164611075.000000</td><td>1377565023.000000</td><td>60407020.000000</td><td>517707617.000000</td><td>7.2538253E8</td><td>1204195.0</td></tr><tr><td>2024-04-01</td><td>13610015.000000</td><td>0.000000</td><td>2916103.000000</td><td>1511862713.000000</td><td>137975063.000000</td><td>0.000000</td><td>0.000000</td><td>40625320.000000</td><td>53768.000000</td><td>35497589.000000</td><td>203958287.000000</td><td>2582359087.000000</td><td>60206589.000000</td><td>523915281.000000</td><td>7.35893681E8</td><td>1132327.0</td></tr><tr><td>2024-05-01</td><td>14720158.000000</td><td>0.000000</td><td>83621725.000000</td><td>1633443174.000000</td><td>54404674.000000</td><td>0.000000</td><td>73437191.000000</td><td>133684130.000000</td><td>47779.000000</td><td>23239540.000000</td><td>314598652.000000</td><td>2700575751.000000</td><td>78881327.000000</td><td>512052156.000000</td><td>7.54676143E8</td><td>1147354.0</td></tr><tr><td>2024-06-01</td><td>35626522.000000</td><td>0.000000</td><td>114346459.000000</td><td>1611832876.000000</td><td>75130912.000000</td><td>0.000000</td><td>125769152.000000</td><td>202781783.000000</td><td>4564.000000</td><td>34586203.000000</td><td>452443362.000000</td><td>3161784981.000000</td><td>88594504.000000</td><td>522611203.000000</td><td>7.46391166E8</td><td>1160323.0</td></tr><tr><td>2024-07-01</td><td>44401237.000000</td><td>0.000000</td><td>173528238.000000</td><td>1647701767.000000</td><td>57053097.000000</td><td>0.000000</td><td>190298778.000000</td><td>346996309.000000</td><td>2652740.000000</td><td>61614003.000000</td><td>625399785.000000</td><td>2772789897.000000</td><td>93709829.000000</td><td>518932130.000000</td><td>7.66010647E8</td><td>1194345.0</td></tr><tr><td>2024-08-01</td><td>42728556.000000</td><td>0.000000</td><td>127572142.000000</td><td>1678392043.000000</td><td>88494061.000000</td><td>0.000000</td><td>105421009.000000</td><td>309479333.000000</td><td>3437.000000</td><td>72729109.000000</td><td>536586302.000000</td><td>1531127811.000000</td><td>92728354.000000</td><td>413858644.000000</td><td>7.48156451E8</td><td>1165328.0</td></tr><tr><td>2024-09-01</td><td>40630647.000000</td><td>0.000000</td><td>121325721.000000</td><td>1549507505.000000</td><td>123367385.000000</td><td>0.000000</td><td>87802328.000000</td><td>275968503.000000</td><td>1923.000000</td><td>49594478.000000</td><td>456840207.000000</td><td>1484954173.000000</td><td>90041140.000000</td><td>378044072.000000</td><td>6.97981995E8</td><td>1071919.0</td></tr><tr><td>2024-10-01</td><td>24465663.000000</td><td>0.000000</td><td>9756567.000000</td><td>1515006102.000000</td><td>134726917.000000</td><td>0.000000</td><td>0.000000</td><td>49480423.000000</td><td>420.000000</td><td>17376135.000000</td><td>118901812.000000</td><td>1468687780.000000</td><td>75927413.000000</td><td>651901214.000000</td><td>6.72338878E8</td><td>1017045.0</td></tr><tr><td>2024-11-01</td><td>14646587.000000</td><td>0.000000</td><td>23038002.000000</td><td>1489076539.000000</td><td>152086583.000000</td><td>0.000000</td><td>0.000000</td><td>80835079.000000</td><td>233828.000000</td><td>13525893.000000</td><td>122056830.000000</td><td>1416301164.000000</td><td>62598284.000000</td><td>13707562.000000</td><td>6.1554908E8</td><td>937775.0</td></tr><tr><td>2024-12-01</td><td>29887198.000000</td><td>0.000000</td><td>28070207.000000</td><td>1411820026.000000</td><td>173173011.000000</td><td>0.000000</td><td>0.000000</td><td>62453740.000000</td><td>206740.000000</td><td>12344263.000000</td><td>144383965.000000</td><td>1366026179.000000</td><td>46460770.000000</td><td>639164280.000000</td><td>5.92031239E8</td><td>892072.0</td></tr><tr><td>2025-01-01</td><td>31987029.000000</td><td>0.000000</td><td>18655237.000000</td><td>1534712862.000000</td><td>152665609.000000</td><td>0.000000</td><td>0.000000</td><td>76296068.000000</td><td>86742.000000</td><td>6941569.000000</td><td>196629262.000000</td><td>1544958836.000000</td><td>80848443.000000</td><td>11659350.000000</td><td>7.08020976E8</td><td>1089069.0</td></tr><tr><td>2025-02-01</td><td>33998004.000000</td><td>384887.000000</td><td>18987034.000000</td><td>1464752180.000000</td><td>130822410.000000</td><td>0.000000</td><td>0.000000</td><td>93550666.000000</td><td>5299.000000</td><td>9363303.000000</td><td>186766491.000000</td><td>1461014818.000000</td><td>88839711.000000</td><td>284935105.000000</td><td>6.57453604E8</td><td>997994.0</td></tr><tr><td>2025-03-01</td><td>19027581.000000</td><td>2109090.000000</td><td>28026070.000000</td><td>1667716372.000000</td><td>97370864.000000</td><td>18466867.000000</td><td>59123191.000000</td><td>98342955.000000</td><td>943.000000</td><td>7743402.000000</td><td>316801197.000000</td><td>1693604314.000000</td><td>99682097.000000</td><td>288245222.000000</td><td>7.83365765E8</td><td>1163560.0</td></tr><tr><td>2025-04-01</td><td>17677310.000000</td><td>4486452.000000</td><td>89220336.000000</td><td>1621898916.000000</td><td>84820009.000000</td><td>7695703.000000</td><td>72532537.000000</td><td>269166273.000000</td><td>3986.000000</td><td>42661976.000000</td><td>620153188.000000</td><td>1729874515.000000</td><td>101361486.000000</td><td>395950969.000000</td><td>8.15813376E8</td><td>1129900.0</td></tr><tr><td>2025-05-01</td><td>22771265.000000</td><td>0.000000</td><td>91512141.000000</td><td>1661485859.000000</td><td>116542518.000000</td><td>7265265.000000</td><td>80461656.000000</td><td>267825939.000000</td><td>736096.000000</td><td>68332221.000000</td><td>618534398.000000</td><td>1797463089.000000</td><td>101724940.000000</td><td>502079644.000000</td><td>8.26157412E8</td><td>1186810.0</td></tr><tr><td>2025-06-01</td><td>16559484.000000</td><td>0.000000</td><td>87137944.000000</td><td>1618219728.000000</td><td>141926044.000000</td><td>0.000000</td><td>89656727.000000</td><td>269179769.000000</td><td>101346.000000</td><td>47585234.000000</td><td>628509019.000000</td><td>1748412626.000000</td><td>99154228.000000</td><td>296778219.000000</td><td>7.87157853E8</td><td>1113050.0</td></tr></tbody></table></div>"
      ]
     },
     "metadata": {
      "application/vnd.databricks.v1+output": {
       "addedWidgets": {},
       "aggData": [],
       "aggError": "",
       "aggOverflow": false,
       "aggSchema": [],
       "aggSeriesLimitReached": false,
       "aggType": "",
       "arguments": {},
       "columnCustomDisplayInfos": {},
       "data": [
        [
         "2024-01-01",
         "15418116.000000",
         "0.000000",
         "6046432.000000",
         "1389711143.000000",
         "141313189.000000",
         "0.000000",
         "0.000000",
         "43317641.000000",
         "795910962.000000",
         "29987884.000000",
         "180361887.000000",
         "1268654564.000000",
         "50912034.000000",
         "14964913.000000",
         6.59262923E8,
         1164173.0
        ],
        [
         "2024-02-01",
         "21147175.000000",
         "0.000000",
         "2624475.000000",
         "1374394752.000000",
         "127365878.000000",
         "0.000000",
         "0.000000",
         "207385449.000000",
         "785563501.000000",
         "32590991.000000",
         "163930205.000000",
         "1257050711.000000",
         "50825612.000000",
         "15116498.000000",
         6.61721641E8,
         1129000.0
        ],
        [
         "2024-03-01",
         "11103891.000000",
         "0.000000",
         "9819688.000000",
         "1522981463.000000",
         "132878494.000000",
         "0.000000",
         "0.000000",
         "19928998.000000",
         "870353729.000000",
         "15409682.000000",
         "164611075.000000",
         "1377565023.000000",
         "60407020.000000",
         "517707617.000000",
         7.2538253E8,
         1204195.0
        ],
        [
         "2024-04-01",
         "13610015.000000",
         "0.000000",
         "2916103.000000",
         "1511862713.000000",
         "137975063.000000",
         "0.000000",
         "0.000000",
         "40625320.000000",
         "53768.000000",
         "35497589.000000",
         "203958287.000000",
         "2582359087.000000",
         "60206589.000000",
         "523915281.000000",
         7.35893681E8,
         1132327.0
        ],
        [
         "2024-05-01",
         "14720158.000000",
         "0.000000",
         "83621725.000000",
         "1633443174.000000",
         "54404674.000000",
         "0.000000",
         "73437191.000000",
         "133684130.000000",
         "47779.000000",
         "23239540.000000",
         "314598652.000000",
         "2700575751.000000",
         "78881327.000000",
         "512052156.000000",
         7.54676143E8,
         1147354.0
        ],
        [
         "2024-06-01",
         "35626522.000000",
         "0.000000",
         "114346459.000000",
         "1611832876.000000",
         "75130912.000000",
         "0.000000",
         "125769152.000000",
         "202781783.000000",
         "4564.000000",
         "34586203.000000",
         "452443362.000000",
         "3161784981.000000",
         "88594504.000000",
         "522611203.000000",
         7.46391166E8,
         1160323.0
        ],
        [
         "2024-07-01",
         "44401237.000000",
         "0.000000",
         "173528238.000000",
         "1647701767.000000",
         "57053097.000000",
         "0.000000",
         "190298778.000000",
         "346996309.000000",
         "2652740.000000",
         "61614003.000000",
         "625399785.000000",
         "2772789897.000000",
         "93709829.000000",
         "518932130.000000",
         7.66010647E8,
         1194345.0
        ],
        [
         "2024-08-01",
         "42728556.000000",
         "0.000000",
         "127572142.000000",
         "1678392043.000000",
         "88494061.000000",
         "0.000000",
         "105421009.000000",
         "309479333.000000",
         "3437.000000",
         "72729109.000000",
         "536586302.000000",
         "1531127811.000000",
         "92728354.000000",
         "413858644.000000",
         7.48156451E8,
         1165328.0
        ],
        [
         "2024-09-01",
         "40630647.000000",
         "0.000000",
         "121325721.000000",
         "1549507505.000000",
         "123367385.000000",
         "0.000000",
         "87802328.000000",
         "275968503.000000",
         "1923.000000",
         "49594478.000000",
         "456840207.000000",
         "1484954173.000000",
         "90041140.000000",
         "378044072.000000",
         6.97981995E8,
         1071919.0
        ],
        [
         "2024-10-01",
         "24465663.000000",
         "0.000000",
         "9756567.000000",
         "1515006102.000000",
         "134726917.000000",
         "0.000000",
         "0.000000",
         "49480423.000000",
         "420.000000",
         "17376135.000000",
         "118901812.000000",
         "1468687780.000000",
         "75927413.000000",
         "651901214.000000",
         6.72338878E8,
         1017045.0
        ],
        [
         "2024-11-01",
         "14646587.000000",
         "0.000000",
         "23038002.000000",
         "1489076539.000000",
         "152086583.000000",
         "0.000000",
         "0.000000",
         "80835079.000000",
         "233828.000000",
         "13525893.000000",
         "122056830.000000",
         "1416301164.000000",
         "62598284.000000",
         "13707562.000000",
         6.1554908E8,
         937775.0
        ],
        [
         "2024-12-01",
         "29887198.000000",
         "0.000000",
         "28070207.000000",
         "1411820026.000000",
         "173173011.000000",
         "0.000000",
         "0.000000",
         "62453740.000000",
         "206740.000000",
         "12344263.000000",
         "144383965.000000",
         "1366026179.000000",
         "46460770.000000",
         "639164280.000000",
         5.92031239E8,
         892072.0
        ],
        [
         "2025-01-01",
         "31987029.000000",
         "0.000000",
         "18655237.000000",
         "1534712862.000000",
         "152665609.000000",
         "0.000000",
         "0.000000",
         "76296068.000000",
         "86742.000000",
         "6941569.000000",
         "196629262.000000",
         "1544958836.000000",
         "80848443.000000",
         "11659350.000000",
         7.08020976E8,
         1089069.0
        ],
        [
         "2025-02-01",
         "33998004.000000",
         "384887.000000",
         "18987034.000000",
         "1464752180.000000",
         "130822410.000000",
         "0.000000",
         "0.000000",
         "93550666.000000",
         "5299.000000",
         "9363303.000000",
         "186766491.000000",
         "1461014818.000000",
         "88839711.000000",
         "284935105.000000",
         6.57453604E8,
         997994.0
        ],
        [
         "2025-03-01",
         "19027581.000000",
         "2109090.000000",
         "28026070.000000",
         "1667716372.000000",
         "97370864.000000",
         "18466867.000000",
         "59123191.000000",
         "98342955.000000",
         "943.000000",
         "7743402.000000",
         "316801197.000000",
         "1693604314.000000",
         "99682097.000000",
         "288245222.000000",
         7.83365765E8,
         1163560.0
        ],
        [
         "2025-04-01",
         "17677310.000000",
         "4486452.000000",
         "89220336.000000",
         "1621898916.000000",
         "84820009.000000",
         "7695703.000000",
         "72532537.000000",
         "269166273.000000",
         "3986.000000",
         "42661976.000000",
         "620153188.000000",
         "1729874515.000000",
         "101361486.000000",
         "395950969.000000",
         8.15813376E8,
         1129900.0
        ],
        [
         "2025-05-01",
         "22771265.000000",
         "0.000000",
         "91512141.000000",
         "1661485859.000000",
         "116542518.000000",
         "7265265.000000",
         "80461656.000000",
         "267825939.000000",
         "736096.000000",
         "68332221.000000",
         "618534398.000000",
         "1797463089.000000",
         "101724940.000000",
         "502079644.000000",
         8.26157412E8,
         1186810.0
        ],
        [
         "2025-06-01",
         "16559484.000000",
         "0.000000",
         "87137944.000000",
         "1618219728.000000",
         "141926044.000000",
         "0.000000",
         "89656727.000000",
         "269179769.000000",
         "101346.000000",
         "47585234.000000",
         "628509019.000000",
         "1748412626.000000",
         "99154228.000000",
         "296778219.000000",
         7.87157853E8,
         1113050.0
        ]
       ],
       "datasetInfos": [],
       "dbfsResultPath": null,
       "isJsonSchema": true,
       "metadata": {},
       "overflow": false,
       "plotOptions": {
        "customPlotOptions": {},
        "displayType": "table",
        "pivotAggregation": null,
        "pivotColumns": null,
        "xColumns": null,
        "yColumns": null
       },
       "removedWidgets": [],
       "schema": [
        {
         "metadata": "{}",
         "name": "month",
         "type": "\"string\""
        },
        {
         "metadata": "{}",
         "name": "impressions|App|None",
         "type": "\"decimal(14,6)\""
        },
        {
         "metadata": "{}",
         "name": "impressions|Audio|None",
         "type": "\"decimal(13,6)\""
        },
        {
         "metadata": "{}",
         "name": "impressions|Display|None",
         "type": "\"decimal(15,6)\""
        },
        {
         "metadata": "{}",
         "name": "impressions|Email|None",
         "type": "\"decimal(16,6)\""
        },
        {
         "metadata": "{}",
         "name": "impressions|Media Solutions|None",
         "type": "\"decimal(15,6)\""
        },
        {
         "metadata": "{}",
         "name": "impressions|Media Transformation|None",
         "type": "\"decimal(14,6)\""
        },
        {
         "metadata": "{}",
         "name": "impressions|Native|None",
         "type": "\"decimal(15,6)\""
        },
        {
         "metadata": "{}",
         "name": "impressions|Online Video|None",
         "type": "\"decimal(15,6)\""
        },
        {
         "metadata": "{}",
         "name": "impressions|Operational Emails|None",
         "type": "\"decimal(15,6)\""
        },
        {
         "metadata": "{}",
         "name": "impressions|Owned Social|None",
         "type": "\"decimal(14,6)\""
        },
        {
         "metadata": "{}",
         "name": "impressions|Paid Social|None",
         "type": "\"decimal(15,6)\""
        },
        {
         "metadata": "{}",
         "name": "impressions|Push|null",
         "type": "\"decimal(16,6)\""
        },
        {
         "metadata": "{}",
         "name": "impressions|SEM|None",
         "type": "\"decimal(15,6)\""
        },
        {
         "metadata": "{}",
         "name": "impressions|TV|None",
         "type": "\"decimal(15,6)\""
        },
        {
         "metadata": "{}",
         "name": "value|visits|visits",
         "type": "\"double\""
        },
        {
         "metadata": "{}",
         "name": "value|leads|fs_submits",
         "type": "\"double\""
        }
       ],
       "type": "table"
      }
     },
     "output_type": "display_data"
    }
   ],
   "source": [
    "display(aggregated)"
   ]
  },
  {
   "cell_type": "code",
   "execution_count": 0,
   "metadata": {
    "application/vnd.databricks.v1+cell": {
     "cellMetadata": {
      "byteLimit": 2048000,
      "rowLimit": 10000
     },
     "inputWidgets": {},
     "nuid": "585ef12a-c406-49ac-8358-13cb5f61180d",
     "showTitle": false,
     "tableResultSettingsMap": {},
     "title": ""
    }
   },
   "outputs": [],
   "source": [
    "# Fix the column names\n",
    "\n",
    "aggregated.columns = [col.replace('|', '_').replace(' ','') for col in aggregated.columns]"
   ]
  },
  {
   "cell_type": "code",
   "execution_count": 0,
   "metadata": {
    "application/vnd.databricks.v1+cell": {
     "cellMetadata": {
      "byteLimit": 2048000,
      "rowLimit": 10000
     },
     "inputWidgets": {},
     "nuid": "b741e27f-e0f7-4f63-aba1-398ce094e38f",
     "showTitle": false,
     "tableResultSettingsMap": {
      "0": {
       "dataGridStateBlob": "{\"version\":1,\"tableState\":{\"columnPinning\":{\"left\":[\"#row_number#\"],\"right\":[]},\"columnSizing\":{},\"columnVisibility\":{}},\"settings\":{\"columns\":{}},\"syncTimestamp\":1752596109631}",
       "filterBlob": null,
       "queryPlanFiltersBlob": null,
       "tableResultIndex": 0
      }
     },
     "title": ""
    }
   },
   "outputs": [
    {
     "output_type": "display_data",
     "data": {
      "text/html": [
       "<style scoped>\n",
       "  .table-result-container {\n",
       "    max-height: 300px;\n",
       "    overflow: auto;\n",
       "  }\n",
       "  table, th, td {\n",
       "    border: 1px solid black;\n",
       "    border-collapse: collapse;\n",
       "  }\n",
       "  th, td {\n",
       "    padding: 5px;\n",
       "  }\n",
       "  th {\n",
       "    text-align: left;\n",
       "  }\n",
       "</style><div class='table-result-container'><table class='table-result'><thead style='background-color: white'><tr><th>month</th><th>impressions_App_None</th><th>impressions_Audio_None</th><th>impressions_Display_None</th><th>impressions_Email_None</th><th>impressions_MediaSolutions_None</th><th>impressions_MediaTransformation_None</th><th>impressions_Native_None</th><th>impressions_OnlineVideo_None</th><th>impressions_OperationalEmails_None</th><th>impressions_OwnedSocial_None</th><th>impressions_PaidSocial_None</th><th>impressions_Push_null</th><th>impressions_SEM_None</th><th>impressions_TV_None</th><th>value_visits_visits</th><th>value_leads_fs_submits</th></tr></thead><tbody><tr><td>2024-01-01</td><td>15418116.000000</td><td>0.000000</td><td>6046432.000000</td><td>1389711143.000000</td><td>141313189.000000</td><td>0.000000</td><td>0.000000</td><td>43317641.000000</td><td>795910962.000000</td><td>29987884.000000</td><td>180361887.000000</td><td>1268654564.000000</td><td>50912034.000000</td><td>14964913.000000</td><td>6.59262923E8</td><td>1164173.0</td></tr><tr><td>2024-02-01</td><td>21147175.000000</td><td>0.000000</td><td>2624475.000000</td><td>1374394752.000000</td><td>127365878.000000</td><td>0.000000</td><td>0.000000</td><td>207385449.000000</td><td>785563501.000000</td><td>32590991.000000</td><td>163930205.000000</td><td>1257050711.000000</td><td>50825612.000000</td><td>15116498.000000</td><td>6.61721641E8</td><td>1129000.0</td></tr><tr><td>2024-03-01</td><td>11103891.000000</td><td>0.000000</td><td>9819688.000000</td><td>1522981463.000000</td><td>132878494.000000</td><td>0.000000</td><td>0.000000</td><td>19928998.000000</td><td>870353729.000000</td><td>15409682.000000</td><td>164611075.000000</td><td>1377565023.000000</td><td>60407020.000000</td><td>517707617.000000</td><td>7.2538253E8</td><td>1204195.0</td></tr><tr><td>2024-04-01</td><td>13610015.000000</td><td>0.000000</td><td>2916103.000000</td><td>1511862713.000000</td><td>137975063.000000</td><td>0.000000</td><td>0.000000</td><td>40625320.000000</td><td>53768.000000</td><td>35497589.000000</td><td>203958287.000000</td><td>2582359087.000000</td><td>60206589.000000</td><td>523915281.000000</td><td>7.35893681E8</td><td>1132327.0</td></tr><tr><td>2024-05-01</td><td>14720158.000000</td><td>0.000000</td><td>83621725.000000</td><td>1633443174.000000</td><td>54404674.000000</td><td>0.000000</td><td>73437191.000000</td><td>133684130.000000</td><td>47779.000000</td><td>23239540.000000</td><td>314598652.000000</td><td>2700575751.000000</td><td>78881327.000000</td><td>512052156.000000</td><td>7.54676143E8</td><td>1147354.0</td></tr><tr><td>2024-06-01</td><td>35626522.000000</td><td>0.000000</td><td>114346459.000000</td><td>1611832876.000000</td><td>75130912.000000</td><td>0.000000</td><td>125769152.000000</td><td>202781783.000000</td><td>4564.000000</td><td>34586203.000000</td><td>452443362.000000</td><td>3161784981.000000</td><td>88594504.000000</td><td>522611203.000000</td><td>7.46391166E8</td><td>1160323.0</td></tr><tr><td>2024-07-01</td><td>44401237.000000</td><td>0.000000</td><td>173528238.000000</td><td>1647701767.000000</td><td>57053097.000000</td><td>0.000000</td><td>190298778.000000</td><td>346996309.000000</td><td>2652740.000000</td><td>61614003.000000</td><td>625399785.000000</td><td>2772789897.000000</td><td>93709829.000000</td><td>518932130.000000</td><td>7.66010647E8</td><td>1194345.0</td></tr><tr><td>2024-08-01</td><td>42728556.000000</td><td>0.000000</td><td>127572142.000000</td><td>1678392043.000000</td><td>88494061.000000</td><td>0.000000</td><td>105421009.000000</td><td>309479333.000000</td><td>3437.000000</td><td>72729109.000000</td><td>536586302.000000</td><td>1531127811.000000</td><td>92728354.000000</td><td>413858644.000000</td><td>7.48156451E8</td><td>1165328.0</td></tr><tr><td>2024-09-01</td><td>40630647.000000</td><td>0.000000</td><td>121325721.000000</td><td>1549507505.000000</td><td>123367385.000000</td><td>0.000000</td><td>87802328.000000</td><td>275968503.000000</td><td>1923.000000</td><td>49594478.000000</td><td>456840207.000000</td><td>1484954173.000000</td><td>90041140.000000</td><td>378044072.000000</td><td>6.97981995E8</td><td>1071919.0</td></tr><tr><td>2024-10-01</td><td>24465663.000000</td><td>0.000000</td><td>9756567.000000</td><td>1515006102.000000</td><td>134726917.000000</td><td>0.000000</td><td>0.000000</td><td>49480423.000000</td><td>420.000000</td><td>17376135.000000</td><td>118901812.000000</td><td>1468687780.000000</td><td>75927413.000000</td><td>651901214.000000</td><td>6.72338878E8</td><td>1017045.0</td></tr><tr><td>2024-11-01</td><td>14646587.000000</td><td>0.000000</td><td>23038002.000000</td><td>1489076539.000000</td><td>152086583.000000</td><td>0.000000</td><td>0.000000</td><td>80835079.000000</td><td>233828.000000</td><td>13525893.000000</td><td>122056830.000000</td><td>1416301164.000000</td><td>62598284.000000</td><td>13707562.000000</td><td>6.1554908E8</td><td>937775.0</td></tr><tr><td>2024-12-01</td><td>29887198.000000</td><td>0.000000</td><td>28070207.000000</td><td>1411820026.000000</td><td>173173011.000000</td><td>0.000000</td><td>0.000000</td><td>62453740.000000</td><td>206740.000000</td><td>12344263.000000</td><td>144383965.000000</td><td>1366026179.000000</td><td>46460770.000000</td><td>639164280.000000</td><td>5.92031239E8</td><td>892072.0</td></tr><tr><td>2025-01-01</td><td>31987029.000000</td><td>0.000000</td><td>18655237.000000</td><td>1534712862.000000</td><td>152665609.000000</td><td>0.000000</td><td>0.000000</td><td>76296068.000000</td><td>86742.000000</td><td>6941569.000000</td><td>196629262.000000</td><td>1544958836.000000</td><td>80848443.000000</td><td>11659350.000000</td><td>7.08020976E8</td><td>1089069.0</td></tr><tr><td>2025-02-01</td><td>33998004.000000</td><td>384887.000000</td><td>18987034.000000</td><td>1464752180.000000</td><td>130822410.000000</td><td>0.000000</td><td>0.000000</td><td>93550666.000000</td><td>5299.000000</td><td>9363303.000000</td><td>186766491.000000</td><td>1461014818.000000</td><td>88839711.000000</td><td>284935105.000000</td><td>6.57453604E8</td><td>997994.0</td></tr><tr><td>2025-03-01</td><td>19027581.000000</td><td>2109090.000000</td><td>28026070.000000</td><td>1667716372.000000</td><td>97370864.000000</td><td>18466867.000000</td><td>59123191.000000</td><td>98342955.000000</td><td>943.000000</td><td>7743402.000000</td><td>316801197.000000</td><td>1693604314.000000</td><td>99682097.000000</td><td>288245222.000000</td><td>7.83365765E8</td><td>1163560.0</td></tr><tr><td>2025-04-01</td><td>17677310.000000</td><td>4486452.000000</td><td>89220336.000000</td><td>1621898916.000000</td><td>84820009.000000</td><td>7695703.000000</td><td>72532537.000000</td><td>269166273.000000</td><td>3986.000000</td><td>42661976.000000</td><td>620153188.000000</td><td>1729874515.000000</td><td>101361486.000000</td><td>395950969.000000</td><td>8.15813376E8</td><td>1129900.0</td></tr><tr><td>2025-05-01</td><td>22771265.000000</td><td>0.000000</td><td>91512141.000000</td><td>1661485859.000000</td><td>116542518.000000</td><td>7265265.000000</td><td>80461656.000000</td><td>267825939.000000</td><td>736096.000000</td><td>68332221.000000</td><td>618534398.000000</td><td>1797463089.000000</td><td>101724940.000000</td><td>502079644.000000</td><td>8.26157412E8</td><td>1186810.0</td></tr><tr><td>2025-06-01</td><td>16559484.000000</td><td>0.000000</td><td>87137944.000000</td><td>1618219728.000000</td><td>141926044.000000</td><td>0.000000</td><td>89656727.000000</td><td>269179769.000000</td><td>101346.000000</td><td>47585234.000000</td><td>628509019.000000</td><td>1748412626.000000</td><td>99154228.000000</td><td>296778219.000000</td><td>7.87157853E8</td><td>1113050.0</td></tr></tbody></table></div>"
      ]
     },
     "metadata": {
      "application/vnd.databricks.v1+output": {
       "addedWidgets": {},
       "aggData": [],
       "aggError": "",
       "aggOverflow": false,
       "aggSchema": [],
       "aggSeriesLimitReached": false,
       "aggType": "",
       "arguments": {},
       "columnCustomDisplayInfos": {},
       "data": [
        [
         "2024-01-01",
         "15418116.000000",
         "0.000000",
         "6046432.000000",
         "1389711143.000000",
         "141313189.000000",
         "0.000000",
         "0.000000",
         "43317641.000000",
         "795910962.000000",
         "29987884.000000",
         "180361887.000000",
         "1268654564.000000",
         "50912034.000000",
         "14964913.000000",
         6.59262923E8,
         1164173.0
        ],
        [
         "2024-02-01",
         "21147175.000000",
         "0.000000",
         "2624475.000000",
         "1374394752.000000",
         "127365878.000000",
         "0.000000",
         "0.000000",
         "207385449.000000",
         "785563501.000000",
         "32590991.000000",
         "163930205.000000",
         "1257050711.000000",
         "50825612.000000",
         "15116498.000000",
         6.61721641E8,
         1129000.0
        ],
        [
         "2024-03-01",
         "11103891.000000",
         "0.000000",
         "9819688.000000",
         "1522981463.000000",
         "132878494.000000",
         "0.000000",
         "0.000000",
         "19928998.000000",
         "870353729.000000",
         "15409682.000000",
         "164611075.000000",
         "1377565023.000000",
         "60407020.000000",
         "517707617.000000",
         7.2538253E8,
         1204195.0
        ],
        [
         "2024-04-01",
         "13610015.000000",
         "0.000000",
         "2916103.000000",
         "1511862713.000000",
         "137975063.000000",
         "0.000000",
         "0.000000",
         "40625320.000000",
         "53768.000000",
         "35497589.000000",
         "203958287.000000",
         "2582359087.000000",
         "60206589.000000",
         "523915281.000000",
         7.35893681E8,
         1132327.0
        ],
        [
         "2024-05-01",
         "14720158.000000",
         "0.000000",
         "83621725.000000",
         "1633443174.000000",
         "54404674.000000",
         "0.000000",
         "73437191.000000",
         "133684130.000000",
         "47779.000000",
         "23239540.000000",
         "314598652.000000",
         "2700575751.000000",
         "78881327.000000",
         "512052156.000000",
         7.54676143E8,
         1147354.0
        ],
        [
         "2024-06-01",
         "35626522.000000",
         "0.000000",
         "114346459.000000",
         "1611832876.000000",
         "75130912.000000",
         "0.000000",
         "125769152.000000",
         "202781783.000000",
         "4564.000000",
         "34586203.000000",
         "452443362.000000",
         "3161784981.000000",
         "88594504.000000",
         "522611203.000000",
         7.46391166E8,
         1160323.0
        ],
        [
         "2024-07-01",
         "44401237.000000",
         "0.000000",
         "173528238.000000",
         "1647701767.000000",
         "57053097.000000",
         "0.000000",
         "190298778.000000",
         "346996309.000000",
         "2652740.000000",
         "61614003.000000",
         "625399785.000000",
         "2772789897.000000",
         "93709829.000000",
         "518932130.000000",
         7.66010647E8,
         1194345.0
        ],
        [
         "2024-08-01",
         "42728556.000000",
         "0.000000",
         "127572142.000000",
         "1678392043.000000",
         "88494061.000000",
         "0.000000",
         "105421009.000000",
         "309479333.000000",
         "3437.000000",
         "72729109.000000",
         "536586302.000000",
         "1531127811.000000",
         "92728354.000000",
         "413858644.000000",
         7.48156451E8,
         1165328.0
        ],
        [
         "2024-09-01",
         "40630647.000000",
         "0.000000",
         "121325721.000000",
         "1549507505.000000",
         "123367385.000000",
         "0.000000",
         "87802328.000000",
         "275968503.000000",
         "1923.000000",
         "49594478.000000",
         "456840207.000000",
         "1484954173.000000",
         "90041140.000000",
         "378044072.000000",
         6.97981995E8,
         1071919.0
        ],
        [
         "2024-10-01",
         "24465663.000000",
         "0.000000",
         "9756567.000000",
         "1515006102.000000",
         "134726917.000000",
         "0.000000",
         "0.000000",
         "49480423.000000",
         "420.000000",
         "17376135.000000",
         "118901812.000000",
         "1468687780.000000",
         "75927413.000000",
         "651901214.000000",
         6.72338878E8,
         1017045.0
        ],
        [
         "2024-11-01",
         "14646587.000000",
         "0.000000",
         "23038002.000000",
         "1489076539.000000",
         "152086583.000000",
         "0.000000",
         "0.000000",
         "80835079.000000",
         "233828.000000",
         "13525893.000000",
         "122056830.000000",
         "1416301164.000000",
         "62598284.000000",
         "13707562.000000",
         6.1554908E8,
         937775.0
        ],
        [
         "2024-12-01",
         "29887198.000000",
         "0.000000",
         "28070207.000000",
         "1411820026.000000",
         "173173011.000000",
         "0.000000",
         "0.000000",
         "62453740.000000",
         "206740.000000",
         "12344263.000000",
         "144383965.000000",
         "1366026179.000000",
         "46460770.000000",
         "639164280.000000",
         5.92031239E8,
         892072.0
        ],
        [
         "2025-01-01",
         "31987029.000000",
         "0.000000",
         "18655237.000000",
         "1534712862.000000",
         "152665609.000000",
         "0.000000",
         "0.000000",
         "76296068.000000",
         "86742.000000",
         "6941569.000000",
         "196629262.000000",
         "1544958836.000000",
         "80848443.000000",
         "11659350.000000",
         7.08020976E8,
         1089069.0
        ],
        [
         "2025-02-01",
         "33998004.000000",
         "384887.000000",
         "18987034.000000",
         "1464752180.000000",
         "130822410.000000",
         "0.000000",
         "0.000000",
         "93550666.000000",
         "5299.000000",
         "9363303.000000",
         "186766491.000000",
         "1461014818.000000",
         "88839711.000000",
         "284935105.000000",
         6.57453604E8,
         997994.0
        ],
        [
         "2025-03-01",
         "19027581.000000",
         "2109090.000000",
         "28026070.000000",
         "1667716372.000000",
         "97370864.000000",
         "18466867.000000",
         "59123191.000000",
         "98342955.000000",
         "943.000000",
         "7743402.000000",
         "316801197.000000",
         "1693604314.000000",
         "99682097.000000",
         "288245222.000000",
         7.83365765E8,
         1163560.0
        ],
        [
         "2025-04-01",
         "17677310.000000",
         "4486452.000000",
         "89220336.000000",
         "1621898916.000000",
         "84820009.000000",
         "7695703.000000",
         "72532537.000000",
         "269166273.000000",
         "3986.000000",
         "42661976.000000",
         "620153188.000000",
         "1729874515.000000",
         "101361486.000000",
         "395950969.000000",
         8.15813376E8,
         1129900.0
        ],
        [
         "2025-05-01",
         "22771265.000000",
         "0.000000",
         "91512141.000000",
         "1661485859.000000",
         "116542518.000000",
         "7265265.000000",
         "80461656.000000",
         "267825939.000000",
         "736096.000000",
         "68332221.000000",
         "618534398.000000",
         "1797463089.000000",
         "101724940.000000",
         "502079644.000000",
         8.26157412E8,
         1186810.0
        ],
        [
         "2025-06-01",
         "16559484.000000",
         "0.000000",
         "87137944.000000",
         "1618219728.000000",
         "141926044.000000",
         "0.000000",
         "89656727.000000",
         "269179769.000000",
         "101346.000000",
         "47585234.000000",
         "628509019.000000",
         "1748412626.000000",
         "99154228.000000",
         "296778219.000000",
         7.87157853E8,
         1113050.0
        ]
       ],
       "datasetInfos": [],
       "dbfsResultPath": null,
       "isJsonSchema": true,
       "metadata": {},
       "overflow": false,
       "plotOptions": {
        "customPlotOptions": {},
        "displayType": "table",
        "pivotAggregation": null,
        "pivotColumns": null,
        "xColumns": null,
        "yColumns": null
       },
       "removedWidgets": [],
       "schema": [
        {
         "metadata": "{}",
         "name": "month",
         "type": "\"string\""
        },
        {
         "metadata": "{}",
         "name": "impressions_App_None",
         "type": "\"decimal(14,6)\""
        },
        {
         "metadata": "{}",
         "name": "impressions_Audio_None",
         "type": "\"decimal(13,6)\""
        },
        {
         "metadata": "{}",
         "name": "impressions_Display_None",
         "type": "\"decimal(15,6)\""
        },
        {
         "metadata": "{}",
         "name": "impressions_Email_None",
         "type": "\"decimal(16,6)\""
        },
        {
         "metadata": "{}",
         "name": "impressions_MediaSolutions_None",
         "type": "\"decimal(15,6)\""
        },
        {
         "metadata": "{}",
         "name": "impressions_MediaTransformation_None",
         "type": "\"decimal(14,6)\""
        },
        {
         "metadata": "{}",
         "name": "impressions_Native_None",
         "type": "\"decimal(15,6)\""
        },
        {
         "metadata": "{}",
         "name": "impressions_OnlineVideo_None",
         "type": "\"decimal(15,6)\""
        },
        {
         "metadata": "{}",
         "name": "impressions_OperationalEmails_None",
         "type": "\"decimal(15,6)\""
        },
        {
         "metadata": "{}",
         "name": "impressions_OwnedSocial_None",
         "type": "\"decimal(14,6)\""
        },
        {
         "metadata": "{}",
         "name": "impressions_PaidSocial_None",
         "type": "\"decimal(15,6)\""
        },
        {
         "metadata": "{}",
         "name": "impressions_Push_null",
         "type": "\"decimal(16,6)\""
        },
        {
         "metadata": "{}",
         "name": "impressions_SEM_None",
         "type": "\"decimal(15,6)\""
        },
        {
         "metadata": "{}",
         "name": "impressions_TV_None",
         "type": "\"decimal(15,6)\""
        },
        {
         "metadata": "{}",
         "name": "value_visits_visits",
         "type": "\"double\""
        },
        {
         "metadata": "{}",
         "name": "value_leads_fs_submits",
         "type": "\"double\""
        }
       ],
       "type": "table"
      }
     },
     "output_type": "display_data"
    }
   ],
   "source": [
    "display(aggregated)"
   ]
  },
  {
   "cell_type": "code",
   "execution_count": 0,
   "metadata": {
    "application/vnd.databricks.v1+cell": {
     "cellMetadata": {
      "byteLimit": 2048000,
      "implicitDf": true,
      "rowLimit": 10000
     },
     "inputWidgets": {},
     "nuid": "06922e6d-9ce1-4b12-9d5a-8765a2408280",
     "showTitle": false,
     "tableResultSettingsMap": {},
     "title": ""
    }
   },
   "outputs": [],
   "source": [
    "%sql\n",
    "\n",
    "drop table if exists sandbox_desa.u_adityapu.bii_data_for_causal_analysis"
   ]
  },
  {
   "cell_type": "code",
   "execution_count": 0,
   "metadata": {
    "application/vnd.databricks.v1+cell": {
     "cellMetadata": {
      "byteLimit": 2048000,
      "rowLimit": 10000
     },
     "inputWidgets": {},
     "nuid": "9d213332-36c4-4290-b1cb-30926b641a73",
     "showTitle": false,
     "tableResultSettingsMap": {},
     "title": ""
    }
   },
   "outputs": [],
   "source": [
    "# Write this to a table for me to pull it later\n",
    "\n",
    "agg_sp = spark.createDataFrame(aggregated)\n",
    "\n",
    "agg_sp.write.mode('overwrite').saveAsTable(\"sandbox_desa.u_adityapu.bii_data_for_causal_analysis\")"
   ]
  },
  {
   "cell_type": "code",
   "execution_count": 0,
   "metadata": {
    "application/vnd.databricks.v1+cell": {
     "cellMetadata": {
      "byteLimit": 2048000,
      "rowLimit": 10000
     },
     "inputWidgets": {},
     "nuid": "63a74bcc-6ca2-419f-b403-5257609fdf45",
     "showTitle": false,
     "tableResultSettingsMap": {},
     "title": ""
    }
   },
   "outputs": [
    {
     "output_type": "stream",
     "name": "stderr",
     "output_type": "stream",
     "text": [
      "/databricks/spark/python/pyspark/sql/pandas/utils.py:149: UserWarning: The conversion of DecimalType columns is inefficient and may take a long time. Column names: [impressions_App_None, impressions_Audio_None, impressions_Display_None, impressions_Email_None, impressions_MediaSolutions_None, impressions_MediaTransformation_None, impressions_Native_None, impressions_OnlineVideo_None, impressions_OperationalEmails_None, impressions_OwnedSocial_None, impressions_PaidSocial_None, impressions_Push_null, impressions_SEM_None, impressions_TV_None] If those columns are not necessary, you may consider dropping them or converting to primitive types before the conversion.\n  warnings.warn(\n"
     ]
    },
    {
     "output_type": "execute_result",
     "data": {
      "text/html": [
       "<div>\n",
       "<style scoped>\n",
       "    .dataframe tbody tr th:only-of-type {\n",
       "        vertical-align: middle;\n",
       "    }\n",
       "\n",
       "    .dataframe tbody tr th {\n",
       "        vertical-align: top;\n",
       "    }\n",
       "\n",
       "    .dataframe thead th {\n",
       "        text-align: right;\n",
       "    }\n",
       "</style>\n",
       "<table border=\"1\" class=\"dataframe\">\n",
       "  <thead>\n",
       "    <tr style=\"text-align: right;\">\n",
       "      <th></th>\n",
       "      <th>month</th>\n",
       "      <th>impressions_App_None</th>\n",
       "      <th>impressions_Audio_None</th>\n",
       "      <th>impressions_Display_None</th>\n",
       "      <th>impressions_Email_None</th>\n",
       "      <th>impressions_MediaSolutions_None</th>\n",
       "      <th>impressions_MediaTransformation_None</th>\n",
       "      <th>impressions_Native_None</th>\n",
       "      <th>impressions_OnlineVideo_None</th>\n",
       "      <th>impressions_OperationalEmails_None</th>\n",
       "      <th>impressions_OwnedSocial_None</th>\n",
       "      <th>impressions_PaidSocial_None</th>\n",
       "      <th>impressions_Push_null</th>\n",
       "      <th>impressions_SEM_None</th>\n",
       "      <th>impressions_TV_None</th>\n",
       "      <th>value_visits_visits</th>\n",
       "      <th>value_leads_fs_submits</th>\n",
       "    </tr>\n",
       "  </thead>\n",
       "  <tbody>\n",
       "    <tr>\n",
       "      <th>0</th>\n",
       "      <td>2024-01-01</td>\n",
       "      <td>15418116.000000</td>\n",
       "      <td>0.000000</td>\n",
       "      <td>6046432.000000</td>\n",
       "      <td>1389711143.000000</td>\n",
       "      <td>141313189.000000</td>\n",
       "      <td>0.000000</td>\n",
       "      <td>0.000000</td>\n",
       "      <td>43317641.000000</td>\n",
       "      <td>795910962.000000</td>\n",
       "      <td>29987884.000000</td>\n",
       "      <td>180361887.000000</td>\n",
       "      <td>1268654564.000000</td>\n",
       "      <td>50912034.000000</td>\n",
       "      <td>14964913.000000</td>\n",
       "      <td>659262923.0</td>\n",
       "      <td>1164173.0</td>\n",
       "    </tr>\n",
       "    <tr>\n",
       "      <th>1</th>\n",
       "      <td>2024-02-01</td>\n",
       "      <td>21147175.000000</td>\n",
       "      <td>0.000000</td>\n",
       "      <td>2624475.000000</td>\n",
       "      <td>1374394752.000000</td>\n",
       "      <td>127365878.000000</td>\n",
       "      <td>0.000000</td>\n",
       "      <td>0.000000</td>\n",
       "      <td>207385449.000000</td>\n",
       "      <td>785563501.000000</td>\n",
       "      <td>32590991.000000</td>\n",
       "      <td>163930205.000000</td>\n",
       "      <td>1257050711.000000</td>\n",
       "      <td>50825612.000000</td>\n",
       "      <td>15116498.000000</td>\n",
       "      <td>661721641.0</td>\n",
       "      <td>1129000.0</td>\n",
       "    </tr>\n",
       "    <tr>\n",
       "      <th>2</th>\n",
       "      <td>2024-03-01</td>\n",
       "      <td>11103891.000000</td>\n",
       "      <td>0.000000</td>\n",
       "      <td>9819688.000000</td>\n",
       "      <td>1522981463.000000</td>\n",
       "      <td>132878494.000000</td>\n",
       "      <td>0.000000</td>\n",
       "      <td>0.000000</td>\n",
       "      <td>19928998.000000</td>\n",
       "      <td>870353729.000000</td>\n",
       "      <td>15409682.000000</td>\n",
       "      <td>164611075.000000</td>\n",
       "      <td>1377565023.000000</td>\n",
       "      <td>60407020.000000</td>\n",
       "      <td>517707617.000000</td>\n",
       "      <td>725382530.0</td>\n",
       "      <td>1204195.0</td>\n",
       "    </tr>\n",
       "    <tr>\n",
       "      <th>3</th>\n",
       "      <td>2024-04-01</td>\n",
       "      <td>13610015.000000</td>\n",
       "      <td>0.000000</td>\n",
       "      <td>2916103.000000</td>\n",
       "      <td>1511862713.000000</td>\n",
       "      <td>137975063.000000</td>\n",
       "      <td>0.000000</td>\n",
       "      <td>0.000000</td>\n",
       "      <td>40625320.000000</td>\n",
       "      <td>53768.000000</td>\n",
       "      <td>35497589.000000</td>\n",
       "      <td>203958287.000000</td>\n",
       "      <td>2582359087.000000</td>\n",
       "      <td>60206589.000000</td>\n",
       "      <td>523915281.000000</td>\n",
       "      <td>735893681.0</td>\n",
       "      <td>1132327.0</td>\n",
       "    </tr>\n",
       "    <tr>\n",
       "      <th>4</th>\n",
       "      <td>2024-05-01</td>\n",
       "      <td>14720158.000000</td>\n",
       "      <td>0.000000</td>\n",
       "      <td>83621725.000000</td>\n",
       "      <td>1633443174.000000</td>\n",
       "      <td>54404674.000000</td>\n",
       "      <td>0.000000</td>\n",
       "      <td>73437191.000000</td>\n",
       "      <td>133684130.000000</td>\n",
       "      <td>47779.000000</td>\n",
       "      <td>23239540.000000</td>\n",
       "      <td>314598652.000000</td>\n",
       "      <td>2700575751.000000</td>\n",
       "      <td>78881327.000000</td>\n",
       "      <td>512052156.000000</td>\n",
       "      <td>754676143.0</td>\n",
       "      <td>1147354.0</td>\n",
       "    </tr>\n",
       "  </tbody>\n",
       "</table>\n",
       "</div>"
      ],
      "text/plain": [
       "        month impressions_App_None  ... value_visits_visits value_leads_fs_submits\n",
       "0  2024-01-01      15418116.000000  ...         659262923.0              1164173.0\n",
       "1  2024-02-01      21147175.000000  ...         661721641.0              1129000.0\n",
       "2  2024-03-01      11103891.000000  ...         725382530.0              1204195.0\n",
       "3  2024-04-01      13610015.000000  ...         735893681.0              1132327.0\n",
       "4  2024-05-01      14720158.000000  ...         754676143.0              1147354.0\n",
       "\n",
       "[5 rows x 17 columns]"
      ]
     },
     "execution_count": 4,
     "metadata": {},
     "output_type": "execute_result"
    }
   ],
   "source": [
    "aggregated = spark.read.table('sandbox_desa.u_adityapu.bii_data_for_causal_analysis').toPandas()\n",
    "aggregated.head()"
   ]
  },
  {
   "cell_type": "code",
   "execution_count": 0,
   "metadata": {
    "application/vnd.databricks.v1+cell": {
     "cellMetadata": {
      "byteLimit": 2048000,
      "rowLimit": 10000
     },
     "inputWidgets": {},
     "nuid": "d2bec84b-aa9d-4184-9bc4-05ec63597824",
     "showTitle": false,
     "tableResultSettingsMap": {},
     "title": ""
    }
   },
   "outputs": [
    {
     "output_type": "execute_result",
     "data": {
      "text/html": [
       "<div>\n",
       "<style scoped>\n",
       "    .dataframe tbody tr th:only-of-type {\n",
       "        vertical-align: middle;\n",
       "    }\n",
       "\n",
       "    .dataframe tbody tr th {\n",
       "        vertical-align: top;\n",
       "    }\n",
       "\n",
       "    .dataframe thead th {\n",
       "        text-align: right;\n",
       "    }\n",
       "</style>\n",
       "<table border=\"1\" class=\"dataframe\">\n",
       "  <thead>\n",
       "    <tr style=\"text-align: right;\">\n",
       "      <th></th>\n",
       "      <th>Month</th>\n",
       "      <th>bii_score</th>\n",
       "    </tr>\n",
       "  </thead>\n",
       "  <tbody>\n",
       "    <tr>\n",
       "      <th>0</th>\n",
       "      <td>2024-01-01</td>\n",
       "      <td>0.952543</td>\n",
       "    </tr>\n",
       "    <tr>\n",
       "      <th>1</th>\n",
       "      <td>2024-02-01</td>\n",
       "      <td>0.993713</td>\n",
       "    </tr>\n",
       "    <tr>\n",
       "      <th>2</th>\n",
       "      <td>2024-03-01</td>\n",
       "      <td>0.979362</td>\n",
       "    </tr>\n",
       "    <tr>\n",
       "      <th>3</th>\n",
       "      <td>2024-04-01</td>\n",
       "      <td>1.002487</td>\n",
       "    </tr>\n",
       "    <tr>\n",
       "      <th>4</th>\n",
       "      <td>2024-05-01</td>\n",
       "      <td>0.988938</td>\n",
       "    </tr>\n",
       "  </tbody>\n",
       "</table>\n",
       "</div>"
      ],
      "text/plain": [
       "        Month  bii_score\n",
       "0  2024-01-01   0.952543\n",
       "1  2024-02-01   0.993713\n",
       "2  2024-03-01   0.979362\n",
       "3  2024-04-01   1.002487\n",
       "4  2024-05-01   0.988938"
      ]
     },
     "execution_count": 5,
     "metadata": {},
     "output_type": "execute_result"
    }
   ],
   "source": [
    "# Also pull the monthly BII score;\n",
    "\n",
    "bii = spark.read.table('sandbox_desa.mads_team.brand_science_bii_score').toPandas()\n",
    "bii.head()"
   ]
  },
  {
   "cell_type": "code",
   "execution_count": 0,
   "metadata": {
    "application/vnd.databricks.v1+cell": {
     "cellMetadata": {
      "byteLimit": 2048000,
      "rowLimit": 10000
     },
     "inputWidgets": {},
     "nuid": "190ee9ed-a39d-4aac-a487-882261c33052",
     "showTitle": false,
     "tableResultSettingsMap": {},
     "title": ""
    }
   },
   "outputs": [],
   "source": [
    "bii.columns = ['month','bii_score']"
   ]
  },
  {
   "cell_type": "code",
   "execution_count": 0,
   "metadata": {
    "application/vnd.databricks.v1+cell": {
     "cellMetadata": {
      "byteLimit": 2048000,
      "rowLimit": 10000
     },
     "inputWidgets": {},
     "nuid": "f2441051-b97f-4633-8fa5-08239a1f74a3",
     "showTitle": false,
     "tableResultSettingsMap": {},
     "title": ""
    }
   },
   "outputs": [],
   "source": [
    "aggregated = aggregated.merge(bii, on = 'month')"
   ]
  },
  {
   "cell_type": "code",
   "execution_count": 0,
   "metadata": {
    "application/vnd.databricks.v1+cell": {
     "cellMetadata": {
      "byteLimit": 2048000,
      "rowLimit": 10000
     },
     "inputWidgets": {},
     "nuid": "7524bf57-06f9-4d10-9ec7-386372bf6ba2",
     "showTitle": false,
     "tableResultSettingsMap": {},
     "title": ""
    }
   },
   "outputs": [],
   "source": [
    "# We need to scale the data; I would just use range scaling for now\n",
    "\n",
    "from sklearn.preprocessing import MinMaxScaler \n",
    "scaler = MinMaxScaler()"
   ]
  },
  {
   "cell_type": "code",
   "execution_count": 0,
   "metadata": {
    "application/vnd.databricks.v1+cell": {
     "cellMetadata": {
      "byteLimit": 2048000,
      "rowLimit": 10000
     },
     "inputWidgets": {},
     "nuid": "7dc2ac43-b5ca-466a-95cf-045cbcb080ce",
     "showTitle": false,
     "tableResultSettingsMap": {},
     "title": ""
    }
   },
   "outputs": [
    {
     "output_type": "execute_result",
     "data": {
      "text/html": [
       "<div>\n",
       "<style scoped>\n",
       "    .dataframe tbody tr th:only-of-type {\n",
       "        vertical-align: middle;\n",
       "    }\n",
       "\n",
       "    .dataframe tbody tr th {\n",
       "        vertical-align: top;\n",
       "    }\n",
       "\n",
       "    .dataframe thead th {\n",
       "        text-align: right;\n",
       "    }\n",
       "</style>\n",
       "<table border=\"1\" class=\"dataframe\">\n",
       "  <thead>\n",
       "    <tr style=\"text-align: right;\">\n",
       "      <th></th>\n",
       "      <th>month</th>\n",
       "      <th>impressions_App_None</th>\n",
       "      <th>impressions_Audio_None</th>\n",
       "      <th>impressions_Display_None</th>\n",
       "      <th>impressions_Email_None</th>\n",
       "      <th>impressions_MediaSolutions_None</th>\n",
       "      <th>impressions_MediaTransformation_None</th>\n",
       "      <th>impressions_Native_None</th>\n",
       "      <th>impressions_OnlineVideo_None</th>\n",
       "      <th>impressions_OperationalEmails_None</th>\n",
       "      <th>impressions_OwnedSocial_None</th>\n",
       "      <th>impressions_PaidSocial_None</th>\n",
       "      <th>impressions_Push_null</th>\n",
       "      <th>impressions_SEM_None</th>\n",
       "      <th>impressions_TV_None</th>\n",
       "      <th>value_visits_visits</th>\n",
       "      <th>value_leads_fs_submits</th>\n",
       "      <th>bii_score</th>\n",
       "    </tr>\n",
       "  </thead>\n",
       "  <tbody>\n",
       "    <tr>\n",
       "      <th>0</th>\n",
       "      <td>2024-01-01</td>\n",
       "      <td>15418116.000000</td>\n",
       "      <td>0.000000</td>\n",
       "      <td>6046432.000000</td>\n",
       "      <td>1389711143.000000</td>\n",
       "      <td>141313189.000000</td>\n",
       "      <td>0.000000</td>\n",
       "      <td>0.000000</td>\n",
       "      <td>43317641.000000</td>\n",
       "      <td>795910962.000000</td>\n",
       "      <td>29987884.000000</td>\n",
       "      <td>180361887.000000</td>\n",
       "      <td>1268654564.000000</td>\n",
       "      <td>50912034.000000</td>\n",
       "      <td>14964913.000000</td>\n",
       "      <td>659262923.0</td>\n",
       "      <td>1164173.0</td>\n",
       "      <td>0.952543</td>\n",
       "    </tr>\n",
       "    <tr>\n",
       "      <th>1</th>\n",
       "      <td>2024-02-01</td>\n",
       "      <td>21147175.000000</td>\n",
       "      <td>0.000000</td>\n",
       "      <td>2624475.000000</td>\n",
       "      <td>1374394752.000000</td>\n",
       "      <td>127365878.000000</td>\n",
       "      <td>0.000000</td>\n",
       "      <td>0.000000</td>\n",
       "      <td>207385449.000000</td>\n",
       "      <td>785563501.000000</td>\n",
       "      <td>32590991.000000</td>\n",
       "      <td>163930205.000000</td>\n",
       "      <td>1257050711.000000</td>\n",
       "      <td>50825612.000000</td>\n",
       "      <td>15116498.000000</td>\n",
       "      <td>661721641.0</td>\n",
       "      <td>1129000.0</td>\n",
       "      <td>0.993713</td>\n",
       "    </tr>\n",
       "    <tr>\n",
       "      <th>2</th>\n",
       "      <td>2024-03-01</td>\n",
       "      <td>11103891.000000</td>\n",
       "      <td>0.000000</td>\n",
       "      <td>9819688.000000</td>\n",
       "      <td>1522981463.000000</td>\n",
       "      <td>132878494.000000</td>\n",
       "      <td>0.000000</td>\n",
       "      <td>0.000000</td>\n",
       "      <td>19928998.000000</td>\n",
       "      <td>870353729.000000</td>\n",
       "      <td>15409682.000000</td>\n",
       "      <td>164611075.000000</td>\n",
       "      <td>1377565023.000000</td>\n",
       "      <td>60407020.000000</td>\n",
       "      <td>517707617.000000</td>\n",
       "      <td>725382530.0</td>\n",
       "      <td>1204195.0</td>\n",
       "      <td>0.979362</td>\n",
       "    </tr>\n",
       "    <tr>\n",
       "      <th>3</th>\n",
       "      <td>2024-04-01</td>\n",
       "      <td>13610015.000000</td>\n",
       "      <td>0.000000</td>\n",
       "      <td>2916103.000000</td>\n",
       "      <td>1511862713.000000</td>\n",
       "      <td>137975063.000000</td>\n",
       "      <td>0.000000</td>\n",
       "      <td>0.000000</td>\n",
       "      <td>40625320.000000</td>\n",
       "      <td>53768.000000</td>\n",
       "      <td>35497589.000000</td>\n",
       "      <td>203958287.000000</td>\n",
       "      <td>2582359087.000000</td>\n",
       "      <td>60206589.000000</td>\n",
       "      <td>523915281.000000</td>\n",
       "      <td>735893681.0</td>\n",
       "      <td>1132327.0</td>\n",
       "      <td>1.002487</td>\n",
       "    </tr>\n",
       "    <tr>\n",
       "      <th>4</th>\n",
       "      <td>2024-05-01</td>\n",
       "      <td>14720158.000000</td>\n",
       "      <td>0.000000</td>\n",
       "      <td>83621725.000000</td>\n",
       "      <td>1633443174.000000</td>\n",
       "      <td>54404674.000000</td>\n",
       "      <td>0.000000</td>\n",
       "      <td>73437191.000000</td>\n",
       "      <td>133684130.000000</td>\n",
       "      <td>47779.000000</td>\n",
       "      <td>23239540.000000</td>\n",
       "      <td>314598652.000000</td>\n",
       "      <td>2700575751.000000</td>\n",
       "      <td>78881327.000000</td>\n",
       "      <td>512052156.000000</td>\n",
       "      <td>754676143.0</td>\n",
       "      <td>1147354.0</td>\n",
       "      <td>0.988938</td>\n",
       "    </tr>\n",
       "    <tr>\n",
       "      <th>5</th>\n",
       "      <td>2024-06-01</td>\n",
       "      <td>35626522.000000</td>\n",
       "      <td>0.000000</td>\n",
       "      <td>114346459.000000</td>\n",
       "      <td>1611832876.000000</td>\n",
       "      <td>75130912.000000</td>\n",
       "      <td>0.000000</td>\n",
       "      <td>125769152.000000</td>\n",
       "      <td>202781783.000000</td>\n",
       "      <td>4564.000000</td>\n",
       "      <td>34586203.000000</td>\n",
       "      <td>452443362.000000</td>\n",
       "      <td>3161784981.000000</td>\n",
       "      <td>88594504.000000</td>\n",
       "      <td>522611203.000000</td>\n",
       "      <td>746391166.0</td>\n",
       "      <td>1160323.0</td>\n",
       "      <td>0.944034</td>\n",
       "    </tr>\n",
       "    <tr>\n",
       "      <th>6</th>\n",
       "      <td>2024-07-01</td>\n",
       "      <td>44401237.000000</td>\n",
       "      <td>0.000000</td>\n",
       "      <td>173528238.000000</td>\n",
       "      <td>1647701767.000000</td>\n",
       "      <td>57053097.000000</td>\n",
       "      <td>0.000000</td>\n",
       "      <td>190298778.000000</td>\n",
       "      <td>346996309.000000</td>\n",
       "      <td>2652740.000000</td>\n",
       "      <td>61614003.000000</td>\n",
       "      <td>625399785.000000</td>\n",
       "      <td>2772789897.000000</td>\n",
       "      <td>93709829.000000</td>\n",
       "      <td>518932130.000000</td>\n",
       "      <td>766010647.0</td>\n",
       "      <td>1194345.0</td>\n",
       "      <td>0.979109</td>\n",
       "    </tr>\n",
       "    <tr>\n",
       "      <th>7</th>\n",
       "      <td>2024-08-01</td>\n",
       "      <td>42728556.000000</td>\n",
       "      <td>0.000000</td>\n",
       "      <td>127572142.000000</td>\n",
       "      <td>1678392043.000000</td>\n",
       "      <td>88494061.000000</td>\n",
       "      <td>0.000000</td>\n",
       "      <td>105421009.000000</td>\n",
       "      <td>309479333.000000</td>\n",
       "      <td>3437.000000</td>\n",
       "      <td>72729109.000000</td>\n",
       "      <td>536586302.000000</td>\n",
       "      <td>1531127811.000000</td>\n",
       "      <td>92728354.000000</td>\n",
       "      <td>413858644.000000</td>\n",
       "      <td>748156451.0</td>\n",
       "      <td>1165328.0</td>\n",
       "      <td>0.984581</td>\n",
       "    </tr>\n",
       "    <tr>\n",
       "      <th>8</th>\n",
       "      <td>2024-09-01</td>\n",
       "      <td>40630647.000000</td>\n",
       "      <td>0.000000</td>\n",
       "      <td>121325721.000000</td>\n",
       "      <td>1549507505.000000</td>\n",
       "      <td>123367385.000000</td>\n",
       "      <td>0.000000</td>\n",
       "      <td>87802328.000000</td>\n",
       "      <td>275968503.000000</td>\n",
       "      <td>1923.000000</td>\n",
       "      <td>49594478.000000</td>\n",
       "      <td>456840207.000000</td>\n",
       "      <td>1484954173.000000</td>\n",
       "      <td>90041140.000000</td>\n",
       "      <td>378044072.000000</td>\n",
       "      <td>697981995.0</td>\n",
       "      <td>1071919.0</td>\n",
       "      <td>1.008777</td>\n",
       "    </tr>\n",
       "    <tr>\n",
       "      <th>9</th>\n",
       "      <td>2024-10-01</td>\n",
       "      <td>24465663.000000</td>\n",
       "      <td>0.000000</td>\n",
       "      <td>9756567.000000</td>\n",
       "      <td>1515006102.000000</td>\n",
       "      <td>134726917.000000</td>\n",
       "      <td>0.000000</td>\n",
       "      <td>0.000000</td>\n",
       "      <td>49480423.000000</td>\n",
       "      <td>420.000000</td>\n",
       "      <td>17376135.000000</td>\n",
       "      <td>118901812.000000</td>\n",
       "      <td>1468687780.000000</td>\n",
       "      <td>75927413.000000</td>\n",
       "      <td>651901214.000000</td>\n",
       "      <td>672338878.0</td>\n",
       "      <td>1017045.0</td>\n",
       "      <td>0.998062</td>\n",
       "    </tr>\n",
       "    <tr>\n",
       "      <th>10</th>\n",
       "      <td>2024-11-01</td>\n",
       "      <td>14646587.000000</td>\n",
       "      <td>0.000000</td>\n",
       "      <td>23038002.000000</td>\n",
       "      <td>1489076539.000000</td>\n",
       "      <td>152086583.000000</td>\n",
       "      <td>0.000000</td>\n",
       "      <td>0.000000</td>\n",
       "      <td>80835079.000000</td>\n",
       "      <td>233828.000000</td>\n",
       "      <td>13525893.000000</td>\n",
       "      <td>122056830.000000</td>\n",
       "      <td>1416301164.000000</td>\n",
       "      <td>62598284.000000</td>\n",
       "      <td>13707562.000000</td>\n",
       "      <td>615549080.0</td>\n",
       "      <td>937775.0</td>\n",
       "      <td>0.973179</td>\n",
       "    </tr>\n",
       "    <tr>\n",
       "      <th>11</th>\n",
       "      <td>2024-12-01</td>\n",
       "      <td>29887198.000000</td>\n",
       "      <td>0.000000</td>\n",
       "      <td>28070207.000000</td>\n",
       "      <td>1411820026.000000</td>\n",
       "      <td>173173011.000000</td>\n",
       "      <td>0.000000</td>\n",
       "      <td>0.000000</td>\n",
       "      <td>62453740.000000</td>\n",
       "      <td>206740.000000</td>\n",
       "      <td>12344263.000000</td>\n",
       "      <td>144383965.000000</td>\n",
       "      <td>1366026179.000000</td>\n",
       "      <td>46460770.000000</td>\n",
       "      <td>639164280.000000</td>\n",
       "      <td>592031239.0</td>\n",
       "      <td>892072.0</td>\n",
       "      <td>0.996462</td>\n",
       "    </tr>\n",
       "    <tr>\n",
       "      <th>12</th>\n",
       "      <td>2025-01-01</td>\n",
       "      <td>31987029.000000</td>\n",
       "      <td>0.000000</td>\n",
       "      <td>18655237.000000</td>\n",
       "      <td>1534712862.000000</td>\n",
       "      <td>152665609.000000</td>\n",
       "      <td>0.000000</td>\n",
       "      <td>0.000000</td>\n",
       "      <td>76296068.000000</td>\n",
       "      <td>86742.000000</td>\n",
       "      <td>6941569.000000</td>\n",
       "      <td>196629262.000000</td>\n",
       "      <td>1544958836.000000</td>\n",
       "      <td>80848443.000000</td>\n",
       "      <td>11659350.000000</td>\n",
       "      <td>708020976.0</td>\n",
       "      <td>1089069.0</td>\n",
       "      <td>0.987593</td>\n",
       "    </tr>\n",
       "    <tr>\n",
       "      <th>13</th>\n",
       "      <td>2025-02-01</td>\n",
       "      <td>33998004.000000</td>\n",
       "      <td>384887.000000</td>\n",
       "      <td>18987034.000000</td>\n",
       "      <td>1464752180.000000</td>\n",
       "      <td>130822410.000000</td>\n",
       "      <td>0.000000</td>\n",
       "      <td>0.000000</td>\n",
       "      <td>93550666.000000</td>\n",
       "      <td>5299.000000</td>\n",
       "      <td>9363303.000000</td>\n",
       "      <td>186766491.000000</td>\n",
       "      <td>1461014818.000000</td>\n",
       "      <td>88839711.000000</td>\n",
       "      <td>284935105.000000</td>\n",
       "      <td>657453604.0</td>\n",
       "      <td>997994.0</td>\n",
       "      <td>1.010841</td>\n",
       "    </tr>\n",
       "    <tr>\n",
       "      <th>14</th>\n",
       "      <td>2025-03-01</td>\n",
       "      <td>19027581.000000</td>\n",
       "      <td>2109090.000000</td>\n",
       "      <td>28026070.000000</td>\n",
       "      <td>1667716372.000000</td>\n",
       "      <td>97370864.000000</td>\n",
       "      <td>18466867.000000</td>\n",
       "      <td>59123191.000000</td>\n",
       "      <td>98342955.000000</td>\n",
       "      <td>943.000000</td>\n",
       "      <td>7743402.000000</td>\n",
       "      <td>316801197.000000</td>\n",
       "      <td>1693604314.000000</td>\n",
       "      <td>99682097.000000</td>\n",
       "      <td>288245222.000000</td>\n",
       "      <td>783365765.0</td>\n",
       "      <td>1163560.0</td>\n",
       "      <td>0.991445</td>\n",
       "    </tr>\n",
       "    <tr>\n",
       "      <th>15</th>\n",
       "      <td>2025-04-01</td>\n",
       "      <td>17677310.000000</td>\n",
       "      <td>4486452.000000</td>\n",
       "      <td>89220336.000000</td>\n",
       "      <td>1621898916.000000</td>\n",
       "      <td>84820009.000000</td>\n",
       "      <td>7695703.000000</td>\n",
       "      <td>72532537.000000</td>\n",
       "      <td>269166273.000000</td>\n",
       "      <td>3986.000000</td>\n",
       "      <td>42661976.000000</td>\n",
       "      <td>620153188.000000</td>\n",
       "      <td>1729874515.000000</td>\n",
       "      <td>101361486.000000</td>\n",
       "      <td>395950969.000000</td>\n",
       "      <td>815813376.0</td>\n",
       "      <td>1129900.0</td>\n",
       "      <td>1.033109</td>\n",
       "    </tr>\n",
       "    <tr>\n",
       "      <th>16</th>\n",
       "      <td>2025-05-01</td>\n",
       "      <td>22771265.000000</td>\n",
       "      <td>0.000000</td>\n",
       "      <td>91512141.000000</td>\n",
       "      <td>1661485859.000000</td>\n",
       "      <td>116542518.000000</td>\n",
       "      <td>7265265.000000</td>\n",
       "      <td>80461656.000000</td>\n",
       "      <td>267825939.000000</td>\n",
       "      <td>736096.000000</td>\n",
       "      <td>68332221.000000</td>\n",
       "      <td>618534398.000000</td>\n",
       "      <td>1797463089.000000</td>\n",
       "      <td>101724940.000000</td>\n",
       "      <td>502079644.000000</td>\n",
       "      <td>826157412.0</td>\n",
       "      <td>1186810.0</td>\n",
       "      <td>0.993106</td>\n",
       "    </tr>\n",
       "  </tbody>\n",
       "</table>\n",
       "</div>"
      ],
      "text/plain": [
       "         month impressions_App_None  ... value_leads_fs_submits bii_score\n",
       "0   2024-01-01      15418116.000000  ...              1164173.0  0.952543\n",
       "1   2024-02-01      21147175.000000  ...              1129000.0  0.993713\n",
       "2   2024-03-01      11103891.000000  ...              1204195.0  0.979362\n",
       "3   2024-04-01      13610015.000000  ...              1132327.0  1.002487\n",
       "4   2024-05-01      14720158.000000  ...              1147354.0  0.988938\n",
       "5   2024-06-01      35626522.000000  ...              1160323.0  0.944034\n",
       "6   2024-07-01      44401237.000000  ...              1194345.0  0.979109\n",
       "7   2024-08-01      42728556.000000  ...              1165328.0  0.984581\n",
       "8   2024-09-01      40630647.000000  ...              1071919.0  1.008777\n",
       "9   2024-10-01      24465663.000000  ...              1017045.0  0.998062\n",
       "10  2024-11-01      14646587.000000  ...               937775.0  0.973179\n",
       "11  2024-12-01      29887198.000000  ...               892072.0  0.996462\n",
       "12  2025-01-01      31987029.000000  ...              1089069.0  0.987593\n",
       "13  2025-02-01      33998004.000000  ...               997994.0  1.010841\n",
       "14  2025-03-01      19027581.000000  ...              1163560.0  0.991445\n",
       "15  2025-04-01      17677310.000000  ...              1129900.0  1.033109\n",
       "16  2025-05-01      22771265.000000  ...              1186810.0  0.993106\n",
       "\n",
       "[17 rows x 18 columns]"
      ]
     },
     "execution_count": 9,
     "metadata": {},
     "output_type": "execute_result"
    },
    {
     "output_type": "display_data",
     "data": {
      "application/vnd.databricks.v1+display_df_hint": {
       "mode": "should_hint",
       "name": "aggregated",
       "type": "pandas.core.frame.DataFrame"
      }
     },
     "metadata": {},
     "output_type": "display_data"
    }
   ],
   "source": [
    "aggregated"
   ]
  },
  {
   "cell_type": "code",
   "execution_count": 0,
   "metadata": {
    "application/vnd.databricks.v1+cell": {
     "cellMetadata": {
      "byteLimit": 2048000,
      "rowLimit": 10000
     },
     "inputWidgets": {},
     "nuid": "c0f2949f-03c3-49c2-9368-37bda6089194",
     "showTitle": false,
     "tableResultSettingsMap": {},
     "title": ""
    }
   },
   "outputs": [],
   "source": [
    "scaled = pd.DataFrame(scaler.fit_transform(aggregated[[i for i in aggregated.columns if i.startswith('impressions')]+['value_visits_visits','value_leads_fs_submits']].values))"
   ]
  },
  {
   "cell_type": "code",
   "execution_count": 0,
   "metadata": {
    "application/vnd.databricks.v1+cell": {
     "cellMetadata": {
      "byteLimit": 2048000,
      "rowLimit": 10000
     },
     "inputWidgets": {},
     "nuid": "cc9c46d3-6206-4bac-b60d-33d9f211b22d",
     "showTitle": false,
     "tableResultSettingsMap": {},
     "title": ""
    }
   },
   "outputs": [
    {
     "output_type": "execute_result",
     "data": {
      "text/html": [
       "<div>\n",
       "<style scoped>\n",
       "    .dataframe tbody tr th:only-of-type {\n",
       "        vertical-align: middle;\n",
       "    }\n",
       "\n",
       "    .dataframe tbody tr th {\n",
       "        vertical-align: top;\n",
       "    }\n",
       "\n",
       "    .dataframe thead th {\n",
       "        text-align: right;\n",
       "    }\n",
       "</style>\n",
       "<table border=\"1\" class=\"dataframe\">\n",
       "  <thead>\n",
       "    <tr style=\"text-align: right;\">\n",
       "      <th></th>\n",
       "      <th>month</th>\n",
       "      <th>bii_score</th>\n",
       "    </tr>\n",
       "  </thead>\n",
       "  <tbody>\n",
       "    <tr>\n",
       "      <th>0</th>\n",
       "      <td>2024-01-01</td>\n",
       "      <td>0.952543</td>\n",
       "    </tr>\n",
       "    <tr>\n",
       "      <th>1</th>\n",
       "      <td>2024-02-01</td>\n",
       "      <td>0.993713</td>\n",
       "    </tr>\n",
       "    <tr>\n",
       "      <th>2</th>\n",
       "      <td>2024-03-01</td>\n",
       "      <td>0.979362</td>\n",
       "    </tr>\n",
       "    <tr>\n",
       "      <th>3</th>\n",
       "      <td>2024-04-01</td>\n",
       "      <td>1.002487</td>\n",
       "    </tr>\n",
       "    <tr>\n",
       "      <th>4</th>\n",
       "      <td>2024-05-01</td>\n",
       "      <td>0.988938</td>\n",
       "    </tr>\n",
       "    <tr>\n",
       "      <th>5</th>\n",
       "      <td>2024-06-01</td>\n",
       "      <td>0.944034</td>\n",
       "    </tr>\n",
       "    <tr>\n",
       "      <th>6</th>\n",
       "      <td>2024-07-01</td>\n",
       "      <td>0.979109</td>\n",
       "    </tr>\n",
       "    <tr>\n",
       "      <th>7</th>\n",
       "      <td>2024-08-01</td>\n",
       "      <td>0.984581</td>\n",
       "    </tr>\n",
       "    <tr>\n",
       "      <th>8</th>\n",
       "      <td>2024-09-01</td>\n",
       "      <td>1.008777</td>\n",
       "    </tr>\n",
       "    <tr>\n",
       "      <th>9</th>\n",
       "      <td>2024-10-01</td>\n",
       "      <td>0.998062</td>\n",
       "    </tr>\n",
       "    <tr>\n",
       "      <th>10</th>\n",
       "      <td>2024-11-01</td>\n",
       "      <td>0.973179</td>\n",
       "    </tr>\n",
       "    <tr>\n",
       "      <th>11</th>\n",
       "      <td>2024-12-01</td>\n",
       "      <td>0.996462</td>\n",
       "    </tr>\n",
       "    <tr>\n",
       "      <th>12</th>\n",
       "      <td>2025-01-01</td>\n",
       "      <td>0.987593</td>\n",
       "    </tr>\n",
       "    <tr>\n",
       "      <th>13</th>\n",
       "      <td>2025-02-01</td>\n",
       "      <td>1.010841</td>\n",
       "    </tr>\n",
       "    <tr>\n",
       "      <th>14</th>\n",
       "      <td>2025-03-01</td>\n",
       "      <td>0.991445</td>\n",
       "    </tr>\n",
       "    <tr>\n",
       "      <th>15</th>\n",
       "      <td>2025-04-01</td>\n",
       "      <td>1.033109</td>\n",
       "    </tr>\n",
       "    <tr>\n",
       "      <th>16</th>\n",
       "      <td>2025-05-01</td>\n",
       "      <td>0.993106</td>\n",
       "    </tr>\n",
       "  </tbody>\n",
       "</table>\n",
       "</div>"
      ],
      "text/plain": [
       "         month  bii_score\n",
       "0   2024-01-01   0.952543\n",
       "1   2024-02-01   0.993713\n",
       "2   2024-03-01   0.979362\n",
       "3   2024-04-01   1.002487\n",
       "4   2024-05-01   0.988938\n",
       "5   2024-06-01   0.944034\n",
       "6   2024-07-01   0.979109\n",
       "7   2024-08-01   0.984581\n",
       "8   2024-09-01   1.008777\n",
       "9   2024-10-01   0.998062\n",
       "10  2024-11-01   0.973179\n",
       "11  2024-12-01   0.996462\n",
       "12  2025-01-01   0.987593\n",
       "13  2025-02-01   1.010841\n",
       "14  2025-03-01   0.991445\n",
       "15  2025-04-01   1.033109\n",
       "16  2025-05-01   0.993106"
      ]
     },
     "execution_count": 11,
     "metadata": {},
     "output_type": "execute_result"
    },
    {
     "output_type": "display_data",
     "data": {
      "application/vnd.databricks.v1+display_df_hint": {
       "mode": "should_hint",
       "name": "bii",
       "type": "pandas.core.frame.DataFrame"
      }
     },
     "metadata": {},
     "output_type": "display_data"
    }
   ],
   "source": [
    "bii"
   ]
  },
  {
   "cell_type": "code",
   "execution_count": 0,
   "metadata": {
    "application/vnd.databricks.v1+cell": {
     "cellMetadata": {
      "byteLimit": 2048000,
      "rowLimit": 10000
     },
     "inputWidgets": {},
     "nuid": "978a979f-446f-4b93-9f20-f120b50afdd2",
     "showTitle": false,
     "tableResultSettingsMap": {},
     "title": ""
    }
   },
   "outputs": [],
   "source": [
    "scaled.columns = [i for i in aggregated.columns if i.startswith('impressions')]+['value_visits_visits','value_leads_fs_submits']"
   ]
  },
  {
   "cell_type": "code",
   "execution_count": 0,
   "metadata": {
    "application/vnd.databricks.v1+cell": {
     "cellMetadata": {
      "byteLimit": 2048000,
      "rowLimit": 10000
     },
     "inputWidgets": {},
     "nuid": "37e873f2-bb18-42c9-94a1-ce3b5cda9e70",
     "showTitle": false,
     "tableResultSettingsMap": {},
     "title": ""
    }
   },
   "outputs": [],
   "source": [
    "scaled['bii_score'] = bii['bii_score']"
   ]
  },
  {
   "cell_type": "code",
   "execution_count": 0,
   "metadata": {
    "application/vnd.databricks.v1+cell": {
     "cellMetadata": {
      "byteLimit": 2048000,
      "rowLimit": 10000
     },
     "inputWidgets": {},
     "nuid": "8e4d677c-fc2e-4b13-9749-c3d26dc84db9",
     "showTitle": false,
     "tableResultSettingsMap": {},
     "title": ""
    }
   },
   "outputs": [
    {
     "output_type": "display_data",
     "data": {
      "text/html": [
       "<html>\n",
       "<head><meta charset=\"utf-8\" /></head>\n",
       "<body>\n",
       "    <div>            <script src=\"https://cdnjs.cloudflare.com/ajax/libs/mathjax/2.7.5/MathJax.js?config=TeX-AMS-MML_SVG\"></script><script type=\"text/javascript\">if (window.MathJax && window.MathJax.Hub && window.MathJax.Hub.Config) {window.MathJax.Hub.Config({SVG: {font: \"STIX-Web\"}});}</script>                <script type=\"text/javascript\">window.PlotlyConfig = {MathJaxConfig: 'local'};</script>\n",
       "        <script charset=\"utf-8\" src=\"https://cdn.plot.ly/plotly-2.32.0.min.js\"></script>                <div id=\"5b6336ae-4716-48fc-bf65-6bf9f4858c40\" class=\"plotly-graph-div\" style=\"height:100%; width:100%;\"></div>            <script type=\"text/javascript\">                                    window.PLOTLYENV=window.PLOTLYENV || {};                                    if (document.getElementById(\"5b6336ae-4716-48fc-bf65-6bf9f4858c40\")) {                    Plotly.newPlot(                        \"5b6336ae-4716-48fc-bf65-6bf9f4858c40\",                        [{\"name\":\"bii_score\",\"y\":[0.9525430319062589,0.9937127508811646,0.979361523270237,1.0024868660235058,0.9889384642748561,0.9440344891320659,0.9791092096380294,0.9845806218786045,1.0087769164923752,0.9980621970825362,0.9731787422619627,0.996461965684867,0.9875933622681563,1.0108408844450285,0.9914448713152799,1.0331086747977756,0.9931064107596728],\"yaxis\":\"y\",\"type\":\"scatter\"},{\"name\":\"value_visits_visits\",\"y\":[0.2871600519434452,0.2976617313092973,0.5695701992275763,0.6144654403931167,0.694689115342948,0.6593023113225365,0.7431010628615198,0.6668421988002171,0.45253700020971177,0.3430100871293873,0.10044943159772224,0.0,0.4954155082866367,0.27943208639044403,0.8172282643512907,0.9558185406293727,1.0],\"yaxis\":\"y2\",\"type\":\"scatter\"}],                        {\"template\":{\"data\":{\"histogram2dcontour\":[{\"type\":\"histogram2dcontour\",\"colorbar\":{\"outlinewidth\":0,\"ticks\":\"\"},\"colorscale\":[[0.0,\"#0d0887\"],[0.1111111111111111,\"#46039f\"],[0.2222222222222222,\"#7201a8\"],[0.3333333333333333,\"#9c179e\"],[0.4444444444444444,\"#bd3786\"],[0.5555555555555556,\"#d8576b\"],[0.6666666666666666,\"#ed7953\"],[0.7777777777777778,\"#fb9f3a\"],[0.8888888888888888,\"#fdca26\"],[1.0,\"#f0f921\"]]}],\"choropleth\":[{\"type\":\"choropleth\",\"colorbar\":{\"outlinewidth\":0,\"ticks\":\"\"}}],\"histogram2d\":[{\"type\":\"histogram2d\",\"colorbar\":{\"outlinewidth\":0,\"ticks\":\"\"},\"colorscale\":[[0.0,\"#0d0887\"],[0.1111111111111111,\"#46039f\"],[0.2222222222222222,\"#7201a8\"],[0.3333333333333333,\"#9c179e\"],[0.4444444444444444,\"#bd3786\"],[0.5555555555555556,\"#d8576b\"],[0.6666666666666666,\"#ed7953\"],[0.7777777777777778,\"#fb9f3a\"],[0.8888888888888888,\"#fdca26\"],[1.0,\"#f0f921\"]]}],\"heatmap\":[{\"type\":\"heatmap\",\"colorbar\":{\"outlinewidth\":0,\"ticks\":\"\"},\"colorscale\":[[0.0,\"#0d0887\"],[0.1111111111111111,\"#46039f\"],[0.2222222222222222,\"#7201a8\"],[0.3333333333333333,\"#9c179e\"],[0.4444444444444444,\"#bd3786\"],[0.5555555555555556,\"#d8576b\"],[0.6666666666666666,\"#ed7953\"],[0.7777777777777778,\"#fb9f3a\"],[0.8888888888888888,\"#fdca26\"],[1.0,\"#f0f921\"]]}],\"heatmapgl\":[{\"type\":\"heatmapgl\",\"colorbar\":{\"outlinewidth\":0,\"ticks\":\"\"},\"colorscale\":[[0.0,\"#0d0887\"],[0.1111111111111111,\"#46039f\"],[0.2222222222222222,\"#7201a8\"],[0.3333333333333333,\"#9c179e\"],[0.4444444444444444,\"#bd3786\"],[0.5555555555555556,\"#d8576b\"],[0.6666666666666666,\"#ed7953\"],[0.7777777777777778,\"#fb9f3a\"],[0.8888888888888888,\"#fdca26\"],[1.0,\"#f0f921\"]]}],\"contourcarpet\":[{\"type\":\"contourcarpet\",\"colorbar\":{\"outlinewidth\":0,\"ticks\":\"\"}}],\"contour\":[{\"type\":\"contour\",\"colorbar\":{\"outlinewidth\":0,\"ticks\":\"\"},\"colorscale\":[[0.0,\"#0d0887\"],[0.1111111111111111,\"#46039f\"],[0.2222222222222222,\"#7201a8\"],[0.3333333333333333,\"#9c179e\"],[0.4444444444444444,\"#bd3786\"],[0.5555555555555556,\"#d8576b\"],[0.6666666666666666,\"#ed7953\"],[0.7777777777777778,\"#fb9f3a\"],[0.8888888888888888,\"#fdca26\"],[1.0,\"#f0f921\"]]}],\"surface\":[{\"type\":\"surface\",\"colorbar\":{\"outlinewidth\":0,\"ticks\":\"\"},\"colorscale\":[[0.0,\"#0d0887\"],[0.1111111111111111,\"#46039f\"],[0.2222222222222222,\"#7201a8\"],[0.3333333333333333,\"#9c179e\"],[0.4444444444444444,\"#bd3786\"],[0.5555555555555556,\"#d8576b\"],[0.6666666666666666,\"#ed7953\"],[0.7777777777777778,\"#fb9f3a\"],[0.8888888888888888,\"#fdca26\"],[1.0,\"#f0f921\"]]}],\"mesh3d\":[{\"type\":\"mesh3d\",\"colorbar\":{\"outlinewidth\":0,\"ticks\":\"\"}}],\"scatter\":[{\"fillpattern\":{\"fillmode\":\"overlay\",\"size\":10,\"solidity\":0.2},\"type\":\"scatter\"}],\"parcoords\":[{\"type\":\"parcoords\",\"line\":{\"colorbar\":{\"outlinewidth\":0,\"ticks\":\"\"}}}],\"scatterpolargl\":[{\"type\":\"scatterpolargl\",\"marker\":{\"colorbar\":{\"outlinewidth\":0,\"ticks\":\"\"}}}],\"bar\":[{\"error_x\":{\"color\":\"#2a3f5f\"},\"error_y\":{\"color\":\"#2a3f5f\"},\"marker\":{\"line\":{\"color\":\"#E5ECF6\",\"width\":0.5},\"pattern\":{\"fillmode\":\"overlay\",\"size\":10,\"solidity\":0.2}},\"type\":\"bar\"}],\"scattergeo\":[{\"type\":\"scattergeo\",\"marker\":{\"colorbar\":{\"outlinewidth\":0,\"ticks\":\"\"}}}],\"scatterpolar\":[{\"type\":\"scatterpolar\",\"marker\":{\"colorbar\":{\"outlinewidth\":0,\"ticks\":\"\"}}}],\"histogram\":[{\"marker\":{\"pattern\":{\"fillmode\":\"overlay\",\"size\":10,\"solidity\":0.2}},\"type\":\"histogram\"}],\"scattergl\":[{\"type\":\"scattergl\",\"marker\":{\"colorbar\":{\"outlinewidth\":0,\"ticks\":\"\"}}}],\"scatter3d\":[{\"type\":\"scatter3d\",\"line\":{\"colorbar\":{\"outlinewidth\":0,\"ticks\":\"\"}},\"marker\":{\"colorbar\":{\"outlinewidth\":0,\"ticks\":\"\"}}}],\"scattermapbox\":[{\"type\":\"scattermapbox\",\"marker\":{\"colorbar\":{\"outlinewidth\":0,\"ticks\":\"\"}}}],\"scatterternary\":[{\"type\":\"scatterternary\",\"marker\":{\"colorbar\":{\"outlinewidth\":0,\"ticks\":\"\"}}}],\"scattercarpet\":[{\"type\":\"scattercarpet\",\"marker\":{\"colorbar\":{\"outlinewidth\":0,\"ticks\":\"\"}}}],\"carpet\":[{\"aaxis\":{\"endlinecolor\":\"#2a3f5f\",\"gridcolor\":\"white\",\"linecolor\":\"white\",\"minorgridcolor\":\"white\",\"startlinecolor\":\"#2a3f5f\"},\"baxis\":{\"endlinecolor\":\"#2a3f5f\",\"gridcolor\":\"white\",\"linecolor\":\"white\",\"minorgridcolor\":\"white\",\"startlinecolor\":\"#2a3f5f\"},\"type\":\"carpet\"}],\"table\":[{\"cells\":{\"fill\":{\"color\":\"#EBF0F8\"},\"line\":{\"color\":\"white\"}},\"header\":{\"fill\":{\"color\":\"#C8D4E3\"},\"line\":{\"color\":\"white\"}},\"type\":\"table\"}],\"barpolar\":[{\"marker\":{\"line\":{\"color\":\"#E5ECF6\",\"width\":0.5},\"pattern\":{\"fillmode\":\"overlay\",\"size\":10,\"solidity\":0.2}},\"type\":\"barpolar\"}],\"pie\":[{\"automargin\":true,\"type\":\"pie\"}]},\"layout\":{\"autotypenumbers\":\"strict\",\"colorway\":[\"#636efa\",\"#EF553B\",\"#00cc96\",\"#ab63fa\",\"#FFA15A\",\"#19d3f3\",\"#FF6692\",\"#B6E880\",\"#FF97FF\",\"#FECB52\"],\"font\":{\"color\":\"#2a3f5f\"},\"hovermode\":\"closest\",\"hoverlabel\":{\"align\":\"left\"},\"paper_bgcolor\":\"white\",\"plot_bgcolor\":\"#E5ECF6\",\"polar\":{\"bgcolor\":\"#E5ECF6\",\"angularaxis\":{\"gridcolor\":\"white\",\"linecolor\":\"white\",\"ticks\":\"\"},\"radialaxis\":{\"gridcolor\":\"white\",\"linecolor\":\"white\",\"ticks\":\"\"}},\"ternary\":{\"bgcolor\":\"#E5ECF6\",\"aaxis\":{\"gridcolor\":\"white\",\"linecolor\":\"white\",\"ticks\":\"\"},\"baxis\":{\"gridcolor\":\"white\",\"linecolor\":\"white\",\"ticks\":\"\"},\"caxis\":{\"gridcolor\":\"white\",\"linecolor\":\"white\",\"ticks\":\"\"}},\"coloraxis\":{\"colorbar\":{\"outlinewidth\":0,\"ticks\":\"\"}},\"colorscale\":{\"sequential\":[[0.0,\"#0d0887\"],[0.1111111111111111,\"#46039f\"],[0.2222222222222222,\"#7201a8\"],[0.3333333333333333,\"#9c179e\"],[0.4444444444444444,\"#bd3786\"],[0.5555555555555556,\"#d8576b\"],[0.6666666666666666,\"#ed7953\"],[0.7777777777777778,\"#fb9f3a\"],[0.8888888888888888,\"#fdca26\"],[1.0,\"#f0f921\"]],\"sequentialminus\":[[0.0,\"#0d0887\"],[0.1111111111111111,\"#46039f\"],[0.2222222222222222,\"#7201a8\"],[0.3333333333333333,\"#9c179e\"],[0.4444444444444444,\"#bd3786\"],[0.5555555555555556,\"#d8576b\"],[0.6666666666666666,\"#ed7953\"],[0.7777777777777778,\"#fb9f3a\"],[0.8888888888888888,\"#fdca26\"],[1.0,\"#f0f921\"]],\"diverging\":[[0,\"#8e0152\"],[0.1,\"#c51b7d\"],[0.2,\"#de77ae\"],[0.3,\"#f1b6da\"],[0.4,\"#fde0ef\"],[0.5,\"#f7f7f7\"],[0.6,\"#e6f5d0\"],[0.7,\"#b8e186\"],[0.8,\"#7fbc41\"],[0.9,\"#4d9221\"],[1,\"#276419\"]]},\"xaxis\":{\"gridcolor\":\"white\",\"linecolor\":\"white\",\"ticks\":\"\",\"title\":{\"standoff\":15},\"zerolinecolor\":\"white\",\"automargin\":true,\"zerolinewidth\":2},\"yaxis\":{\"gridcolor\":\"white\",\"linecolor\":\"white\",\"ticks\":\"\",\"title\":{\"standoff\":15},\"zerolinecolor\":\"white\",\"automargin\":true,\"zerolinewidth\":2},\"scene\":{\"xaxis\":{\"backgroundcolor\":\"#E5ECF6\",\"gridcolor\":\"white\",\"linecolor\":\"white\",\"showbackground\":true,\"ticks\":\"\",\"zerolinecolor\":\"white\",\"gridwidth\":2},\"yaxis\":{\"backgroundcolor\":\"#E5ECF6\",\"gridcolor\":\"white\",\"linecolor\":\"white\",\"showbackground\":true,\"ticks\":\"\",\"zerolinecolor\":\"white\",\"gridwidth\":2},\"zaxis\":{\"backgroundcolor\":\"#E5ECF6\",\"gridcolor\":\"white\",\"linecolor\":\"white\",\"showbackground\":true,\"ticks\":\"\",\"zerolinecolor\":\"white\",\"gridwidth\":2}},\"shapedefaults\":{\"line\":{\"color\":\"#2a3f5f\"}},\"annotationdefaults\":{\"arrowcolor\":\"#2a3f5f\",\"arrowhead\":0,\"arrowwidth\":1},\"geo\":{\"bgcolor\":\"white\",\"landcolor\":\"#E5ECF6\",\"subunitcolor\":\"white\",\"showland\":true,\"showlakes\":true,\"lakecolor\":\"white\"},\"title\":{\"x\":0.05},\"mapbox\":{\"style\":\"light\"}}},\"yaxis2\":{\"title\":{\"text\":\"value_visits_visits\"},\"overlaying\":\"y\",\"side\":\"right\"},\"legend\":{\"x\":0.01,\"y\":0.99},\"yaxis\":{\"title\":{\"text\":\"bii_score\"}},\"xaxis\":{\"title\":{\"text\":\"Index\"}}},                        {\"responsive\": true}                    )                };                            </script>        </div>\n",
       "</body>\n",
       "</html>"
      ]
     },
     "metadata": {},
     "output_type": "display_data"
    }
   ],
   "source": [
    "import plotly.graph_objects as go\n",
    "\n",
    "fig = go.Figure()\n",
    "fig.add_trace(go.Scatter(y=scaled['bii_score'], name='bii_score', yaxis='y1'))\n",
    "fig.add_trace(go.Scatter(y=scaled['value_visits_visits'], name='value_visits_visits', yaxis='y2'))\n",
    "\n",
    "fig.update_layout(\n",
    "    yaxis=dict(title='bii_score'),\n",
    "    yaxis2=dict(title='value_visits_visits', overlaying='y', side='right'),\n",
    "    xaxis=dict(title='Index'),\n",
    "    legend=dict(x=0.01, y=0.99)\n",
    ")\n",
    "fig.show()"
   ]
  },
  {
   "cell_type": "code",
   "execution_count": 0,
   "metadata": {
    "application/vnd.databricks.v1+cell": {
     "cellMetadata": {
      "byteLimit": 2048000,
      "rowLimit": 10000
     },
     "inputWidgets": {},
     "nuid": "b4506495-02ed-48e6-ac69-b5ecf780f6dc",
     "showTitle": false,
     "tableResultSettingsMap": {},
     "title": ""
    }
   },
   "outputs": [
    {
     "output_type": "display_data",
     "data": {
      "text/html": [
       "<html>\n",
       "<head><meta charset=\"utf-8\" /></head>\n",
       "<body>\n",
       "    <div>            <script src=\"https://cdnjs.cloudflare.com/ajax/libs/mathjax/2.7.5/MathJax.js?config=TeX-AMS-MML_SVG\"></script><script type=\"text/javascript\">if (window.MathJax && window.MathJax.Hub && window.MathJax.Hub.Config) {window.MathJax.Hub.Config({SVG: {font: \"STIX-Web\"}});}</script>                <script type=\"text/javascript\">window.PlotlyConfig = {MathJaxConfig: 'local'};</script>\n",
       "        <script charset=\"utf-8\" src=\"https://cdn.plot.ly/plotly-2.32.0.min.js\"></script>                <div id=\"302874a1-7815-4f01-ad6b-7ae71d296eaa\" class=\"plotly-graph-div\" style=\"height:100%; width:100%;\"></div>            <script type=\"text/javascript\">                                    window.PLOTLYENV=window.PLOTLYENV || {};                                    if (document.getElementById(\"302874a1-7815-4f01-ad6b-7ae71d296eaa\")) {                    Plotly.newPlot(                        \"302874a1-7815-4f01-ad6b-7ae71d296eaa\",                        [{\"name\":\"bii_score\",\"y\":[0.9525430319062589,0.9937127508811646,0.979361523270237,1.0024868660235058,0.9889384642748561,0.9440344891320659,0.9791092096380294,0.9845806218786045,1.0087769164923752,0.9980621970825362,0.9731787422619627,0.996461965684867,0.9875933622681563,1.0108408844450285,0.9914448713152799,1.0331086747977756,0.9931064107596728],\"yaxis\":\"y\",\"type\":\"scatter\"},{\"name\":\"value_leads_fs_submits\",\"y\":[0.8717749092505196,0.7590853605790024,1.0,0.7697446199094586,0.8178891014119434,0.8594400284503223,0.9684419283423522,0.8754753734905791,0.5762055343566477,0.400396638504692,0.14642624862634257,0.0,0.6311518215575269,0.3393598036671439,0.869810939917917,0.7619688392076198,0.9443008044905374],\"yaxis\":\"y2\",\"type\":\"scatter\"}],                        {\"template\":{\"data\":{\"histogram2dcontour\":[{\"type\":\"histogram2dcontour\",\"colorbar\":{\"outlinewidth\":0,\"ticks\":\"\"},\"colorscale\":[[0.0,\"#0d0887\"],[0.1111111111111111,\"#46039f\"],[0.2222222222222222,\"#7201a8\"],[0.3333333333333333,\"#9c179e\"],[0.4444444444444444,\"#bd3786\"],[0.5555555555555556,\"#d8576b\"],[0.6666666666666666,\"#ed7953\"],[0.7777777777777778,\"#fb9f3a\"],[0.8888888888888888,\"#fdca26\"],[1.0,\"#f0f921\"]]}],\"choropleth\":[{\"type\":\"choropleth\",\"colorbar\":{\"outlinewidth\":0,\"ticks\":\"\"}}],\"histogram2d\":[{\"type\":\"histogram2d\",\"colorbar\":{\"outlinewidth\":0,\"ticks\":\"\"},\"colorscale\":[[0.0,\"#0d0887\"],[0.1111111111111111,\"#46039f\"],[0.2222222222222222,\"#7201a8\"],[0.3333333333333333,\"#9c179e\"],[0.4444444444444444,\"#bd3786\"],[0.5555555555555556,\"#d8576b\"],[0.6666666666666666,\"#ed7953\"],[0.7777777777777778,\"#fb9f3a\"],[0.8888888888888888,\"#fdca26\"],[1.0,\"#f0f921\"]]}],\"heatmap\":[{\"type\":\"heatmap\",\"colorbar\":{\"outlinewidth\":0,\"ticks\":\"\"},\"colorscale\":[[0.0,\"#0d0887\"],[0.1111111111111111,\"#46039f\"],[0.2222222222222222,\"#7201a8\"],[0.3333333333333333,\"#9c179e\"],[0.4444444444444444,\"#bd3786\"],[0.5555555555555556,\"#d8576b\"],[0.6666666666666666,\"#ed7953\"],[0.7777777777777778,\"#fb9f3a\"],[0.8888888888888888,\"#fdca26\"],[1.0,\"#f0f921\"]]}],\"heatmapgl\":[{\"type\":\"heatmapgl\",\"colorbar\":{\"outlinewidth\":0,\"ticks\":\"\"},\"colorscale\":[[0.0,\"#0d0887\"],[0.1111111111111111,\"#46039f\"],[0.2222222222222222,\"#7201a8\"],[0.3333333333333333,\"#9c179e\"],[0.4444444444444444,\"#bd3786\"],[0.5555555555555556,\"#d8576b\"],[0.6666666666666666,\"#ed7953\"],[0.7777777777777778,\"#fb9f3a\"],[0.8888888888888888,\"#fdca26\"],[1.0,\"#f0f921\"]]}],\"contourcarpet\":[{\"type\":\"contourcarpet\",\"colorbar\":{\"outlinewidth\":0,\"ticks\":\"\"}}],\"contour\":[{\"type\":\"contour\",\"colorbar\":{\"outlinewidth\":0,\"ticks\":\"\"},\"colorscale\":[[0.0,\"#0d0887\"],[0.1111111111111111,\"#46039f\"],[0.2222222222222222,\"#7201a8\"],[0.3333333333333333,\"#9c179e\"],[0.4444444444444444,\"#bd3786\"],[0.5555555555555556,\"#d8576b\"],[0.6666666666666666,\"#ed7953\"],[0.7777777777777778,\"#fb9f3a\"],[0.8888888888888888,\"#fdca26\"],[1.0,\"#f0f921\"]]}],\"surface\":[{\"type\":\"surface\",\"colorbar\":{\"outlinewidth\":0,\"ticks\":\"\"},\"colorscale\":[[0.0,\"#0d0887\"],[0.1111111111111111,\"#46039f\"],[0.2222222222222222,\"#7201a8\"],[0.3333333333333333,\"#9c179e\"],[0.4444444444444444,\"#bd3786\"],[0.5555555555555556,\"#d8576b\"],[0.6666666666666666,\"#ed7953\"],[0.7777777777777778,\"#fb9f3a\"],[0.8888888888888888,\"#fdca26\"],[1.0,\"#f0f921\"]]}],\"mesh3d\":[{\"type\":\"mesh3d\",\"colorbar\":{\"outlinewidth\":0,\"ticks\":\"\"}}],\"scatter\":[{\"fillpattern\":{\"fillmode\":\"overlay\",\"size\":10,\"solidity\":0.2},\"type\":\"scatter\"}],\"parcoords\":[{\"type\":\"parcoords\",\"line\":{\"colorbar\":{\"outlinewidth\":0,\"ticks\":\"\"}}}],\"scatterpolargl\":[{\"type\":\"scatterpolargl\",\"marker\":{\"colorbar\":{\"outlinewidth\":0,\"ticks\":\"\"}}}],\"bar\":[{\"error_x\":{\"color\":\"#2a3f5f\"},\"error_y\":{\"color\":\"#2a3f5f\"},\"marker\":{\"line\":{\"color\":\"#E5ECF6\",\"width\":0.5},\"pattern\":{\"fillmode\":\"overlay\",\"size\":10,\"solidity\":0.2}},\"type\":\"bar\"}],\"scattergeo\":[{\"type\":\"scattergeo\",\"marker\":{\"colorbar\":{\"outlinewidth\":0,\"ticks\":\"\"}}}],\"scatterpolar\":[{\"type\":\"scatterpolar\",\"marker\":{\"colorbar\":{\"outlinewidth\":0,\"ticks\":\"\"}}}],\"histogram\":[{\"marker\":{\"pattern\":{\"fillmode\":\"overlay\",\"size\":10,\"solidity\":0.2}},\"type\":\"histogram\"}],\"scattergl\":[{\"type\":\"scattergl\",\"marker\":{\"colorbar\":{\"outlinewidth\":0,\"ticks\":\"\"}}}],\"scatter3d\":[{\"type\":\"scatter3d\",\"line\":{\"colorbar\":{\"outlinewidth\":0,\"ticks\":\"\"}},\"marker\":{\"colorbar\":{\"outlinewidth\":0,\"ticks\":\"\"}}}],\"scattermapbox\":[{\"type\":\"scattermapbox\",\"marker\":{\"colorbar\":{\"outlinewidth\":0,\"ticks\":\"\"}}}],\"scatterternary\":[{\"type\":\"scatterternary\",\"marker\":{\"colorbar\":{\"outlinewidth\":0,\"ticks\":\"\"}}}],\"scattercarpet\":[{\"type\":\"scattercarpet\",\"marker\":{\"colorbar\":{\"outlinewidth\":0,\"ticks\":\"\"}}}],\"carpet\":[{\"aaxis\":{\"endlinecolor\":\"#2a3f5f\",\"gridcolor\":\"white\",\"linecolor\":\"white\",\"minorgridcolor\":\"white\",\"startlinecolor\":\"#2a3f5f\"},\"baxis\":{\"endlinecolor\":\"#2a3f5f\",\"gridcolor\":\"white\",\"linecolor\":\"white\",\"minorgridcolor\":\"white\",\"startlinecolor\":\"#2a3f5f\"},\"type\":\"carpet\"}],\"table\":[{\"cells\":{\"fill\":{\"color\":\"#EBF0F8\"},\"line\":{\"color\":\"white\"}},\"header\":{\"fill\":{\"color\":\"#C8D4E3\"},\"line\":{\"color\":\"white\"}},\"type\":\"table\"}],\"barpolar\":[{\"marker\":{\"line\":{\"color\":\"#E5ECF6\",\"width\":0.5},\"pattern\":{\"fillmode\":\"overlay\",\"size\":10,\"solidity\":0.2}},\"type\":\"barpolar\"}],\"pie\":[{\"automargin\":true,\"type\":\"pie\"}]},\"layout\":{\"autotypenumbers\":\"strict\",\"colorway\":[\"#636efa\",\"#EF553B\",\"#00cc96\",\"#ab63fa\",\"#FFA15A\",\"#19d3f3\",\"#FF6692\",\"#B6E880\",\"#FF97FF\",\"#FECB52\"],\"font\":{\"color\":\"#2a3f5f\"},\"hovermode\":\"closest\",\"hoverlabel\":{\"align\":\"left\"},\"paper_bgcolor\":\"white\",\"plot_bgcolor\":\"#E5ECF6\",\"polar\":{\"bgcolor\":\"#E5ECF6\",\"angularaxis\":{\"gridcolor\":\"white\",\"linecolor\":\"white\",\"ticks\":\"\"},\"radialaxis\":{\"gridcolor\":\"white\",\"linecolor\":\"white\",\"ticks\":\"\"}},\"ternary\":{\"bgcolor\":\"#E5ECF6\",\"aaxis\":{\"gridcolor\":\"white\",\"linecolor\":\"white\",\"ticks\":\"\"},\"baxis\":{\"gridcolor\":\"white\",\"linecolor\":\"white\",\"ticks\":\"\"},\"caxis\":{\"gridcolor\":\"white\",\"linecolor\":\"white\",\"ticks\":\"\"}},\"coloraxis\":{\"colorbar\":{\"outlinewidth\":0,\"ticks\":\"\"}},\"colorscale\":{\"sequential\":[[0.0,\"#0d0887\"],[0.1111111111111111,\"#46039f\"],[0.2222222222222222,\"#7201a8\"],[0.3333333333333333,\"#9c179e\"],[0.4444444444444444,\"#bd3786\"],[0.5555555555555556,\"#d8576b\"],[0.6666666666666666,\"#ed7953\"],[0.7777777777777778,\"#fb9f3a\"],[0.8888888888888888,\"#fdca26\"],[1.0,\"#f0f921\"]],\"sequentialminus\":[[0.0,\"#0d0887\"],[0.1111111111111111,\"#46039f\"],[0.2222222222222222,\"#7201a8\"],[0.3333333333333333,\"#9c179e\"],[0.4444444444444444,\"#bd3786\"],[0.5555555555555556,\"#d8576b\"],[0.6666666666666666,\"#ed7953\"],[0.7777777777777778,\"#fb9f3a\"],[0.8888888888888888,\"#fdca26\"],[1.0,\"#f0f921\"]],\"diverging\":[[0,\"#8e0152\"],[0.1,\"#c51b7d\"],[0.2,\"#de77ae\"],[0.3,\"#f1b6da\"],[0.4,\"#fde0ef\"],[0.5,\"#f7f7f7\"],[0.6,\"#e6f5d0\"],[0.7,\"#b8e186\"],[0.8,\"#7fbc41\"],[0.9,\"#4d9221\"],[1,\"#276419\"]]},\"xaxis\":{\"gridcolor\":\"white\",\"linecolor\":\"white\",\"ticks\":\"\",\"title\":{\"standoff\":15},\"zerolinecolor\":\"white\",\"automargin\":true,\"zerolinewidth\":2},\"yaxis\":{\"gridcolor\":\"white\",\"linecolor\":\"white\",\"ticks\":\"\",\"title\":{\"standoff\":15},\"zerolinecolor\":\"white\",\"automargin\":true,\"zerolinewidth\":2},\"scene\":{\"xaxis\":{\"backgroundcolor\":\"#E5ECF6\",\"gridcolor\":\"white\",\"linecolor\":\"white\",\"showbackground\":true,\"ticks\":\"\",\"zerolinecolor\":\"white\",\"gridwidth\":2},\"yaxis\":{\"backgroundcolor\":\"#E5ECF6\",\"gridcolor\":\"white\",\"linecolor\":\"white\",\"showbackground\":true,\"ticks\":\"\",\"zerolinecolor\":\"white\",\"gridwidth\":2},\"zaxis\":{\"backgroundcolor\":\"#E5ECF6\",\"gridcolor\":\"white\",\"linecolor\":\"white\",\"showbackground\":true,\"ticks\":\"\",\"zerolinecolor\":\"white\",\"gridwidth\":2}},\"shapedefaults\":{\"line\":{\"color\":\"#2a3f5f\"}},\"annotationdefaults\":{\"arrowcolor\":\"#2a3f5f\",\"arrowhead\":0,\"arrowwidth\":1},\"geo\":{\"bgcolor\":\"white\",\"landcolor\":\"#E5ECF6\",\"subunitcolor\":\"white\",\"showland\":true,\"showlakes\":true,\"lakecolor\":\"white\"},\"title\":{\"x\":0.05},\"mapbox\":{\"style\":\"light\"}}},\"yaxis2\":{\"title\":{\"text\":\"value_leads_fs_submits\"},\"overlaying\":\"y\",\"side\":\"right\"},\"legend\":{\"x\":0.01,\"y\":0.99},\"yaxis\":{\"title\":{\"text\":\"bii_score\"}},\"xaxis\":{\"title\":{\"text\":\"Index\"}}},                        {\"responsive\": true}                    )                };                            </script>        </div>\n",
       "</body>\n",
       "</html>"
      ]
     },
     "metadata": {},
     "output_type": "display_data"
    }
   ],
   "source": [
    "import plotly.graph_objects as go\n",
    "\n",
    "fig = go.Figure()\n",
    "fig.add_trace(go.Scatter(y=scaled['bii_score'], name='bii_score', yaxis='y1'))\n",
    "fig.add_trace(go.Scatter(y=scaled['value_leads_fs_submits'], name='value_leads_fs_submits', yaxis='y2'))\n",
    "\n",
    "fig.update_layout(\n",
    "    yaxis=dict(title='bii_score'),\n",
    "    yaxis2=dict(title='value_leads_fs_submits', overlaying='y', side='right'),\n",
    "    xaxis=dict(title='Index'),\n",
    "    legend=dict(x=0.01, y=0.99)\n",
    ")\n",
    "fig.show()"
   ]
  },
  {
   "cell_type": "code",
   "execution_count": 0,
   "metadata": {
    "application/vnd.databricks.v1+cell": {
     "cellMetadata": {},
     "inputWidgets": {},
     "nuid": "36cfe774-b3a4-4ddd-8099-fd0a2313f964",
     "showTitle": false,
     "tableResultSettingsMap": {},
     "title": ""
    }
   },
   "outputs": [],
   "source": [
    "# There seems to be a lagged correlation of bii_score on the fs submits;"
   ]
  },
  {
   "cell_type": "code",
   "execution_count": 0,
   "metadata": {
    "application/vnd.databricks.v1+cell": {
     "cellMetadata": {
      "byteLimit": 2048000,
      "rowLimit": 10000
     },
     "inputWidgets": {},
     "nuid": "5a5d6553-f495-481c-b911-da78bacf8fa7",
     "showTitle": false,
     "tableResultSettingsMap": {},
     "title": ""
    }
   },
   "outputs": [
    {
     "output_type": "execute_result",
     "data": {
      "text/html": [
       "<div>\n",
       "<style scoped>\n",
       "    .dataframe tbody tr th:only-of-type {\n",
       "        vertical-align: middle;\n",
       "    }\n",
       "\n",
       "    .dataframe tbody tr th {\n",
       "        vertical-align: top;\n",
       "    }\n",
       "\n",
       "    .dataframe thead th {\n",
       "        text-align: right;\n",
       "    }\n",
       "</style>\n",
       "<table border=\"1\" class=\"dataframe\">\n",
       "  <thead>\n",
       "    <tr style=\"text-align: right;\">\n",
       "      <th></th>\n",
       "      <th>month</th>\n",
       "      <th>visits</th>\n",
       "    </tr>\n",
       "  </thead>\n",
       "  <tbody>\n",
       "    <tr>\n",
       "      <th>0</th>\n",
       "      <td>2020-01-01</td>\n",
       "      <td>589395193.0</td>\n",
       "    </tr>\n",
       "    <tr>\n",
       "      <th>1</th>\n",
       "      <td>2020-02-01</td>\n",
       "      <td>584401212.0</td>\n",
       "    </tr>\n",
       "    <tr>\n",
       "      <th>2</th>\n",
       "      <td>2020-03-01</td>\n",
       "      <td>583106822.0</td>\n",
       "    </tr>\n",
       "    <tr>\n",
       "      <th>3</th>\n",
       "      <td>2020-04-01</td>\n",
       "      <td>605026017.0</td>\n",
       "    </tr>\n",
       "    <tr>\n",
       "      <th>4</th>\n",
       "      <td>2020-05-01</td>\n",
       "      <td>760839578.0</td>\n",
       "    </tr>\n",
       "  </tbody>\n",
       "</table>\n",
       "</div>"
      ],
      "text/plain": [
       "       month       visits\n",
       "0 2020-01-01  589395193.0\n",
       "1 2020-02-01  584401212.0\n",
       "2 2020-03-01  583106822.0\n",
       "3 2020-04-01  605026017.0\n",
       "4 2020-05-01  760839578.0"
      ]
     },
     "execution_count": 14,
     "metadata": {},
     "output_type": "execute_result"
    }
   ],
   "source": [
    "visits = spark.sql(\"\"\"select date_trunc('month', date) as month, sum(value) visits from marketing.marketingde_gold.mmm_business_metrics\n",
    "                   where metric = 'visits' group by date_trunc('month', date) order by month\"\"\")\n",
    "visits = visits.toPandas()\n",
    "visits.head()\n"
   ]
  },
  {
   "cell_type": "code",
   "execution_count": 0,
   "metadata": {
    "application/vnd.databricks.v1+cell": {
     "cellMetadata": {
      "byteLimit": 2048000,
      "rowLimit": 10000
     },
     "inputWidgets": {},
     "nuid": "71767d8c-50bf-4b67-a4cb-7ef98a982afc",
     "showTitle": false,
     "tableResultSettingsMap": {},
     "title": ""
    }
   },
   "outputs": [
    {
     "output_type": "execute_result",
     "data": {
      "text/plain": [
       "<Axes: >"
      ]
     },
     "execution_count": 15,
     "metadata": {},
     "output_type": "execute_result"
    },
    {
     "output_type": "display_data",
     "data": {
      "image/png": "[encoded data removed]",
      "text/plain": [
       "<Figure size 640x480 with 1 Axes>"
      ]
     },
     "metadata": {},
     "output_type": "display_data"
    }
   ],
   "source": [
    "# How do I extract monthly seasonality from this?\n",
    "\n",
    "from statsmodels.tsa.seasonal import seasonal_decompose\n",
    "\n",
    "decomposed = seasonal_decompose(visits['visits'], model='multiplicative', period=12)\n",
    "decomposed.seasonal.plot()\n",
    "decomposed.trend.plot()\n",
    "decomposed.resid.plot()"
   ]
  },
  {
   "cell_type": "code",
   "execution_count": 0,
   "metadata": {
    "application/vnd.databricks.v1+cell": {
     "cellMetadata": {
      "byteLimit": 2048000,
      "rowLimit": 10000
     },
     "inputWidgets": {},
     "nuid": "95f53826-1839-4c59-a3ef-444aa9ba16cb",
     "showTitle": false,
     "tableResultSettingsMap": {},
     "title": ""
    }
   },
   "outputs": [],
   "source": [
    "visits['seasonal'] = decomposed.seasonal"
   ]
  },
  {
   "cell_type": "code",
   "execution_count": 0,
   "metadata": {
    "application/vnd.databricks.v1+cell": {
     "cellMetadata": {
      "byteLimit": 2048000,
      "rowLimit": 10000
     },
     "inputWidgets": {},
     "nuid": "0c2df0ec-193d-4364-bc46-490d6f1516d8",
     "showTitle": false,
     "tableResultSettingsMap": {},
     "title": ""
    }
   },
   "outputs": [],
   "source": [
    "scaled.index = aggregated['month']"
   ]
  },
  {
   "cell_type": "code",
   "execution_count": 0,
   "metadata": {
    "application/vnd.databricks.v1+cell": {
     "cellMetadata": {
      "byteLimit": 2048000,
      "rowLimit": 10000
     },
     "inputWidgets": {},
     "nuid": "5224ed02-50b8-4012-9185-a08512cae720",
     "showTitle": false,
     "tableResultSettingsMap": {},
     "title": ""
    }
   },
   "outputs": [],
   "source": [
    "visits['month'] = visits['month'].astype(str)"
   ]
  },
  {
   "cell_type": "code",
   "execution_count": 0,
   "metadata": {
    "application/vnd.databricks.v1+cell": {
     "cellMetadata": {
      "byteLimit": 2048000,
      "rowLimit": 10000
     },
     "inputWidgets": {},
     "nuid": "a5949f59-11ec-4581-b3ef-715f6b58bd0b",
     "showTitle": false,
     "tableResultSettingsMap": {},
     "title": ""
    }
   },
   "outputs": [],
   "source": [
    "scaled.reset_index(inplace = True)\n",
    "\n"
   ]
  },
  {
   "cell_type": "code",
   "execution_count": 0,
   "metadata": {
    "application/vnd.databricks.v1+cell": {
     "cellMetadata": {
      "byteLimit": 2048000,
      "rowLimit": 10000
     },
     "inputWidgets": {},
     "nuid": "94ea46cf-d828-44a2-b713-a6bbb4f1b154",
     "showTitle": false,
     "tableResultSettingsMap": {},
     "title": ""
    }
   },
   "outputs": [],
   "source": [
    "scaled = scaled.merge(visits[['month','seasonal']], on = 'month')"
   ]
  },
  {
   "cell_type": "code",
   "execution_count": 0,
   "metadata": {
    "application/vnd.databricks.v1+cell": {
     "cellMetadata": {
      "byteLimit": 2048000,
      "rowLimit": 10000
     },
     "inputWidgets": {},
     "nuid": "cc0c02e5-2084-477b-96e6-29d20b6006b1",
     "showTitle": false,
     "tableResultSettingsMap": {},
     "title": ""
    }
   },
   "outputs": [],
   "source": [
    "scaled.drop(columns = ['month'], axis = 1, inplace = True)"
   ]
  },
  {
   "cell_type": "code",
   "execution_count": 0,
   "metadata": {
    "application/vnd.databricks.v1+cell": {
     "cellMetadata": {
      "byteLimit": 2048000,
      "rowLimit": 10000
     },
     "inputWidgets": {},
     "nuid": "86407403-4df3-4294-b7bd-f3dfbf069fda",
     "showTitle": false,
     "tableResultSettingsMap": {},
     "title": ""
    }
   },
   "outputs": [
    {
     "output_type": "execute_result",
     "data": {
      "text/html": [
       "<div>\n",
       "<style scoped>\n",
       "    .dataframe tbody tr th:only-of-type {\n",
       "        vertical-align: middle;\n",
       "    }\n",
       "\n",
       "    .dataframe tbody tr th {\n",
       "        vertical-align: top;\n",
       "    }\n",
       "\n",
       "    .dataframe thead th {\n",
       "        text-align: right;\n",
       "    }\n",
       "</style>\n",
       "<table border=\"1\" class=\"dataframe\">\n",
       "  <thead>\n",
       "    <tr style=\"text-align: right;\">\n",
       "      <th></th>\n",
       "      <th>impressions_App_None</th>\n",
       "      <th>impressions_Audio_None</th>\n",
       "      <th>impressions_Display_None</th>\n",
       "      <th>impressions_Email_None</th>\n",
       "      <th>impressions_MediaSolutions_None</th>\n",
       "      <th>impressions_MediaTransformation_None</th>\n",
       "      <th>impressions_Native_None</th>\n",
       "      <th>impressions_OnlineVideo_None</th>\n",
       "      <th>impressions_OperationalEmails_None</th>\n",
       "      <th>impressions_OwnedSocial_None</th>\n",
       "      <th>impressions_PaidSocial_None</th>\n",
       "      <th>impressions_Push_null</th>\n",
       "      <th>impressions_SEM_None</th>\n",
       "      <th>impressions_TV_None</th>\n",
       "      <th>value_visits_visits</th>\n",
       "      <th>value_leads_fs_submits</th>\n",
       "      <th>bii_score</th>\n",
       "      <th>seasonal</th>\n",
       "    </tr>\n",
       "  </thead>\n",
       "  <tbody>\n",
       "    <tr>\n",
       "      <th>0</th>\n",
       "      <td>0.129567</td>\n",
       "      <td>0.000000</td>\n",
       "      <td>0.020023</td>\n",
       "      <td>0.050383</td>\n",
       "      <td>0.731748</td>\n",
       "      <td>0.000000</td>\n",
       "      <td>0.000000</td>\n",
       "      <td>0.071510</td>\n",
       "      <td>9.144683e-01</td>\n",
       "      <td>0.350314</td>\n",
       "      <td>0.121343</td>\n",
       "      <td>0.006092</td>\n",
       "      <td>0.080545</td>\n",
       "      <td>0.005163</td>\n",
       "      <td>0.287160</td>\n",
       "      <td>0.871775</td>\n",
       "      <td>0.952543</td>\n",
       "      <td>0.988850</td>\n",
       "    </tr>\n",
       "    <tr>\n",
       "      <th>1</th>\n",
       "      <td>0.301624</td>\n",
       "      <td>0.000000</td>\n",
       "      <td>0.000000</td>\n",
       "      <td>0.000000</td>\n",
       "      <td>0.614315</td>\n",
       "      <td>0.000000</td>\n",
       "      <td>0.000000</td>\n",
       "      <td>0.573143</td>\n",
       "      <td>9.025795e-01</td>\n",
       "      <td>0.389883</td>\n",
       "      <td>0.088901</td>\n",
       "      <td>0.000000</td>\n",
       "      <td>0.078981</td>\n",
       "      <td>0.005400</td>\n",
       "      <td>0.297662</td>\n",
       "      <td>0.759085</td>\n",
       "      <td>0.993713</td>\n",
       "      <td>0.929040</td>\n",
       "    </tr>\n",
       "    <tr>\n",
       "      <th>2</th>\n",
       "      <td>0.000000</td>\n",
       "      <td>0.000000</td>\n",
       "      <td>0.042101</td>\n",
       "      <td>0.488776</td>\n",
       "      <td>0.660730</td>\n",
       "      <td>0.000000</td>\n",
       "      <td>0.000000</td>\n",
       "      <td>0.000000</td>\n",
       "      <td>1.000000e+00</td>\n",
       "      <td>0.128719</td>\n",
       "      <td>0.090246</td>\n",
       "      <td>0.063271</td>\n",
       "      <td>0.252356</td>\n",
       "      <td>0.790402</td>\n",
       "      <td>0.569570</td>\n",
       "      <td>1.000000</td>\n",
       "      <td>0.979362</td>\n",
       "      <td>1.066404</td>\n",
       "    </tr>\n",
       "    <tr>\n",
       "      <th>3</th>\n",
       "      <td>0.075265</td>\n",
       "      <td>0.000000</td>\n",
       "      <td>0.001706</td>\n",
       "      <td>0.452201</td>\n",
       "      <td>0.703642</td>\n",
       "      <td>0.000000</td>\n",
       "      <td>0.000000</td>\n",
       "      <td>0.063278</td>\n",
       "      <td>6.129465e-05</td>\n",
       "      <td>0.434064</td>\n",
       "      <td>0.167931</td>\n",
       "      <td>0.695797</td>\n",
       "      <td>0.248729</td>\n",
       "      <td>0.800098</td>\n",
       "      <td>0.614465</td>\n",
       "      <td>0.769745</td>\n",
       "      <td>1.002487</td>\n",
       "      <td>1.067724</td>\n",
       "    </tr>\n",
       "    <tr>\n",
       "      <th>4</th>\n",
       "      <td>0.108605</td>\n",
       "      <td>0.000000</td>\n",
       "      <td>0.473935</td>\n",
       "      <td>0.852141</td>\n",
       "      <td>0.000000</td>\n",
       "      <td>0.000000</td>\n",
       "      <td>0.385905</td>\n",
       "      <td>0.347803</td>\n",
       "      <td>5.441353e-05</td>\n",
       "      <td>0.247736</td>\n",
       "      <td>0.386372</td>\n",
       "      <td>0.757862</td>\n",
       "      <td>0.586647</td>\n",
       "      <td>0.781568</td>\n",
       "      <td>0.694689</td>\n",
       "      <td>0.817889</td>\n",
       "      <td>0.988938</td>\n",
       "      <td>1.086393</td>\n",
       "    </tr>\n",
       "    <tr>\n",
       "      <th>5</th>\n",
       "      <td>0.736474</td>\n",
       "      <td>0.000000</td>\n",
       "      <td>0.653713</td>\n",
       "      <td>0.781053</td>\n",
       "      <td>0.174510</td>\n",
       "      <td>0.000000</td>\n",
       "      <td>0.660904</td>\n",
       "      <td>0.559068</td>\n",
       "      <td>4.761285e-06</td>\n",
       "      <td>0.420211</td>\n",
       "      <td>0.658525</td>\n",
       "      <td>1.000000</td>\n",
       "      <td>0.762406</td>\n",
       "      <td>0.798061</td>\n",
       "      <td>0.659302</td>\n",
       "      <td>0.859440</td>\n",
       "      <td>0.944034</td>\n",
       "      <td>1.069511</td>\n",
       "    </tr>\n",
       "    <tr>\n",
       "      <th>6</th>\n",
       "      <td>1.000000</td>\n",
       "      <td>0.000000</td>\n",
       "      <td>1.000000</td>\n",
       "      <td>0.899044</td>\n",
       "      <td>0.022299</td>\n",
       "      <td>0.000000</td>\n",
       "      <td>1.000000</td>\n",
       "      <td>1.000000</td>\n",
       "      <td>3.047406e-03</td>\n",
       "      <td>0.831045</td>\n",
       "      <td>1.000000</td>\n",
       "      <td>0.795775</td>\n",
       "      <td>0.854967</td>\n",
       "      <td>0.792314</td>\n",
       "      <td>0.743101</td>\n",
       "      <td>0.968442</td>\n",
       "      <td>0.979109</td>\n",
       "      <td>1.110735</td>\n",
       "    </tr>\n",
       "    <tr>\n",
       "      <th>7</th>\n",
       "      <td>0.949765</td>\n",
       "      <td>0.000000</td>\n",
       "      <td>0.731100</td>\n",
       "      <td>1.000000</td>\n",
       "      <td>0.287024</td>\n",
       "      <td>0.000000</td>\n",
       "      <td>0.553976</td>\n",
       "      <td>0.885293</td>\n",
       "      <td>3.466408e-06</td>\n",
       "      <td>1.000000</td>\n",
       "      <td>0.824652</td>\n",
       "      <td>0.143893</td>\n",
       "      <td>0.837208</td>\n",
       "      <td>0.628199</td>\n",
       "      <td>0.666842</td>\n",
       "      <td>0.875475</td>\n",
       "      <td>0.984581</td>\n",
       "      <td>1.098333</td>\n",
       "    </tr>\n",
       "    <tr>\n",
       "      <th>8</th>\n",
       "      <td>0.886760</td>\n",
       "      <td>0.000000</td>\n",
       "      <td>0.694550</td>\n",
       "      <td>0.576034</td>\n",
       "      <td>0.580649</td>\n",
       "      <td>0.000000</td>\n",
       "      <td>0.461392</td>\n",
       "      <td>0.782834</td>\n",
       "      <td>1.726885e-06</td>\n",
       "      <td>0.648343</td>\n",
       "      <td>0.667206</td>\n",
       "      <td>0.119651</td>\n",
       "      <td>0.788583</td>\n",
       "      <td>0.572260</td>\n",
       "      <td>0.452537</td>\n",
       "      <td>0.576206</td>\n",
       "      <td>1.008777</td>\n",
       "      <td>0.995306</td>\n",
       "    </tr>\n",
       "    <tr>\n",
       "      <th>9</th>\n",
       "      <td>0.401286</td>\n",
       "      <td>0.000000</td>\n",
       "      <td>0.041732</td>\n",
       "      <td>0.462541</td>\n",
       "      <td>0.676293</td>\n",
       "      <td>0.000000</td>\n",
       "      <td>0.000000</td>\n",
       "      <td>0.090353</td>\n",
       "      <td>0.000000e+00</td>\n",
       "      <td>0.158610</td>\n",
       "      <td>0.000000</td>\n",
       "      <td>0.111111</td>\n",
       "      <td>0.533196</td>\n",
       "      <td>1.000000</td>\n",
       "      <td>0.343010</td>\n",
       "      <td>0.400397</td>\n",
       "      <td>0.998062</td>\n",
       "      <td>0.951219</td>\n",
       "    </tr>\n",
       "    <tr>\n",
       "      <th>10</th>\n",
       "      <td>0.106396</td>\n",
       "      <td>0.000000</td>\n",
       "      <td>0.119445</td>\n",
       "      <td>0.377246</td>\n",
       "      <td>0.822457</td>\n",
       "      <td>0.000000</td>\n",
       "      <td>0.000000</td>\n",
       "      <td>0.186219</td>\n",
       "      <td>2.681762e-04</td>\n",
       "      <td>0.100085</td>\n",
       "      <td>0.006229</td>\n",
       "      <td>0.083608</td>\n",
       "      <td>0.292007</td>\n",
       "      <td>0.003199</td>\n",
       "      <td>0.100449</td>\n",
       "      <td>0.146426</td>\n",
       "      <td>0.973179</td>\n",
       "      <td>0.839731</td>\n",
       "    </tr>\n",
       "    <tr>\n",
       "      <th>11</th>\n",
       "      <td>0.564108</td>\n",
       "      <td>0.000000</td>\n",
       "      <td>0.148889</td>\n",
       "      <td>0.123111</td>\n",
       "      <td>1.000000</td>\n",
       "      <td>0.000000</td>\n",
       "      <td>0.000000</td>\n",
       "      <td>0.130018</td>\n",
       "      <td>2.370532e-04</td>\n",
       "      <td>0.082123</td>\n",
       "      <td>0.050310</td>\n",
       "      <td>0.057213</td>\n",
       "      <td>0.000000</td>\n",
       "      <td>0.980106</td>\n",
       "      <td>0.000000</td>\n",
       "      <td>0.000000</td>\n",
       "      <td>0.996462</td>\n",
       "      <td>0.796753</td>\n",
       "    </tr>\n",
       "    <tr>\n",
       "      <th>12</th>\n",
       "      <td>0.627171</td>\n",
       "      <td>0.000000</td>\n",
       "      <td>0.093800</td>\n",
       "      <td>0.527367</td>\n",
       "      <td>0.827333</td>\n",
       "      <td>0.000000</td>\n",
       "      <td>0.000000</td>\n",
       "      <td>0.172341</td>\n",
       "      <td>9.918041e-05</td>\n",
       "      <td>0.000000</td>\n",
       "      <td>0.153461</td>\n",
       "      <td>0.151154</td>\n",
       "      <td>0.622242</td>\n",
       "      <td>0.000000</td>\n",
       "      <td>0.495416</td>\n",
       "      <td>0.631152</td>\n",
       "      <td>0.987593</td>\n",
       "      <td>0.988850</td>\n",
       "    </tr>\n",
       "    <tr>\n",
       "      <th>13</th>\n",
       "      <td>0.687566</td>\n",
       "      <td>0.085789</td>\n",
       "      <td>0.095741</td>\n",
       "      <td>0.297231</td>\n",
       "      <td>0.643418</td>\n",
       "      <td>0.000000</td>\n",
       "      <td>0.000000</td>\n",
       "      <td>0.225096</td>\n",
       "      <td>5.605769e-06</td>\n",
       "      <td>0.036811</td>\n",
       "      <td>0.133988</td>\n",
       "      <td>0.107083</td>\n",
       "      <td>0.766843</td>\n",
       "      <td>0.426832</td>\n",
       "      <td>0.279432</td>\n",
       "      <td>0.339360</td>\n",
       "      <td>1.010841</td>\n",
       "      <td>0.929040</td>\n",
       "    </tr>\n",
       "    <tr>\n",
       "      <th>14</th>\n",
       "      <td>0.237968</td>\n",
       "      <td>0.470102</td>\n",
       "      <td>0.148631</td>\n",
       "      <td>0.964882</td>\n",
       "      <td>0.361765</td>\n",
       "      <td>1.000000</td>\n",
       "      <td>0.310686</td>\n",
       "      <td>0.239749</td>\n",
       "      <td>6.009054e-07</td>\n",
       "      <td>0.012188</td>\n",
       "      <td>0.390721</td>\n",
       "      <td>0.229194</td>\n",
       "      <td>0.963035</td>\n",
       "      <td>0.432002</td>\n",
       "      <td>0.817228</td>\n",
       "      <td>0.869811</td>\n",
       "      <td>0.991445</td>\n",
       "      <td>1.066404</td>\n",
       "    </tr>\n",
       "    <tr>\n",
       "      <th>15</th>\n",
       "      <td>0.197416</td>\n",
       "      <td>1.000000</td>\n",
       "      <td>0.506694</td>\n",
       "      <td>0.814166</td>\n",
       "      <td>0.256090</td>\n",
       "      <td>0.416730</td>\n",
       "      <td>0.381151</td>\n",
       "      <td>0.762037</td>\n",
       "      <td>4.097187e-06</td>\n",
       "      <td>0.542966</td>\n",
       "      <td>0.989641</td>\n",
       "      <td>0.248236</td>\n",
       "      <td>0.993423</td>\n",
       "      <td>0.600229</td>\n",
       "      <td>0.955819</td>\n",
       "      <td>0.761969</td>\n",
       "      <td>1.033109</td>\n",
       "      <td>1.067724</td>\n",
       "    </tr>\n",
       "    <tr>\n",
       "      <th>16</th>\n",
       "      <td>0.350400</td>\n",
       "      <td>0.000000</td>\n",
       "      <td>0.520104</td>\n",
       "      <td>0.944387</td>\n",
       "      <td>0.523185</td>\n",
       "      <td>0.393422</td>\n",
       "      <td>0.422818</td>\n",
       "      <td>0.757939</td>\n",
       "      <td>8.452613e-04</td>\n",
       "      <td>0.933165</td>\n",
       "      <td>0.986445</td>\n",
       "      <td>0.283721</td>\n",
       "      <td>1.000000</td>\n",
       "      <td>0.765992</td>\n",
       "      <td>1.000000</td>\n",
       "      <td>0.944301</td>\n",
       "      <td>0.993106</td>\n",
       "      <td>1.086393</td>\n",
       "    </tr>\n",
       "  </tbody>\n",
       "</table>\n",
       "</div>"
      ],
      "text/plain": [
       "    impressions_App_None  impressions_Audio_None  ...  bii_score  seasonal\n",
       "0               0.129567                0.000000  ...   0.952543  0.988850\n",
       "1               0.301624                0.000000  ...   0.993713  0.929040\n",
       "2               0.000000                0.000000  ...   0.979362  1.066404\n",
       "3               0.075265                0.000000  ...   1.002487  1.067724\n",
       "4               0.108605                0.000000  ...   0.988938  1.086393\n",
       "5               0.736474                0.000000  ...   0.944034  1.069511\n",
       "6               1.000000                0.000000  ...   0.979109  1.110735\n",
       "7               0.949765                0.000000  ...   0.984581  1.098333\n",
       "8               0.886760                0.000000  ...   1.008777  0.995306\n",
       "9               0.401286                0.000000  ...   0.998062  0.951219\n",
       "10              0.106396                0.000000  ...   0.973179  0.839731\n",
       "11              0.564108                0.000000  ...   0.996462  0.796753\n",
       "12              0.627171                0.000000  ...   0.987593  0.988850\n",
       "13              0.687566                0.085789  ...   1.010841  0.929040\n",
       "14              0.237968                0.470102  ...   0.991445  1.066404\n",
       "15              0.197416                1.000000  ...   1.033109  1.067724\n",
       "16              0.350400                0.000000  ...   0.993106  1.086393\n",
       "\n",
       "[17 rows x 18 columns]"
      ]
     },
     "execution_count": 22,
     "metadata": {},
     "output_type": "execute_result"
    },
    {
     "output_type": "display_data",
     "data": {
      "application/vnd.databricks.v1+display_df_hint": {
       "mode": "should_hint",
       "name": "scaled",
       "type": "pandas.core.frame.DataFrame"
      }
     },
     "metadata": {},
     "output_type": "display_data"
    }
   ],
   "source": [
    "scaled"
   ]
  },
  {
   "cell_type": "code",
   "execution_count": 0,
   "metadata": {
    "application/vnd.databricks.v1+cell": {
     "cellMetadata": {
      "byteLimit": 2048000,
      "rowLimit": 10000
     },
     "inputWidgets": {},
     "nuid": "f64b6ab6-1b05-4d65-bf76-5d4562b7b4a5",
     "showTitle": false,
     "tableResultSettingsMap": {},
     "title": ""
    }
   },
   "outputs": [
    {
     "output_type": "display_data",
     "data": {
      "text/html": [
       "<html>\n",
       "<head><meta charset=\"utf-8\" /></head>\n",
       "<body>\n",
       "    <div>            <script src=\"https://cdnjs.cloudflare.com/ajax/libs/mathjax/2.7.5/MathJax.js?config=TeX-AMS-MML_SVG\"></script><script type=\"text/javascript\">if (window.MathJax && window.MathJax.Hub && window.MathJax.Hub.Config) {window.MathJax.Hub.Config({SVG: {font: \"STIX-Web\"}});}</script>                <script type=\"text/javascript\">window.PlotlyConfig = {MathJaxConfig: 'local'};</script>\n",
       "        <script charset=\"utf-8\" src=\"https://cdn.plot.ly/plotly-2.32.0.min.js\"></script>                <div id=\"5721e53e-e9df-41f4-9faf-ba716f5745b9\" class=\"plotly-graph-div\" style=\"height:800px; width:1000px;\"></div>            <script type=\"text/javascript\">                                    window.PLOTLYENV=window.PLOTLYENV || {};                                    if (document.getElementById(\"5721e53e-e9df-41f4-9faf-ba716f5745b9\")) {                    Plotly.newPlot(                        \"5721e53e-e9df-41f4-9faf-ba716f5745b9\",                        [{\"coloraxis\":\"coloraxis\",\"name\":\"0\",\"texttemplate\":\"%{z}\",\"x\":[\"impressions_App_None\",\"impressions_Audio_None\",\"impressions_Display_None\",\"impressions_Email_None\",\"impressions_MediaSolutions_None\",\"impressions_MediaTransformation_None\",\"impressions_Native_None\",\"impressions_OnlineVideo_None\",\"impressions_OperationalEmails_None\",\"impressions_OwnedSocial_None\",\"impressions_PaidSocial_None\",\"impressions_Push_null\",\"impressions_SEM_None\",\"impressions_TV_None\",\"value_visits_visits\",\"value_leads_fs_submits\",\"bii_score\",\"seasonal\"],\"y\":[\"impressions_App_None\",\"impressions_Audio_None\",\"impressions_Display_None\",\"impressions_Email_None\",\"impressions_MediaSolutions_None\",\"impressions_MediaTransformation_None\",\"impressions_Native_None\",\"impressions_OnlineVideo_None\",\"impressions_OperationalEmails_None\",\"impressions_OwnedSocial_None\",\"impressions_PaidSocial_None\",\"impressions_Push_null\",\"impressions_SEM_None\",\"impressions_TV_None\",\"value_visits_visits\",\"value_leads_fs_submits\",\"bii_score\",\"seasonal\"],\"z\":[[1.0,-0.22187852364018237,0.658690284920892,0.265267515713794,-0.24176811952668834,-0.23136252499879095,0.5891133351018034,0.6115369406189125,-0.4240386382089275,0.42859757543883925,0.4533060417251047,0.15949678598234765,0.43162679428253636,0.1661193401978336,0.0067771410124226154,-0.05929769777784178,-0.02548347718674275,0.07170068597696966],[-0.22187852364018237,1.0,0.0755034171575423,0.30332425552139897,-0.2737609440835963,0.6493736984571773,0.11356054059772669,0.19327234411318497,-0.1677413363241846,-0.019356493459655382,0.3636865557387835,-0.06003701358491742,0.4386075102476528,-0.012827463103200319,0.4592194982214676,0.11308706617723191,0.5363685537913293,0.2067906309649957],[0.658690284920892,0.0755034171575423,1.0,0.7082138605934446,-0.7426780607135233,0.0006606893625941658,0.9592164364048603,0.8794778731499864,-0.4318984579150467,0.7519827340906471,0.8873280131312934,0.5239256670042491,0.6571014016540015,0.3641651682700195,0.530117096281153,0.3604122264775669,-0.04559950306790449,0.5373799143591319],[0.265267515713794,0.30332425552139897,0.7082138605934446,1.0,-0.7500918816163376,0.4677675392092654,0.7561843731877111,0.5658720024218434,-0.5464501151302386,0.48965895957874667,0.7744269625294435,0.5138898446441407,0.8506793930832174,0.40607506257221937,0.8430202936656098,0.5176922818910789,0.06438348438530121,0.766479432209304],[-0.24176811952668834,-0.2737609440835963,-0.7426780607135233,-0.7500918816163376,1.0,-0.21924551639689985,-0.8334333799718748,-0.641593225045417,0.2389393657468133,-0.4843091182769843,-0.7132768281981545,-0.6857564165044403,-0.6354382468351223,-0.3052847602439904,-0.7103079781695966,-0.6255843308420638,0.0721116010209691,-0.7598634986746969],[-0.23136252499879095,0.6493736984571773,0.0006606893625941658,0.4677675392092654,-0.21924551639689985,1.0,0.14643896558045585,0.08937809842020956,-0.19062246136976166,-0.04832468782483526,0.29697529682444185,-0.05387876024803318,0.5067957256438211,-0.010370772107580192,0.5407285360564179,0.25806074762422226,0.2466725226763247,0.287215529428492],[0.5891133351018034,0.11356054059772669,0.9592164364048603,0.7561843731877111,-0.8334333799718748,0.14643896558045585,1.0,0.8354572202103483,-0.38128029679149145,0.6975806897211014,0.876370957078816,0.6315610290458665,0.6776981408895077,0.3586805031224351,0.6200138405714067,0.4945555788173653,-0.14369872064689151,0.6393384374438357],[0.6115369406189125,0.19327234411318497,0.8794778731499864,0.5658720024218434,-0.641593225045417,0.08937809842020956,0.8354572202103483,1.0,-0.28033220917029306,0.8415487900329455,0.8911902536299634,0.2810403668501092,0.629430394478277,0.1323114694285417,0.5268221570740848,0.3769328199887028,0.14903376221679815,0.4544289186724908],[-0.4240386382089275,-0.1677413363241846,-0.4318984579150467,-0.5464501151302386,0.2389393657468133,-0.19062246136976166,-0.38128029679149145,-0.28033220917029306,1.0,-0.1270097206330097,-0.3731503450041112,-0.3931815436515496,-0.5927390847949965,-0.3643255364189009,-0.23043494708416415,0.32249019352655517,-0.319553108801748,-0.05514650409787948],[0.42859757543883925,-0.019356493459655382,0.7519827340906471,0.48965895957874667,-0.4843091182769843,-0.04832468782483526,0.6975806897211014,0.8415487900329455,-0.1270097206330097,1.0,0.8176113228711571,0.26576073053065624,0.42608930497719005,0.2497977109396368,0.5327742231271689,0.5025004266203892,0.022272357887892894,0.5540203110750935],[0.4533060417251047,0.3636865557387835,0.8873280131312934,0.7744269625294435,-0.7132768281981545,0.29697529682444185,0.876370957078816,0.8911902536299634,-0.3731503450041112,0.8176113228711571,1.0,0.42478467565709366,0.7796532330649939,0.30616892656327455,0.7817081968445028,0.5288162676363324,0.13790245151343197,0.6765881472573605],[0.15949678598234765,-0.06003701358491742,0.5239256670042491,0.5138898446441407,-0.6857564165044403,-0.05387876024803318,0.6315610290458665,0.2810403668501092,-0.3931815436515496,0.26576073053065624,0.42478467565709366,1.0,0.31361847189184494,0.4443772972204125,0.4812547934537062,0.39188147476823465,-0.27380898542855486,0.5642729906732095],[0.43162679428253636,0.4386075102476528,0.6571014016540015,0.8506793930832174,-0.6354382468351223,0.5067957256438211,0.6776981408895077,0.629430394478277,-0.5927390847949965,0.42608930497719005,0.7796532330649939,0.31361847189184494,1.0,0.22298784451742795,0.7540333254620512,0.36090330998916037,0.27325394151415516,0.6046055377259616],[0.1661193401978336,-0.012827463103200319,0.3641651682700195,0.40607506257221937,-0.3052847602439904,-0.010370772107580192,0.3586805031224351,0.1323114694285417,-0.3643255364189009,0.2497977109396368,0.30616892656327455,0.4443772972204125,0.22298784451742795,1.0,0.3036685224273605,0.055754548981197874,0.185396527210874,0.29963255088457674],[0.0067771410124226154,0.4592194982214676,0.530117096281153,0.8430202936656098,-0.7103079781695966,0.5407285360564179,0.6200138405714067,0.5268221570740848,-0.23043494708416415,0.5327742231271689,0.7817081968445028,0.4812547934537062,0.7540333254620512,0.3036685224273605,1.0,0.7774731538590681,0.16453950701791623,0.9034216701837258],[-0.05929769777784178,0.11308706617723191,0.3604122264775669,0.5176922818910789,-0.6255843308420638,0.25806074762422226,0.4945555788173653,0.3769328199887028,0.32249019352655517,0.5025004266203892,0.5288162676363324,0.39188147476823465,0.36090330998916037,0.055754548981197874,0.7774731538590681,1.0,-0.24035260928139573,0.9079731239527145],[-0.02548347718674275,0.5363685537913293,-0.04559950306790449,0.06438348438530121,0.0721116010209691,0.2466725226763247,-0.14369872064689151,0.14903376221679815,-0.319553108801748,0.022272357887892894,0.13790245151343197,-0.27380898542855486,0.27325394151415516,0.185396527210874,0.16453950701791623,-0.24035260928139573,1.0,-0.06140815936635048],[0.07170068597696966,0.2067906309649957,0.5373799143591319,0.766479432209304,-0.7598634986746969,0.287215529428492,0.6393384374438357,0.4544289186724908,-0.05514650409787948,0.5540203110750935,0.6765881472573605,0.5642729906732095,0.6046055377259616,0.29963255088457674,0.9034216701837258,0.9079731239527145,-0.06140815936635048,1.0]],\"type\":\"heatmap\",\"xaxis\":\"x\",\"yaxis\":\"y\",\"hovertemplate\":\"x: %{x}\\u003cbr\\u003ey: %{y}\\u003cbr\\u003ecolor: %{z}\\u003cextra\\u003e\\u003c\\u002fextra\\u003e\"}],                        {\"template\":{\"data\":{\"histogram2dcontour\":[{\"type\":\"histogram2dcontour\",\"colorbar\":{\"outlinewidth\":0,\"ticks\":\"\"},\"colorscale\":[[0.0,\"#0d0887\"],[0.1111111111111111,\"#46039f\"],[0.2222222222222222,\"#7201a8\"],[0.3333333333333333,\"#9c179e\"],[0.4444444444444444,\"#bd3786\"],[0.5555555555555556,\"#d8576b\"],[0.6666666666666666,\"#ed7953\"],[0.7777777777777778,\"#fb9f3a\"],[0.8888888888888888,\"#fdca26\"],[1.0,\"#f0f921\"]]}],\"choropleth\":[{\"type\":\"choropleth\",\"colorbar\":{\"outlinewidth\":0,\"ticks\":\"\"}}],\"histogram2d\":[{\"type\":\"histogram2d\",\"colorbar\":{\"outlinewidth\":0,\"ticks\":\"\"},\"colorscale\":[[0.0,\"#0d0887\"],[0.1111111111111111,\"#46039f\"],[0.2222222222222222,\"#7201a8\"],[0.3333333333333333,\"#9c179e\"],[0.4444444444444444,\"#bd3786\"],[0.5555555555555556,\"#d8576b\"],[0.6666666666666666,\"#ed7953\"],[0.7777777777777778,\"#fb9f3a\"],[0.8888888888888888,\"#fdca26\"],[1.0,\"#f0f921\"]]}],\"heatmap\":[{\"type\":\"heatmap\",\"colorbar\":{\"outlinewidth\":0,\"ticks\":\"\"},\"colorscale\":[[0.0,\"#0d0887\"],[0.1111111111111111,\"#46039f\"],[0.2222222222222222,\"#7201a8\"],[0.3333333333333333,\"#9c179e\"],[0.4444444444444444,\"#bd3786\"],[0.5555555555555556,\"#d8576b\"],[0.6666666666666666,\"#ed7953\"],[0.7777777777777778,\"#fb9f3a\"],[0.8888888888888888,\"#fdca26\"],[1.0,\"#f0f921\"]]}],\"heatmapgl\":[{\"type\":\"heatmapgl\",\"colorbar\":{\"outlinewidth\":0,\"ticks\":\"\"},\"colorscale\":[[0.0,\"#0d0887\"],[0.1111111111111111,\"#46039f\"],[0.2222222222222222,\"#7201a8\"],[0.3333333333333333,\"#9c179e\"],[0.4444444444444444,\"#bd3786\"],[0.5555555555555556,\"#d8576b\"],[0.6666666666666666,\"#ed7953\"],[0.7777777777777778,\"#fb9f3a\"],[0.8888888888888888,\"#fdca26\"],[1.0,\"#f0f921\"]]}],\"contourcarpet\":[{\"type\":\"contourcarpet\",\"colorbar\":{\"outlinewidth\":0,\"ticks\":\"\"}}],\"contour\":[{\"type\":\"contour\",\"colorbar\":{\"outlinewidth\":0,\"ticks\":\"\"},\"colorscale\":[[0.0,\"#0d0887\"],[0.1111111111111111,\"#46039f\"],[0.2222222222222222,\"#7201a8\"],[0.3333333333333333,\"#9c179e\"],[0.4444444444444444,\"#bd3786\"],[0.5555555555555556,\"#d8576b\"],[0.6666666666666666,\"#ed7953\"],[0.7777777777777778,\"#fb9f3a\"],[0.8888888888888888,\"#fdca26\"],[1.0,\"#f0f921\"]]}],\"surface\":[{\"type\":\"surface\",\"colorbar\":{\"outlinewidth\":0,\"ticks\":\"\"},\"colorscale\":[[0.0,\"#0d0887\"],[0.1111111111111111,\"#46039f\"],[0.2222222222222222,\"#7201a8\"],[0.3333333333333333,\"#9c179e\"],[0.4444444444444444,\"#bd3786\"],[0.5555555555555556,\"#d8576b\"],[0.6666666666666666,\"#ed7953\"],[0.7777777777777778,\"#fb9f3a\"],[0.8888888888888888,\"#fdca26\"],[1.0,\"#f0f921\"]]}],\"mesh3d\":[{\"type\":\"mesh3d\",\"colorbar\":{\"outlinewidth\":0,\"ticks\":\"\"}}],\"scatter\":[{\"fillpattern\":{\"fillmode\":\"overlay\",\"size\":10,\"solidity\":0.2},\"type\":\"scatter\"}],\"parcoords\":[{\"type\":\"parcoords\",\"line\":{\"colorbar\":{\"outlinewidth\":0,\"ticks\":\"\"}}}],\"scatterpolargl\":[{\"type\":\"scatterpolargl\",\"marker\":{\"colorbar\":{\"outlinewidth\":0,\"ticks\":\"\"}}}],\"bar\":[{\"error_x\":{\"color\":\"#2a3f5f\"},\"error_y\":{\"color\":\"#2a3f5f\"},\"marker\":{\"line\":{\"color\":\"#E5ECF6\",\"width\":0.5},\"pattern\":{\"fillmode\":\"overlay\",\"size\":10,\"solidity\":0.2}},\"type\":\"bar\"}],\"scattergeo\":[{\"type\":\"scattergeo\",\"marker\":{\"colorbar\":{\"outlinewidth\":0,\"ticks\":\"\"}}}],\"scatterpolar\":[{\"type\":\"scatterpolar\",\"marker\":{\"colorbar\":{\"outlinewidth\":0,\"ticks\":\"\"}}}],\"histogram\":[{\"marker\":{\"pattern\":{\"fillmode\":\"overlay\",\"size\":10,\"solidity\":0.2}},\"type\":\"histogram\"}],\"scattergl\":[{\"type\":\"scattergl\",\"marker\":{\"colorbar\":{\"outlinewidth\":0,\"ticks\":\"\"}}}],\"scatter3d\":[{\"type\":\"scatter3d\",\"line\":{\"colorbar\":{\"outlinewidth\":0,\"ticks\":\"\"}},\"marker\":{\"colorbar\":{\"outlinewidth\":0,\"ticks\":\"\"}}}],\"scattermapbox\":[{\"type\":\"scattermapbox\",\"marker\":{\"colorbar\":{\"outlinewidth\":0,\"ticks\":\"\"}}}],\"scatterternary\":[{\"type\":\"scatterternary\",\"marker\":{\"colorbar\":{\"outlinewidth\":0,\"ticks\":\"\"}}}],\"scattercarpet\":[{\"type\":\"scattercarpet\",\"marker\":{\"colorbar\":{\"outlinewidth\":0,\"ticks\":\"\"}}}],\"carpet\":[{\"aaxis\":{\"endlinecolor\":\"#2a3f5f\",\"gridcolor\":\"white\",\"linecolor\":\"white\",\"minorgridcolor\":\"white\",\"startlinecolor\":\"#2a3f5f\"},\"baxis\":{\"endlinecolor\":\"#2a3f5f\",\"gridcolor\":\"white\",\"linecolor\":\"white\",\"minorgridcolor\":\"white\",\"startlinecolor\":\"#2a3f5f\"},\"type\":\"carpet\"}],\"table\":[{\"cells\":{\"fill\":{\"color\":\"#EBF0F8\"},\"line\":{\"color\":\"white\"}},\"header\":{\"fill\":{\"color\":\"#C8D4E3\"},\"line\":{\"color\":\"white\"}},\"type\":\"table\"}],\"barpolar\":[{\"marker\":{\"line\":{\"color\":\"#E5ECF6\",\"width\":0.5},\"pattern\":{\"fillmode\":\"overlay\",\"size\":10,\"solidity\":0.2}},\"type\":\"barpolar\"}],\"pie\":[{\"automargin\":true,\"type\":\"pie\"}]},\"layout\":{\"autotypenumbers\":\"strict\",\"colorway\":[\"#636efa\",\"#EF553B\",\"#00cc96\",\"#ab63fa\",\"#FFA15A\",\"#19d3f3\",\"#FF6692\",\"#B6E880\",\"#FF97FF\",\"#FECB52\"],\"font\":{\"color\":\"#2a3f5f\"},\"hovermode\":\"closest\",\"hoverlabel\":{\"align\":\"left\"},\"paper_bgcolor\":\"white\",\"plot_bgcolor\":\"#E5ECF6\",\"polar\":{\"bgcolor\":\"#E5ECF6\",\"angularaxis\":{\"gridcolor\":\"white\",\"linecolor\":\"white\",\"ticks\":\"\"},\"radialaxis\":{\"gridcolor\":\"white\",\"linecolor\":\"white\",\"ticks\":\"\"}},\"ternary\":{\"bgcolor\":\"#E5ECF6\",\"aaxis\":{\"gridcolor\":\"white\",\"linecolor\":\"white\",\"ticks\":\"\"},\"baxis\":{\"gridcolor\":\"white\",\"linecolor\":\"white\",\"ticks\":\"\"},\"caxis\":{\"gridcolor\":\"white\",\"linecolor\":\"white\",\"ticks\":\"\"}},\"coloraxis\":{\"colorbar\":{\"outlinewidth\":0,\"ticks\":\"\"}},\"colorscale\":{\"sequential\":[[0.0,\"#0d0887\"],[0.1111111111111111,\"#46039f\"],[0.2222222222222222,\"#7201a8\"],[0.3333333333333333,\"#9c179e\"],[0.4444444444444444,\"#bd3786\"],[0.5555555555555556,\"#d8576b\"],[0.6666666666666666,\"#ed7953\"],[0.7777777777777778,\"#fb9f3a\"],[0.8888888888888888,\"#fdca26\"],[1.0,\"#f0f921\"]],\"sequentialminus\":[[0.0,\"#0d0887\"],[0.1111111111111111,\"#46039f\"],[0.2222222222222222,\"#7201a8\"],[0.3333333333333333,\"#9c179e\"],[0.4444444444444444,\"#bd3786\"],[0.5555555555555556,\"#d8576b\"],[0.6666666666666666,\"#ed7953\"],[0.7777777777777778,\"#fb9f3a\"],[0.8888888888888888,\"#fdca26\"],[1.0,\"#f0f921\"]],\"diverging\":[[0,\"#8e0152\"],[0.1,\"#c51b7d\"],[0.2,\"#de77ae\"],[0.3,\"#f1b6da\"],[0.4,\"#fde0ef\"],[0.5,\"#f7f7f7\"],[0.6,\"#e6f5d0\"],[0.7,\"#b8e186\"],[0.8,\"#7fbc41\"],[0.9,\"#4d9221\"],[1,\"#276419\"]]},\"xaxis\":{\"gridcolor\":\"white\",\"linecolor\":\"white\",\"ticks\":\"\",\"title\":{\"standoff\":15},\"zerolinecolor\":\"white\",\"automargin\":true,\"zerolinewidth\":2},\"yaxis\":{\"gridcolor\":\"white\",\"linecolor\":\"white\",\"ticks\":\"\",\"title\":{\"standoff\":15},\"zerolinecolor\":\"white\",\"automargin\":true,\"zerolinewidth\":2},\"scene\":{\"xaxis\":{\"backgroundcolor\":\"#E5ECF6\",\"gridcolor\":\"white\",\"linecolor\":\"white\",\"showbackground\":true,\"ticks\":\"\",\"zerolinecolor\":\"white\",\"gridwidth\":2},\"yaxis\":{\"backgroundcolor\":\"#E5ECF6\",\"gridcolor\":\"white\",\"linecolor\":\"white\",\"showbackground\":true,\"ticks\":\"\",\"zerolinecolor\":\"white\",\"gridwidth\":2},\"zaxis\":{\"backgroundcolor\":\"#E5ECF6\",\"gridcolor\":\"white\",\"linecolor\":\"white\",\"showbackground\":true,\"ticks\":\"\",\"zerolinecolor\":\"white\",\"gridwidth\":2}},\"shapedefaults\":{\"line\":{\"color\":\"#2a3f5f\"}},\"annotationdefaults\":{\"arrowcolor\":\"#2a3f5f\",\"arrowhead\":0,\"arrowwidth\":1},\"geo\":{\"bgcolor\":\"white\",\"landcolor\":\"#E5ECF6\",\"subunitcolor\":\"white\",\"showland\":true,\"showlakes\":true,\"lakecolor\":\"white\"},\"title\":{\"x\":0.05},\"mapbox\":{\"style\":\"light\"}}},\"xaxis\":{\"anchor\":\"y\",\"domain\":[0.0,1.0],\"scaleanchor\":\"y\",\"constrain\":\"domain\"},\"yaxis\":{\"anchor\":\"x\",\"domain\":[0.0,1.0],\"autorange\":\"reversed\",\"constrain\":\"domain\"},\"coloraxis\":{\"colorscale\":[[0.0,\"rgb(103,0,31)\"],[0.1,\"rgb(178,24,43)\"],[0.2,\"rgb(214,96,77)\"],[0.3,\"rgb(244,165,130)\"],[0.4,\"rgb(253,219,199)\"],[0.5,\"rgb(247,247,247)\"],[0.6,\"rgb(209,229,240)\"],[0.7,\"rgb(146,197,222)\"],[0.8,\"rgb(67,147,195)\"],[0.9,\"rgb(33,102,172)\"],[1.0,\"rgb(5,48,97)\"]],\"cmin\":-1,\"cmax\":1},\"margin\":{\"t\":60},\"title\":{\"text\":\"Correlation Heatmap of Scaled DataFrame\"},\"autosize\":true,\"width\":1000,\"height\":800},                        {\"responsive\": true}                    )                };                            </script>        </div>\n",
       "</body>\n",
       "</html>"
      ]
     },
     "metadata": {},
     "output_type": "display_data"
    }
   ],
   "source": [
    "import plotly.express as px\n",
    "\n",
    "corr_matrix = scaled.corr()\n",
    "fig = px.imshow(corr_matrix, text_auto=True, color_continuous_scale='RdBu', zmin=-1, zmax=1)\n",
    "fig.update_layout(title=\"Correlation Heatmap of Scaled DataFrame\", autosize=True, width=1000, height=800)\n",
    "fig.show()"
   ]
  },
  {
   "cell_type": "code",
   "execution_count": 0,
   "metadata": {
    "application/vnd.databricks.v1+cell": {
     "cellMetadata": {
      "byteLimit": 2048000,
      "rowLimit": 10000
     },
     "inputWidgets": {},
     "nuid": "12c57b7e-03a2-4701-99df-e027542e2d66",
     "showTitle": false,
     "tableResultSettingsMap": {},
     "title": ""
    }
   },
   "outputs": [],
   "source": [
    "\n",
    "DEPENDENT_VAR   = \"value_leads_fs_submits\"             # outcome column\n",
    "CONTINUOUS_COLS = [i for i in aggregated.columns if i.startswith('impressions')] + ['bii_score']    # treat these as Gaussian targets\n",
    "BINS            = 4               # bins for discretising *other* vars\n",
    "ESS             = 100              # equivalent sample size for BDeu\n",
    "MAX_INDEGREE    = 5               # None = no cap\n",
    "SOFT_SIGMA      = 0.4             # σ of Half-Normal coefficient prior\n",
    "NUM_SAMPLES     = 2000            # PyMC draws (posterior)\n",
    "NUM_TUNE        = 1000            # PyMC warm-up\n"
   ]
  },
  {
   "cell_type": "code",
   "execution_count": 0,
   "metadata": {
    "application/vnd.databricks.v1+cell": {
     "cellMetadata": {
      "byteLimit": 2048000,
      "rowLimit": 10000
     },
     "inputWidgets": {},
     "nuid": "26e73870-645b-41a3-b3d4-53f4ffd1099e",
     "showTitle": false,
     "tableResultSettingsMap": {},
     "title": ""
    }
   },
   "outputs": [
    {
     "output_type": "execute_result",
     "data": {
      "text/plain": [
       "Index(['impressions_App_None', 'impressions_Audio_None',\n",
       "       'impressions_Display_None', 'impressions_Email_None',\n",
       "       'impressions_MediaSolutions_None',\n",
       "       'impressions_MediaTransformation_None', 'impressions_Native_None',\n",
       "       'impressions_OnlineVideo_None', 'impressions_OperationalEmails_None',\n",
       "       'impressions_OwnedSocial_None', 'impressions_PaidSocial_None',\n",
       "       'impressions_Push_null', 'impressions_SEM_None', 'impressions_TV_None',\n",
       "       'value_visits_visits', 'value_leads_fs_submits', 'bii_score',\n",
       "       'seasonal'],\n",
       "      dtype='object')"
      ]
     },
     "execution_count": 24,
     "metadata": {},
     "output_type": "execute_result"
    }
   ],
   "source": [
    "scaled.columns"
   ]
  },
  {
   "cell_type": "code",
   "execution_count": 0,
   "metadata": {
    "application/vnd.databricks.v1+cell": {
     "cellMetadata": {
      "byteLimit": 2048000,
      "rowLimit": 10000
     },
     "inputWidgets": {},
     "nuid": "3478a09c-efa9-4ea8-8090-6ac09901bbc8",
     "showTitle": false,
     "tableResultSettingsMap": {},
     "title": ""
    },
    "jupyter": {
     "outputs_hidden": true
    }
   },
   "outputs": [],
   "source": [
    "MUST_EDGES   : List[Tuple[str, str]] = [\n",
    "    (\"bii_score\", \"value_visits_visits\"),\n",
    "    (\"impressions_TV_None\",'bii_score'),\n",
    "    (\"impressions_TV_None\",'impressions_SEM_None'),\n",
    "    ('impressions_SEM_None','value_visits_visits'),\n",
    "    (\"seasonal\",'value_visits_visits'),\n",
    "    (\"bii_score\",'impressions_SEM_None'),\n",
    "    (\"value_visits_visits\",'value_leads_fs_submits'),\n",
    "    ] + [(i,'value_visits_visits') for i in scaled.columns if i.startswith('impressions_')]\n",
    "\n",
    "FORBID_EDGES : List[Tuple[str, str]] = [(\"value_visits_visits\",\"bii_score\"),(\"bii_score\",\"impressions_TV_None\")] + [('value_visits_visits',i) for i in scaled.columns if i.startswith('impressions_')] \n",
    "\n",
    "SOFT_PRIORS  : Dict[Tuple[str, str], float] = {\n",
    "    (\"seasonal\",'value_visits_visits'): +3.75,\n",
    "    (\"impressions_TV_None\",'bii_score'): +2.0,\n",
    "    ('bii_score','value_visits_visits'): +1.75,\n",
    "    ('bii_score','impressions_SEM_None'): +2.5,\n",
    "    ('bii_score','impressions_PaidSocial_None'): +2,\n",
    "    ('impressions_App_None', 'value_visits_visits'): 1,\n",
    " ('impressions_Audio_None', 'value_visits_visits'): 1,\n",
    " ('impressions_Display_None', 'value_visits_visits'): 1,\n",
    " ('impressions_Email_None', 'value_visits_visits'): 1,\n",
    " ('impressions_MediaSolutions_None', 'value_visits_visits'): 1,\n",
    " ('impressions_MediaTransformation_None', 'value_visits_visits'): 1,\n",
    " ('impressions_Native_None', 'value_visits_visits'): 1,\n",
    " ('impressions_OnlineVideo_None', 'value_visits_visits'): 1.5,\n",
    " ('impressions_OperationalEmails_None', 'value_visits_visits'): 3,\n",
    " ('impressions_OwnedSocial_None', 'value_visits_visits'): 1,\n",
    " ('impressions_PaidSocial_None', 'value_visits_visits'): 3.5,\n",
    " ('impressions_Push_null', 'value_visits_visits'): 1,\n",
    " ('impressions_SEM_None', 'value_visits_visits'): 3.5,\n",
    " ('value_visits_visits', 'value_leads_fs_submits'): 4,\n",
    " ('impressions_PaidSocial_None', 'value_leads_fs_submits'): 2,\n",
    " ('impressions_SEM_None', 'value_leads_fs_submits'): 2,\n",
    " ('seasonal', 'value_leads_fs_submits'): 3,\n",
    "                                               }\n",
    "\n",
    "OUTPUT_DAG_IMG = \"dag.png\""
   ]
  },
  {
   "cell_type": "code",
   "execution_count": 0,
   "metadata": {
    "application/vnd.databricks.v1+cell": {
     "cellMetadata": {
      "byteLimit": 2048000,
      "rowLimit": 10000
     },
     "inputWidgets": {},
     "nuid": "69e7adfa-b741-4d17-bcad-8e90f801e26b",
     "showTitle": false,
     "tableResultSettingsMap": {},
     "title": ""
    }
   },
   "outputs": [],
   "source": [
    "SOFT_PRIORS  : Dict[Tuple[str, str], float] = {\n",
    "    (\"seasonal\",'value_visits_visits'): +3.75,\n",
    "\n",
    "                                               }"
   ]
  },
  {
   "cell_type": "code",
   "execution_count": 0,
   "metadata": {
    "application/vnd.databricks.v1+cell": {
     "cellMetadata": {
      "byteLimit": 2048000,
      "rowLimit": 10000
     },
     "inputWidgets": {},
     "nuid": "4533d6be-69e9-4108-b4d2-3d8d29ad17ce",
     "showTitle": false,
     "tableResultSettingsMap": {},
     "title": ""
    }
   },
   "outputs": [],
   "source": [
    "import pgmpy\n",
    "\n",
    "from pgmpy.estimators import BDeu"
   ]
  },
  {
   "cell_type": "code",
   "execution_count": 0,
   "metadata": {
    "application/vnd.databricks.v1+cell": {
     "cellMetadata": {
      "byteLimit": 2048000,
      "rowLimit": 10000
     },
     "inputWidgets": {},
     "nuid": "1115d47d-4030-4d59-bf8f-0ef6c4f9cbe6",
     "showTitle": false,
     "tableResultSettingsMap": {},
     "title": ""
    }
   },
   "outputs": [
    {
     "output_type": "stream",
     "name": "stdout",
     "output_type": "stream",
     "text": [
      "1.0.0\n"
     ]
    }
   ],
   "source": [
    "print(pgmpy.__version__)"
   ]
  },
  {
   "cell_type": "code",
   "execution_count": 0,
   "metadata": {
    "application/vnd.databricks.v1+cell": {
     "cellMetadata": {
      "byteLimit": 2048000,
      "rowLimit": 10000
     },
     "inputWidgets": {},
     "nuid": "cfd2ddf4-2167-439d-8f5c-05c0a761ee61",
     "showTitle": false,
     "tableResultSettingsMap": {},
     "title": ""
    }
   },
   "outputs": [],
   "source": [
    "class ConstrainedBDeu(BDeu):\n",
    "    def __init__(self, data, equivalent_sample_size=10,\n",
    "                 edge_priors=None,\n",
    "                 required_edges=None,\n",
    "                 forbidden_edges=None,\n",
    "                 big_penalty=1e6):\n",
    "        super().__init__(data, equivalent_sample_size=equivalent_sample_size)\n",
    "        self.edge_priors     = edge_priors or {}\n",
    "        self.required_edges  = set(required_edges or [])\n",
    "        self.forbidden_edges = set(forbidden_edges or [])\n",
    "        self.big_penalty     = big_penalty\n",
    "\n",
    "    def local_score(self, variable, parents):\n",
    "        # base BDeu score\n",
    "        score = super().local_score(variable, parents)\n",
    "\n",
    "        # add soft priors\n",
    "        for p in parents:\n",
    "            score += self.edge_priors.get((p, variable), 0.0)\n",
    "\n",
    "        # HARD constraint: required edge missing → huge NEG penalty\n",
    "        for (req_parent, req_child) in self.required_edges:\n",
    "            if req_child == variable and req_parent not in parents:\n",
    "                score -= self.big_penalty\n",
    "\n",
    "        # HARD constraint: forbidden edge present → huge NEG penalty\n",
    "        for (bad_parent, bad_child) in self.forbidden_edges:\n",
    "            if bad_child == variable and bad_parent in parents:\n",
    "                score -= self.big_penalty\n",
    "\n",
    "        return score\n"
   ]
  },
  {
   "cell_type": "code",
   "execution_count": 0,
   "metadata": {
    "application/vnd.databricks.v1+cell": {
     "cellMetadata": {
      "byteLimit": 2048000,
      "rowLimit": 10000
     },
     "inputWidgets": {},
     "nuid": "874a1436-52bf-4586-a1a2-7fa8a9e6ac28",
     "showTitle": false,
     "tableResultSettingsMap": {},
     "title": ""
    }
   },
   "outputs": [],
   "source": [
    "#scaled = scaled.drop('value_leads_fs_submits', axis=1)"
   ]
  },
  {
   "cell_type": "code",
   "execution_count": 0,
   "metadata": {
    "application/vnd.databricks.v1+cell": {
     "cellMetadata": {
      "byteLimit": 2048000,
      "rowLimit": 10000
     },
     "inputWidgets": {},
     "nuid": "4da14514-fe7d-4c93-a2dd-380d446997d0",
     "showTitle": false,
     "tableResultSettingsMap": {},
     "title": ""
    }
   },
   "outputs": [
    {
     "output_type": "stream",
     "name": "stderr",
     "output_type": "stream",
     "text": [
      "INFO:pgmpy: Datatype (N=numerical, C=Categorical Unordered, O=Categorical Ordered) inferred from data: \n {'impressions_App_None': 'N', 'impressions_Audio_None': 'N', 'impressions_Display_None': 'N', 'impressions_Email_None': 'N', 'impressions_MediaSolutions_None': 'N', 'impressions_MediaTransformation_None': 'N', 'impressions_Native_None': 'N', 'impressions_OnlineVideo_None': 'N', 'impressions_OperationalEmails_None': 'N', 'impressions_OwnedSocial_None': 'N', 'impressions_PaidSocial_None': 'N', 'impressions_Push_null': 'N', 'impressions_SEM_None': 'N', 'impressions_TV_None': 'N', 'value_visits_visits': 'N', 'value_leads_fs_submits': 'N', 'bii_score': 'N', 'seasonal': 'N'}\nINFO:pgmpy: Datatype (N=numerical, C=Categorical Unordered, O=Categorical Ordered) inferred from data: \n {'impressions_App_None': 'N', 'impressions_Audio_None': 'N', 'impressions_Display_None': 'N', 'impressions_Email_None': 'N', 'impressions_MediaSolutions_None': 'N', 'impressions_MediaTransformation_None': 'N', 'impressions_Native_None': 'N', 'impressions_OnlineVideo_None': 'N', 'impressions_OperationalEmails_None': 'N', 'impressions_OwnedSocial_None': 'N', 'impressions_PaidSocial_None': 'N', 'impressions_Push_null': 'N', 'impressions_SEM_None': 'N', 'impressions_TV_None': 'N', 'value_visits_visits': 'N', 'value_leads_fs_submits': 'N', 'bii_score': 'N', 'seasonal': 'N'}\nINFO:pgmpy: Datatype (N=numerical, C=Categorical Unordered, O=Categorical Ordered) inferred from data: \n {'impressions_App_None': 'N', 'impressions_Audio_None': 'N', 'impressions_Display_None': 'N', 'impressions_Email_None': 'N', 'impressions_MediaSolutions_None': 'N', 'impressions_MediaTransformation_None': 'N', 'impressions_Native_None': 'N', 'impressions_OnlineVideo_None': 'N', 'impressions_OperationalEmails_None': 'N', 'impressions_OwnedSocial_None': 'N', 'impressions_PaidSocial_None': 'N', 'impressions_Push_null': 'N', 'impressions_SEM_None': 'N', 'impressions_TV_None': 'N', 'value_visits_visits': 'N', 'value_leads_fs_submits': 'N', 'bii_score': 'N', 'seasonal': 'N'}\n"
     ]
    },
    {
     "output_type": "display_data",
     "data": {
      "application/vnd.jupyter.widget-view+json": {
       "model_id": "8e34a25ec49047cabcc7683f386c9dfb",
       "version_major": 2,
       "version_minor": 0
      },
      "text/plain": [
       "  0%|          | 0/1000000 [00:00<?, ?it/s]"
      ]
     },
     "metadata": {},
     "output_type": "display_data"
    },
    {
     "output_type": "stream",
     "name": "stdout",
     "output_type": "stream",
     "text": [
      "Learned edges: [('impressions_App_None', 'impressions_MediaSolutions_None'), ('impressions_Display_None', 'impressions_TV_None'), ('impressions_Email_None', 'impressions_Push_null'), ('impressions_MediaSolutions_None', 'impressions_Display_None'), ('impressions_MediaSolutions_None', 'impressions_OperationalEmails_None'), ('impressions_MediaTransformation_None', 'impressions_Audio_None'), ('impressions_MediaTransformation_None', 'impressions_Native_None'), ('impressions_Native_None', 'impressions_Audio_None'), ('impressions_OnlineVideo_None', 'value_visits_visits'), ('impressions_OwnedSocial_None', 'impressions_PaidSocial_None'), ('impressions_OwnedSocial_None', 'seasonal'), ('impressions_PaidSocial_None', 'impressions_OnlineVideo_None'), ('impressions_PaidSocial_None', 'impressions_App_None'), ('impressions_Push_null', 'value_visits_visits'), ('impressions_SEM_None', 'impressions_Email_None'), ('impressions_TV_None', 'bii_score'), ('impressions_TV_None', 'impressions_SEM_None'), ('value_visits_visits', 'value_leads_fs_submits'), ('bii_score', 'impressions_SEM_None'), ('seasonal', 'value_visits_visits')]\n"
     ]
    }
   ],
   "source": [
    "\n",
    "score = ConstrainedBDeu(scaled,\n",
    "                        equivalent_sample_size=ESS,\n",
    "                        edge_priors=SOFT_PRIORS,\n",
    "                        required_edges=MUST_EDGES,\n",
    "                        forbidden_edges=FORBID_EDGES)\n",
    "\n",
    "# ---------- structure learning ----------------------------------\n",
    "hc = HillClimbSearch(scaled)\n",
    "model: BayesianNetwork = hc.estimate(\n",
    "        scoring_method=score,\n",
    "        max_indegree=3,\n",
    "        tabu_length=60,\n",
    "        epsilon=1e-3)\n",
    "\n",
    "print(\"Learned edges:\", list(model.edges()))\n",
    "\n",
    "# ---------- parameter learning (discrete example) ---------------\n"
   ]
  },
  {
   "cell_type": "code",
   "execution_count": 0,
   "metadata": {
    "application/vnd.databricks.v1+cell": {
     "cellMetadata": {
      "byteLimit": 2048000,
      "rowLimit": 10000
     },
     "inputWidgets": {},
     "nuid": "39377348-dd8b-4fe5-8dd8-fc8df52c6f4a",
     "showTitle": false,
     "tableResultSettingsMap": {},
     "title": ""
    }
   },
   "outputs": [
    {
     "output_type": "stream",
     "name": "stderr",
     "output_type": "stream",
     "text": [
      "INFO:pgmpy: Datatype (N=numerical, C=Categorical Unordered, O=Categorical Ordered) inferred from data: \n {'impressions_App_None': 'N', 'impressions_Audio_None': 'N', 'impressions_Display_None': 'N', 'impressions_Email_None': 'N', 'impressions_MediaSolutions_None': 'N', 'impressions_MediaTransformation_None': 'N', 'impressions_Native_None': 'N', 'impressions_OnlineVideo_None': 'N', 'impressions_OperationalEmails_None': 'N', 'impressions_OwnedSocial_None': 'N', 'impressions_PaidSocial_None': 'N', 'impressions_Push_null': 'N', 'impressions_SEM_None': 'N', 'impressions_TV_None': 'N', 'value_visits_visits': 'N', 'value_leads_fs_submits': 'N', 'bii_score': 'N', 'seasonal': 'N'}\nINFO:pgmpy: Datatype (N=numerical, C=Categorical Unordered, O=Categorical Ordered) inferred from data: \n {'impressions_App_None': 'N', 'impressions_Audio_None': 'N', 'impressions_Display_None': 'N', 'impressions_Email_None': 'N', 'impressions_MediaSolutions_None': 'N', 'impressions_MediaTransformation_None': 'N', 'impressions_Native_None': 'N', 'impressions_OnlineVideo_None': 'N', 'impressions_OperationalEmails_None': 'N', 'impressions_OwnedSocial_None': 'N', 'impressions_PaidSocial_None': 'N', 'impressions_Push_null': 'N', 'impressions_SEM_None': 'N', 'impressions_TV_None': 'N', 'value_visits_visits': 'N', 'value_leads_fs_submits': 'N', 'bii_score': 'N', 'seasonal': 'N'}\nINFO:pgmpy: Datatype (N=numerical, C=Categorical Unordered, O=Categorical Ordered) inferred from data: \n {'impressions_App_None': 'N', 'impressions_Audio_None': 'N', 'impressions_Display_None': 'N', 'impressions_Email_None': 'N', 'impressions_MediaSolutions_None': 'N', 'impressions_MediaTransformation_None': 'N', 'impressions_Native_None': 'N', 'impressions_OnlineVideo_None': 'N', 'impressions_OperationalEmails_None': 'N', 'impressions_OwnedSocial_None': 'N', 'impressions_PaidSocial_None': 'N', 'impressions_Push_null': 'N', 'impressions_SEM_None': 'N', 'impressions_TV_None': 'N', 'value_visits_visits': 'N', 'value_leads_fs_submits': 'N', 'bii_score': 'N', 'seasonal': 'N'}\n"
     ]
    },
    {
     "output_type": "display_data",
     "data": {
      "application/vnd.jupyter.widget-view+json": {
       "model_id": "ee865b7d57464fecb285b2a6d5c9645c",
       "version_major": 2,
       "version_minor": 0
      },
      "text/plain": [
       "  0%|          | 0/1000000 [00:00<?, ?it/s]"
      ]
     },
     "metadata": {},
     "output_type": "display_data"
    },
    {
     "output_type": "stream",
     "name": "stdout",
     "output_type": "stream",
     "text": [
      "Learned edges: [('impressions_App_None', 'impressions_MediaSolutions_None'), ('impressions_Display_None', 'impressions_TV_None'), ('impressions_Email_None', 'impressions_Push_null'), ('impressions_MediaSolutions_None', 'value_visits_visits'), ('impressions_MediaSolutions_None', 'impressions_Display_None'), ('impressions_MediaSolutions_None', 'impressions_OperationalEmails_None'), ('impressions_MediaTransformation_None', 'impressions_Audio_None'), ('impressions_MediaTransformation_None', 'impressions_Native_None'), ('impressions_Native_None', 'impressions_Audio_None'), ('impressions_OnlineVideo_None', 'value_visits_visits'), ('impressions_OwnedSocial_None', 'impressions_PaidSocial_None'), ('impressions_OwnedSocial_None', 'seasonal'), ('impressions_PaidSocial_None', 'impressions_OnlineVideo_None'), ('impressions_PaidSocial_None', 'impressions_App_None'), ('impressions_Push_null', 'value_visits_visits'), ('impressions_SEM_None', 'impressions_Email_None'), ('impressions_TV_None', 'bii_score'), ('impressions_TV_None', 'impressions_SEM_None'), ('value_visits_visits', 'value_leads_fs_submits'), ('bii_score', 'impressions_SEM_None')]\n"
     ]
    }
   ],
   "source": [
    "score = ConstrainedBDeu(scaled,\n",
    "                        equivalent_sample_size=ESS,\n",
    "                        edge_priors=None,\n",
    "                        required_edges=MUST_EDGES,\n",
    "                        forbidden_edges=FORBID_EDGES)\n",
    "\n",
    "# ---------- structure learning ----------------------------------\n",
    "hc = HillClimbSearch(scaled)\n",
    "model: BayesianNetwork = hc.estimate(\n",
    "        scoring_method=score,\n",
    "        max_indegree=3,\n",
    "        tabu_length=60,\n",
    "        epsilon=1e-3)\n",
    "\n",
    "print(\"Learned edges:\", list(model.edges()))\n"
   ]
  },
  {
   "cell_type": "code",
   "execution_count": 0,
   "metadata": {
    "application/vnd.databricks.v1+cell": {
     "cellMetadata": {
      "byteLimit": 2048000,
      "rowLimit": 10000
     },
     "inputWidgets": {},
     "nuid": "5c62bca2-8aa4-4465-b257-ce8cac812df7",
     "showTitle": false,
     "tableResultSettingsMap": {},
     "title": ""
    }
   },
   "outputs": [
    {
     "output_type": "stream",
     "name": "stderr",
     "output_type": "stream",
     "text": [
      "INFO:pgmpy: Datatype (N=numerical, C=Categorical Unordered, O=Categorical Ordered) inferred from data: \n {'impressions_App_None': 'N', 'impressions_Audio_None': 'N', 'impressions_Display_None': 'N', 'impressions_Email_None': 'N', 'impressions_MediaSolutions_None': 'N', 'impressions_MediaTransformation_None': 'N', 'impressions_Native_None': 'N', 'impressions_OnlineVideo_None': 'N', 'impressions_OperationalEmails_None': 'N', 'impressions_OwnedSocial_None': 'N', 'impressions_PaidSocial_None': 'N', 'impressions_Push_null': 'N', 'impressions_SEM_None': 'N', 'impressions_TV_None': 'N', 'value_visits_visits': 'N', 'value_leads_fs_submits': 'N', 'bii_score': 'N', 'seasonal': 'N'}\n"
     ]
    },
    {
     "output_type": "execute_result",
     "data": {
      "text/plain": [
       "<pgmpy.models.DiscreteBayesianNetwork.DiscreteBayesianNetwork at 0x7faad87137d0>"
      ]
     },
     "execution_count": 31,
     "metadata": {},
     "output_type": "execute_result"
    }
   ],
   "source": [
    "model.fit(scaled,\n",
    "          estimator=BayesianEstimator,\n",
    "          prior_type=\"BDeu\",\n",
    "          equivalent_sample_size=ESS)\n",
    "\n"
   ]
  },
  {
   "cell_type": "code",
   "execution_count": 0,
   "metadata": {
    "application/vnd.databricks.v1+cell": {
     "cellMetadata": {
      "byteLimit": 2048000,
      "rowLimit": 10000
     },
     "inputWidgets": {},
     "nuid": "ca8593f6-9f37-49ce-92b6-f80de4b4dd56",
     "showTitle": false,
     "tableResultSettingsMap": {},
     "title": ""
    }
   },
   "outputs": [
    {
     "output_type": "display_data",
     "data": {
      "text/html": [
       "<html>\n",
       "    <head>\n",
       "        <meta charset=\"utf-8\">\n",
       "        \n",
       "            <script src=\"lib/bindings/utils.js\"></script>\n",
       "            <link rel=\"stylesheet\" href=\"https://cdnjs.cloudflare.com/ajax/libs/vis-network/9.1.2/dist/dist/vis-network.min.css\" integrity=\"sha512-WgxfT5LWjfszlPHXRmBWHkV2eceiWTOBvrKCNbdgDYTHrT2AeLCGbF4sZlZw3UMN3WtL0tGUoIAKsu8mllg/XA==\" crossorigin=\"anonymous\" referrerpolicy=\"no-referrer\" />\n",
       "            <script src=\"https://cdnjs.cloudflare.com/ajax/libs/vis-network/9.1.2/dist/vis-network.min.js\" integrity=\"sha512-LnvoEWDFrqGHlHmDD2101OrLcbsfkrzoSpvtSQtxK3RMnRV0eOkhhBN2dXHKRrUU8p2DGRTk35n4O8nWSVe1mQ==\" crossorigin=\"anonymous\" referrerpolicy=\"no-referrer\"></script>\n",
       "            \n",
       "        \n",
       "<center>\n",
       "<h1></h1>\n",
       "</center>\n",
       "\n",
       "<!-- <link rel=\"stylesheet\" href=\"../node_modules/vis/dist/vis.min.css\" type=\"text/css\" />\n",
       "<script type=\"text/javascript\" src=\"../node_modules/vis/dist/vis.js\"> </script>-->\n",
       "        <link\n",
       "          href=\"https://cdn.jsdelivr.net/npm/bootstrap@5.0.0-beta3/dist/css/bootstrap.min.css\"\n",
       "          rel=\"stylesheet\"\n",
       "          integrity=\"sha384-eOJMYsd53ii+scO/bJGFsiCZc+5NDVN2yr8+0RDqr0Ql0h+rP48ckxlpbzKgwra6\"\n",
       "          crossorigin=\"anonymous\"\n",
       "        />\n",
       "        <script\n",
       "          src=\"https://cdn.jsdelivr.net/npm/bootstrap@5.0.0-beta3/dist/js/bootstrap.bundle.min.js\"\n",
       "          integrity=\"sha384-JEW9xMcG8R+pH31jmWH6WWP0WintQrMb4s7ZOdauHnUtxwoG2vI5DkLtS3qm9Ekf\"\n",
       "          crossorigin=\"anonymous\"\n",
       "        ></script>\n",
       "\n",
       "\n",
       "        <center>\n",
       "          <h1></h1>\n",
       "        </center>\n",
       "        <style type=\"text/css\">\n",
       "\n",
       "             #mynetwork {\n",
       "                 width: 100%;\n",
       "                 height: 750px;\n",
       "                 background-color: #ffffff;\n",
       "                 border: 1px solid lightgray;\n",
       "                 position: relative;\n",
       "                 float: left;\n",
       "             }\n",
       "\n",
       "             \n",
       "\n",
       "             \n",
       "             #config {\n",
       "                 float: left;\n",
       "                 width: 400px;\n",
       "                 height: 600px;\n",
       "             }\n",
       "             \n",
       "\n",
       "             \n",
       "        </style>\n",
       "    </head>\n",
       "\n",
       "\n",
       "    <body>\n",
       "        <div class=\"card\" style=\"width: 100%\">\n",
       "            \n",
       "            \n",
       "            <div id=\"mynetwork\" class=\"card-body\"></div>\n",
       "        </div>\n",
       "\n",
       "        \n",
       "        \n",
       "            <div id=\"config\"></div>\n",
       "        \n",
       "\n",
       "        <script type=\"text/javascript\">\n",
       "\n",
       "              // initialize global variables.\n",
       "              var edges;\n",
       "              var nodes;\n",
       "              var allNodes;\n",
       "              var allEdges;\n",
       "              var nodeColors;\n",
       "              var originalNodes;\n",
       "              var network;\n",
       "              var container;\n",
       "              var options, data;\n",
       "              var filter = {\n",
       "                  item : '',\n",
       "                  property : '',\n",
       "                  value : []\n",
       "              };\n",
       "\n",
       "              \n",
       "\n",
       "              \n",
       "\n",
       "              // This method is responsible for drawing the graph, returns the drawn network\n",
       "              function drawGraph() {\n",
       "                  var container = document.getElementById('mynetwork');\n",
       "\n",
       "                  \n",
       "\n",
       "                  // parsing and collecting nodes and edges from the python\n",
       "                  nodes = new vis.DataSet([{\"borderWidth\": 2, \"color\": \"#e7f0ff\", \"font\": {\"size\": 18}, \"id\": \"impressions_App_None\", \"label\": \"impressions_App_None\", \"shape\": \"dot\", \"size\": 24}, {\"borderWidth\": 2, \"color\": \"#e7f0ff\", \"font\": {\"size\": 18}, \"id\": \"impressions_MediaSolutions_None\", \"label\": \"impressions_MediaSolutions_None\", \"shape\": \"dot\", \"size\": 24}, {\"borderWidth\": 2, \"color\": \"#e7f0ff\", \"font\": {\"size\": 18}, \"id\": \"impressions_Display_None\", \"label\": \"impressions_Display_None\", \"shape\": \"dot\", \"size\": 24}, {\"borderWidth\": 2, \"color\": \"#e7f0ff\", \"font\": {\"size\": 18}, \"id\": \"impressions_OperationalEmails_None\", \"label\": \"impressions_OperationalEmails_None\", \"shape\": \"dot\", \"size\": 24}, {\"borderWidth\": 2, \"color\": \"#e7f0ff\", \"font\": {\"size\": 18}, \"id\": \"impressions_TV_None\", \"label\": \"impressions_TV_None\", \"shape\": \"dot\", \"size\": 24}, {\"borderWidth\": 4, \"color\": \"#FFD54F\", \"font\": {\"bold\": true, \"size\": 22}, \"id\": \"bii_score\", \"label\": \"bii_score\", \"shape\": \"dot\", \"size\": 40}, {\"borderWidth\": 2, \"color\": \"#e7f0ff\", \"font\": {\"size\": 18}, \"id\": \"impressions_SEM_None\", \"label\": \"impressions_SEM_None\", \"shape\": \"dot\", \"size\": 24}, {\"borderWidth\": 2, \"color\": \"#e7f0ff\", \"font\": {\"size\": 18}, \"id\": \"impressions_Email_None\", \"label\": \"impressions_Email_None\", \"shape\": \"dot\", \"size\": 24}, {\"borderWidth\": 2, \"color\": \"#e7f0ff\", \"font\": {\"size\": 18}, \"id\": \"impressions_Push_null\", \"label\": \"impressions_Push_null\", \"shape\": \"dot\", \"size\": 24}, {\"borderWidth\": 4, \"color\": \"#42A5F5\", \"font\": {\"bold\": true, \"size\": 22}, \"id\": \"value_visits_visits\", \"label\": \"value_visits_visits\", \"shape\": \"dot\", \"size\": 40}, {\"borderWidth\": 2, \"color\": \"#e7f0ff\", \"font\": {\"size\": 18}, \"id\": \"impressions_MediaTransformation_None\", \"label\": \"impressions_MediaTransformation_None\", \"shape\": \"dot\", \"size\": 24}, {\"borderWidth\": 2, \"color\": \"#e7f0ff\", \"font\": {\"size\": 18}, \"id\": \"impressions_Audio_None\", \"label\": \"impressions_Audio_None\", \"shape\": \"dot\", \"size\": 24}, {\"borderWidth\": 2, \"color\": \"#e7f0ff\", \"font\": {\"size\": 18}, \"id\": \"impressions_Native_None\", \"label\": \"impressions_Native_None\", \"shape\": \"dot\", \"size\": 24}, {\"borderWidth\": 2, \"color\": \"#e7f0ff\", \"font\": {\"size\": 18}, \"id\": \"impressions_OnlineVideo_None\", \"label\": \"impressions_OnlineVideo_None\", \"shape\": \"dot\", \"size\": 24}, {\"borderWidth\": 4, \"color\": \"#EF5350\", \"font\": {\"bold\": true, \"size\": 22}, \"id\": \"value_leads_fs_submits\", \"label\": \"value_leads_fs_submits\", \"shape\": \"dot\", \"size\": 40}, {\"borderWidth\": 2, \"color\": \"#e7f0ff\", \"font\": {\"size\": 18}, \"id\": \"impressions_OwnedSocial_None\", \"label\": \"impressions_OwnedSocial_None\", \"shape\": \"dot\", \"size\": 24}, {\"borderWidth\": 2, \"color\": \"#e7f0ff\", \"font\": {\"size\": 18}, \"id\": \"impressions_PaidSocial_None\", \"label\": \"impressions_PaidSocial_None\", \"shape\": \"dot\", \"size\": 24}, {\"borderWidth\": 2, \"color\": \"#e7f0ff\", \"font\": {\"size\": 18}, \"id\": \"seasonal\", \"label\": \"seasonal\", \"shape\": \"dot\", \"size\": 24}]);\n",
       "                  edges = new vis.DataSet([{\"arrows\": \"to\", \"from\": \"impressions_App_None\", \"to\": \"impressions_MediaSolutions_None\", \"width\": 1}, {\"arrows\": \"to\", \"from\": \"impressions_MediaSolutions_None\", \"to\": \"impressions_Display_None\", \"width\": 1}, {\"arrows\": \"to\", \"from\": \"impressions_MediaSolutions_None\", \"to\": \"impressions_OperationalEmails_None\", \"width\": 1}, {\"arrows\": \"to\", \"from\": \"impressions_Display_None\", \"to\": \"impressions_TV_None\", \"width\": 1}, {\"arrows\": \"to\", \"from\": \"impressions_TV_None\", \"to\": \"bii_score\", \"width\": 1}, {\"arrows\": \"to\", \"from\": \"impressions_TV_None\", \"to\": \"impressions_SEM_None\", \"width\": 1}, {\"arrows\": \"to\", \"from\": \"impressions_Email_None\", \"to\": \"impressions_Push_null\", \"width\": 1}, {\"arrows\": \"to\", \"from\": \"impressions_Push_null\", \"to\": \"value_visits_visits\", \"width\": 1}, {\"arrows\": \"to\", \"from\": \"impressions_MediaTransformation_None\", \"to\": \"impressions_Audio_None\", \"width\": 1}, {\"arrows\": \"to\", \"from\": \"impressions_MediaTransformation_None\", \"to\": \"impressions_Native_None\", \"width\": 1}, {\"arrows\": \"to\", \"from\": \"impressions_Native_None\", \"to\": \"impressions_Audio_None\", \"width\": 1}, {\"arrows\": \"to\", \"from\": \"impressions_OnlineVideo_None\", \"to\": \"value_visits_visits\", \"width\": 1}, {\"arrows\": \"to\", \"from\": \"value_visits_visits\", \"to\": \"value_leads_fs_submits\", \"width\": 1}, {\"arrows\": \"to\", \"from\": \"impressions_OwnedSocial_None\", \"to\": \"impressions_PaidSocial_None\", \"width\": 1}, {\"arrows\": \"to\", \"from\": \"impressions_OwnedSocial_None\", \"to\": \"seasonal\", \"width\": 1}, {\"arrows\": \"to\", \"from\": \"impressions_PaidSocial_None\", \"to\": \"impressions_OnlineVideo_None\", \"width\": 1}, {\"arrows\": \"to\", \"from\": \"impressions_PaidSocial_None\", \"to\": \"impressions_App_None\", \"width\": 1}, {\"arrows\": \"to\", \"from\": \"seasonal\", \"to\": \"value_visits_visits\", \"width\": 1}, {\"arrows\": \"to\", \"from\": \"impressions_SEM_None\", \"to\": \"impressions_Email_None\", \"width\": 1}, {\"arrows\": \"to\", \"from\": \"bii_score\", \"to\": \"impressions_SEM_None\", \"width\": 1}]);\n",
       "\n",
       "                  nodeColors = {};\n",
       "                  allNodes = nodes.get({ returnType: \"Object\" });\n",
       "                  for (nodeId in allNodes) {\n",
       "                    nodeColors[nodeId] = allNodes[nodeId].color;\n",
       "                  }\n",
       "                  allEdges = edges.get({ returnType: \"Object\" });\n",
       "                  // adding nodes and edges to the graph\n",
       "                  data = {nodes: nodes, edges: edges};\n",
       "\n",
       "                  var options = {\n",
       "    \"configure\": {\n",
       "        \"enabled\": true,\n",
       "        \"filter\": [\n",
       "            \"physics\"\n",
       "        ]\n",
       "    },\n",
       "    \"edges\": {\n",
       "        \"color\": {\n",
       "            \"inherit\": true\n",
       "        },\n",
       "        \"smooth\": {\n",
       "            \"enabled\": true,\n",
       "            \"type\": \"dynamic\"\n",
       "        }\n",
       "    },\n",
       "    \"interaction\": {\n",
       "        \"dragNodes\": true,\n",
       "        \"hideEdgesOnDrag\": false,\n",
       "        \"hideNodesOnDrag\": false\n",
       "    },\n",
       "    \"physics\": {\n",
       "        \"enabled\": true,\n",
       "        \"stabilization\": {\n",
       "            \"enabled\": true,\n",
       "            \"fit\": true,\n",
       "            \"iterations\": 1000,\n",
       "            \"onlyDynamicEdges\": false,\n",
       "            \"updateInterval\": 50\n",
       "        }\n",
       "    }\n",
       "};\n",
       "\n",
       "                  \n",
       "\n",
       "\n",
       "                  \n",
       "                  // if this network requires displaying the configure window,\n",
       "                  // put it in its div\n",
       "                  options.configure[\"container\"] = document.getElementById(\"config\");\n",
       "                  \n",
       "\n",
       "                  network = new vis.Network(container, data, options);\n",
       "\n",
       "                  \n",
       "\n",
       "                  \n",
       "\n",
       "                  \n",
       "\n",
       "\n",
       "                  \n",
       "\n",
       "                  return network;\n",
       "\n",
       "              }\n",
       "              drawGraph();\n",
       "        </script>\n",
       "    </body>\n",
       "</html>"
      ]
     },
     "metadata": {},
     "output_type": "display_data"
    }
   ],
   "source": [
    "from pyvis.network import Network\n",
    "import networkx as nx\n",
    "\n",
    "# ------------------------------------------------------------------\n",
    "# 1. build the PyVis graph from your NetworkX DiGraph\n",
    "net = Network(height=\"750px\", width=\"100%\", directed=True)\n",
    "net.from_nx(nx.DiGraph(model.edges()))\n",
    "\n",
    "# ------------------------------------------------------------------\n",
    "# 2. baseline style for every node / edge\n",
    "for n in net.nodes:\n",
    "    n[\"size\"] = 24\n",
    "    n[\"color\"] = \"#e7f0ff\"       # light blue\n",
    "    n[\"borderWidth\"] = 2\n",
    "    n[\"font\"] = {\"size\": 18}\n",
    "\n",
    "for e in net.edges:\n",
    "    e[\"arrows\"] = \"to\"\n",
    "\n",
    "# ------------------------------------------------------------------\n",
    "# 3. highlight table  (node_id → color, size, border)\n",
    "HIGHLIGHT = {\n",
    "    \"bii_score\":               {\"color\": \"#FFD54F\", \"size\": 40},  # gold\n",
    "    \"value_visits_visits\":     {\"color\": \"#42A5F5\", \"size\": 40},  # bright blue\n",
    "    \"value_leads_fs_submits\":  {\"color\": \"#EF5350\", \"size\": 40},  # tomato red\n",
    "}\n",
    "\n",
    "for n in net.nodes:\n",
    "    nid = n[\"id\"]              # node name as stored by PyVis\n",
    "    if nid in HIGHLIGHT:\n",
    "        style = HIGHLIGHT[nid]\n",
    "        n[\"color\"]       = style[\"color\"]\n",
    "        n[\"size\"]        = style[\"size\"]\n",
    "        n[\"borderWidth\"] = 4\n",
    "        n[\"font\"][\"bold\"] = True\n",
    "        n[\"font\"][\"size\"] = 22\n",
    "\n",
    "# ------------------------------------------------------------------\n",
    "net.show_buttons(filter_=['physics'])\n",
    "net.save_graph(\"dag_highlight.html\")\n",
    "\n",
    "# Display inside notebook (Databricks / Colab etc.)\n",
    "with open(\"dag_highlight.html\") as f:\n",
    "    displayHTML(f.read())\n"
   ]
  },
  {
   "cell_type": "code",
   "execution_count": 0,
   "metadata": {
    "application/vnd.databricks.v1+cell": {
     "cellMetadata": {
      "byteLimit": 2048000,
      "rowLimit": 10000
     },
     "inputWidgets": {},
     "nuid": "70d4f0d9-b3bd-496b-b4e7-4eefcf56ebe0",
     "showTitle": false,
     "tableResultSettingsMap": {},
     "title": ""
    }
   },
   "outputs": [
    {
     "output_type": "display_data",
     "data": {
      "text/html": [
       "<html>\n",
       "    <head>\n",
       "        <meta charset=\"utf-8\">\n",
       "        \n",
       "            <script src=\"lib/bindings/utils.js\"></script>\n",
       "            <link rel=\"stylesheet\" href=\"https://cdnjs.cloudflare.com/ajax/libs/vis-network/9.1.2/dist/dist/vis-network.min.css\" integrity=\"sha512-WgxfT5LWjfszlPHXRmBWHkV2eceiWTOBvrKCNbdgDYTHrT2AeLCGbF4sZlZw3UMN3WtL0tGUoIAKsu8mllg/XA==\" crossorigin=\"anonymous\" referrerpolicy=\"no-referrer\" />\n",
       "            <script src=\"https://cdnjs.cloudflare.com/ajax/libs/vis-network/9.1.2/dist/vis-network.min.js\" integrity=\"sha512-LnvoEWDFrqGHlHmDD2101OrLcbsfkrzoSpvtSQtxK3RMnRV0eOkhhBN2dXHKRrUU8p2DGRTk35n4O8nWSVe1mQ==\" crossorigin=\"anonymous\" referrerpolicy=\"no-referrer\"></script>\n",
       "            \n",
       "        \n",
       "<center>\n",
       "<h1></h1>\n",
       "</center>\n",
       "\n",
       "<!-- <link rel=\"stylesheet\" href=\"../node_modules/vis/dist/vis.min.css\" type=\"text/css\" />\n",
       "<script type=\"text/javascript\" src=\"../node_modules/vis/dist/vis.js\"> </script>-->\n",
       "        <link\n",
       "          href=\"https://cdn.jsdelivr.net/npm/bootstrap@5.0.0-beta3/dist/css/bootstrap.min.css\"\n",
       "          rel=\"stylesheet\"\n",
       "          integrity=\"sha384-eOJMYsd53ii+scO/bJGFsiCZc+5NDVN2yr8+0RDqr0Ql0h+rP48ckxlpbzKgwra6\"\n",
       "          crossorigin=\"anonymous\"\n",
       "        />\n",
       "        <script\n",
       "          src=\"https://cdn.jsdelivr.net/npm/bootstrap@5.0.0-beta3/dist/js/bootstrap.bundle.min.js\"\n",
       "          integrity=\"sha384-JEW9xMcG8R+pH31jmWH6WWP0WintQrMb4s7ZOdauHnUtxwoG2vI5DkLtS3qm9Ekf\"\n",
       "          crossorigin=\"anonymous\"\n",
       "        ></script>\n",
       "\n",
       "\n",
       "        <center>\n",
       "          <h1></h1>\n",
       "        </center>\n",
       "        <style type=\"text/css\">\n",
       "\n",
       "             #mynetwork {\n",
       "                 width: 100%;\n",
       "                 height: 750px;\n",
       "                 background-color: #ffffff;\n",
       "                 border: 1px solid lightgray;\n",
       "                 position: relative;\n",
       "                 float: left;\n",
       "             }\n",
       "\n",
       "             \n",
       "\n",
       "             \n",
       "             #config {\n",
       "                 float: left;\n",
       "                 width: 400px;\n",
       "                 height: 600px;\n",
       "             }\n",
       "             \n",
       "\n",
       "             \n",
       "        </style>\n",
       "    </head>\n",
       "\n",
       "\n",
       "    <body>\n",
       "        <div class=\"card\" style=\"width: 100%\">\n",
       "            \n",
       "            \n",
       "            <div id=\"mynetwork\" class=\"card-body\"></div>\n",
       "        </div>\n",
       "\n",
       "        \n",
       "        \n",
       "            <div id=\"config\"></div>\n",
       "        \n",
       "\n",
       "        <script type=\"text/javascript\">\n",
       "\n",
       "              // initialize global variables.\n",
       "              var edges;\n",
       "              var nodes;\n",
       "              var allNodes;\n",
       "              var allEdges;\n",
       "              var nodeColors;\n",
       "              var originalNodes;\n",
       "              var network;\n",
       "              var container;\n",
       "              var options, data;\n",
       "              var filter = {\n",
       "                  item : '',\n",
       "                  property : '',\n",
       "                  value : []\n",
       "              };\n",
       "\n",
       "              \n",
       "\n",
       "              \n",
       "\n",
       "              // This method is responsible for drawing the graph, returns the drawn network\n",
       "              function drawGraph() {\n",
       "                  var container = document.getElementById('mynetwork');\n",
       "\n",
       "                  \n",
       "\n",
       "                  // parsing and collecting nodes and edges from the python\n",
       "                  nodes = new vis.DataSet([{\"borderWidth\": 2, \"color\": \"#e7f0ff\", \"id\": \"impressions_App_None\", \"label\": \"impressions_App_None\", \"shape\": \"dot\", \"size\": 24}, {\"borderWidth\": 2, \"color\": \"#e7f0ff\", \"id\": \"impressions_MediaSolutions_None\", \"label\": \"impressions_MediaSolutions_None\", \"shape\": \"dot\", \"size\": 24}, {\"borderWidth\": 2, \"color\": \"#e7f0ff\", \"id\": \"impressions_Display_None\", \"label\": \"impressions_Display_None\", \"shape\": \"dot\", \"size\": 24}, {\"borderWidth\": 2, \"color\": \"#e7f0ff\", \"id\": \"impressions_OperationalEmails_None\", \"label\": \"impressions_OperationalEmails_None\", \"shape\": \"dot\", \"size\": 24}, {\"borderWidth\": 2, \"color\": \"#e7f0ff\", \"id\": \"impressions_TV_None\", \"label\": \"impressions_TV_None\", \"shape\": \"dot\", \"size\": 24}, {\"borderWidth\": 2, \"color\": \"#e7f0ff\", \"id\": \"bii_score\", \"label\": \"bii_score\", \"shape\": \"dot\", \"size\": 24}, {\"borderWidth\": 2, \"color\": \"#e7f0ff\", \"id\": \"impressions_SEM_None\", \"label\": \"impressions_SEM_None\", \"shape\": \"dot\", \"size\": 24}, {\"borderWidth\": 2, \"color\": \"#e7f0ff\", \"id\": \"impressions_Email_None\", \"label\": \"impressions_Email_None\", \"shape\": \"dot\", \"size\": 24}, {\"borderWidth\": 2, \"color\": \"#e7f0ff\", \"id\": \"impressions_Push_null\", \"label\": \"impressions_Push_null\", \"shape\": \"dot\", \"size\": 24}, {\"borderWidth\": 2, \"color\": \"#e7f0ff\", \"id\": \"value_visits_visits\", \"label\": \"value_visits_visits\", \"shape\": \"dot\", \"size\": 24}, {\"borderWidth\": 2, \"color\": \"#e7f0ff\", \"id\": \"impressions_MediaTransformation_None\", \"label\": \"impressions_MediaTransformation_None\", \"shape\": \"dot\", \"size\": 24}, {\"borderWidth\": 2, \"color\": \"#e7f0ff\", \"id\": \"impressions_Audio_None\", \"label\": \"impressions_Audio_None\", \"shape\": \"dot\", \"size\": 24}, {\"borderWidth\": 2, \"color\": \"#e7f0ff\", \"id\": \"impressions_Native_None\", \"label\": \"impressions_Native_None\", \"shape\": \"dot\", \"size\": 24}, {\"borderWidth\": 2, \"color\": \"#e7f0ff\", \"id\": \"impressions_OnlineVideo_None\", \"label\": \"impressions_OnlineVideo_None\", \"shape\": \"dot\", \"size\": 24}, {\"borderWidth\": 2, \"color\": \"#e7f0ff\", \"id\": \"value_leads_fs_submits\", \"label\": \"value_leads_fs_submits\", \"shape\": \"dot\", \"size\": 24}, {\"borderWidth\": 2, \"color\": \"#e7f0ff\", \"id\": \"impressions_OwnedSocial_None\", \"label\": \"impressions_OwnedSocial_None\", \"shape\": \"dot\", \"size\": 24}, {\"borderWidth\": 2, \"color\": \"#e7f0ff\", \"id\": \"impressions_PaidSocial_None\", \"label\": \"impressions_PaidSocial_None\", \"shape\": \"dot\", \"size\": 24}, {\"borderWidth\": 2, \"color\": \"#e7f0ff\", \"id\": \"seasonal\", \"label\": \"seasonal\", \"shape\": \"dot\", \"size\": 24}]);\n",
       "                  edges = new vis.DataSet([{\"arrows\": \"to\", \"from\": \"impressions_App_None\", \"to\": \"impressions_MediaSolutions_None\", \"width\": 1}, {\"arrows\": \"to\", \"from\": \"impressions_MediaSolutions_None\", \"to\": \"impressions_Display_None\", \"width\": 1}, {\"arrows\": \"to\", \"from\": \"impressions_MediaSolutions_None\", \"to\": \"impressions_OperationalEmails_None\", \"width\": 1}, {\"arrows\": \"to\", \"from\": \"impressions_Display_None\", \"to\": \"impressions_TV_None\", \"width\": 1}, {\"arrows\": \"to\", \"from\": \"impressions_TV_None\", \"to\": \"bii_score\", \"width\": 1}, {\"arrows\": \"to\", \"from\": \"impressions_TV_None\", \"to\": \"impressions_SEM_None\", \"width\": 1}, {\"arrows\": \"to\", \"from\": \"impressions_Email_None\", \"to\": \"impressions_Push_null\", \"width\": 1}, {\"arrows\": \"to\", \"from\": \"impressions_Push_null\", \"to\": \"value_visits_visits\", \"width\": 1}, {\"arrows\": \"to\", \"from\": \"impressions_MediaTransformation_None\", \"to\": \"impressions_Audio_None\", \"width\": 1}, {\"arrows\": \"to\", \"from\": \"impressions_MediaTransformation_None\", \"to\": \"impressions_Native_None\", \"width\": 1}, {\"arrows\": \"to\", \"from\": \"impressions_Native_None\", \"to\": \"impressions_Audio_None\", \"width\": 1}, {\"arrows\": \"to\", \"from\": \"impressions_OnlineVideo_None\", \"to\": \"value_visits_visits\", \"width\": 1}, {\"arrows\": \"to\", \"from\": \"value_visits_visits\", \"to\": \"value_leads_fs_submits\", \"width\": 1}, {\"arrows\": \"to\", \"from\": \"impressions_OwnedSocial_None\", \"to\": \"impressions_PaidSocial_None\", \"width\": 1}, {\"arrows\": \"to\", \"from\": \"impressions_OwnedSocial_None\", \"to\": \"seasonal\", \"width\": 1}, {\"arrows\": \"to\", \"from\": \"impressions_PaidSocial_None\", \"to\": \"impressions_OnlineVideo_None\", \"width\": 1}, {\"arrows\": \"to\", \"from\": \"impressions_PaidSocial_None\", \"to\": \"impressions_App_None\", \"width\": 1}, {\"arrows\": \"to\", \"from\": \"seasonal\", \"to\": \"value_visits_visits\", \"width\": 1}, {\"arrows\": \"to\", \"from\": \"impressions_SEM_None\", \"to\": \"impressions_Email_None\", \"width\": 1}, {\"arrows\": \"to\", \"from\": \"bii_score\", \"to\": \"impressions_SEM_None\", \"width\": 1}]);\n",
       "\n",
       "                  nodeColors = {};\n",
       "                  allNodes = nodes.get({ returnType: \"Object\" });\n",
       "                  for (nodeId in allNodes) {\n",
       "                    nodeColors[nodeId] = allNodes[nodeId].color;\n",
       "                  }\n",
       "                  allEdges = edges.get({ returnType: \"Object\" });\n",
       "                  // adding nodes and edges to the graph\n",
       "                  data = {nodes: nodes, edges: edges};\n",
       "\n",
       "                  var options = {\n",
       "    \"configure\": {\n",
       "        \"enabled\": true,\n",
       "        \"filter\": [\n",
       "            \"physics\"\n",
       "        ]\n",
       "    },\n",
       "    \"edges\": {\n",
       "        \"color\": {\n",
       "            \"inherit\": true\n",
       "        },\n",
       "        \"smooth\": {\n",
       "            \"enabled\": true,\n",
       "            \"type\": \"dynamic\"\n",
       "        }\n",
       "    },\n",
       "    \"interaction\": {\n",
       "        \"dragNodes\": true,\n",
       "        \"hideEdgesOnDrag\": false,\n",
       "        \"hideNodesOnDrag\": false\n",
       "    },\n",
       "    \"physics\": {\n",
       "        \"enabled\": true,\n",
       "        \"stabilization\": {\n",
       "            \"enabled\": true,\n",
       "            \"fit\": true,\n",
       "            \"iterations\": 1000,\n",
       "            \"onlyDynamicEdges\": false,\n",
       "            \"updateInterval\": 50\n",
       "        }\n",
       "    }\n",
       "};\n",
       "\n",
       "                  \n",
       "\n",
       "\n",
       "                  \n",
       "                  // if this network requires displaying the configure window,\n",
       "                  // put it in its div\n",
       "                  options.configure[\"container\"] = document.getElementById(\"config\");\n",
       "                  \n",
       "\n",
       "                  network = new vis.Network(container, data, options);\n",
       "\n",
       "                  \n",
       "\n",
       "                  \n",
       "\n",
       "                  \n",
       "\n",
       "\n",
       "                  \n",
       "\n",
       "                  return network;\n",
       "\n",
       "              }\n",
       "              drawGraph();\n",
       "        </script>\n",
       "    </body>\n",
       "</html>"
      ]
     },
     "metadata": {},
     "output_type": "display_data"
    }
   ],
   "source": [
    "# ---------- quick interactive DAG via PyVis ---------------------\n",
    "net = Network(height=\"750px\", width=\"100%\", directed=True)\n",
    "net.from_nx(nx.DiGraph(model.edges()))\n",
    "for n in net.nodes:                      # simple styling\n",
    "    n[\"size\"] = 24; n[\"color\"] = \"#e7f0ff\"; n[\"borderWidth\"] = 2\n",
    "for e in net.edges:\n",
    "    e[\"arrows\"] = \"to\"\n",
    "net.show_buttons(filter_=['physics'])\n",
    "\n",
    "# Save the HTML to a file\n",
    "net.save_graph(\"dag.html\")\n",
    "\n",
    "# Display the HTML file in the notebook\n",
    "with open(\"dag.html\", \"r\") as f:\n",
    "    html_content = f.read()\n",
    "displayHTML(html_content)\n"
   ]
  },
  {
   "cell_type": "code",
   "execution_count": 0,
   "metadata": {
    "application/vnd.databricks.v1+cell": {
     "cellMetadata": {
      "byteLimit": 2048000,
      "rowLimit": 10000
     },
     "inputWidgets": {},
     "nuid": "270a2f22-fbde-4aa2-84cd-b7d4e2ef4f9a",
     "showTitle": false,
     "tableResultSettingsMap": {},
     "title": ""
    }
   },
   "outputs": [
    {
     "output_type": "stream",
     "name": "stdout",
     "output_type": "stream",
     "text": [
      "Parents of DV  : ['seasonal', 'impressions_OnlineVideo_None', 'impressions_Push_null']\nChildren of DV : ['value_leads_fs_submits']\n"
     ]
    }
   ],
   "source": [
    "DV = \"value_visits_visits\"\n",
    "print(\"Parents of DV  :\", model.get_parents(DV))\n",
    "print(\"Children of DV :\", model.get_children(DV))"
   ]
  },
  {
   "cell_type": "code",
   "execution_count": 0,
   "metadata": {
    "application/vnd.databricks.v1+cell": {
     "cellMetadata": {
      "byteLimit": 2048000,
      "rowLimit": 10000
     },
     "inputWidgets": {},
     "nuid": "e96d41b5-f07c-4d36-abe5-161efccc16f9",
     "showTitle": false,
     "tableResultSettingsMap": {},
     "title": ""
    }
   },
   "outputs": [],
   "source": [
    "import pymc as pm"
   ]
  },
  {
   "cell_type": "code",
   "execution_count": 0,
   "metadata": {
    "application/vnd.databricks.v1+cell": {
     "cellMetadata": {
      "byteLimit": 2048000,
      "rowLimit": 10000
     },
     "inputWidgets": {},
     "nuid": "f64b49b8-fdb3-4018-9a86-98485f48edcd",
     "showTitle": false,
     "tableResultSettingsMap": {},
     "title": ""
    }
   },
   "outputs": [],
   "source": [
    "import pymc as pm\n",
    "import numpy as np\n",
    "import pandas as pd\n",
    "from pgmpy.factors.continuous import LinearGaussianCPD\n",
    "from pgmpy.models import LinearGaussianBayesianNetwork\n",
    "\n",
    "\n",
    "def bayes_linear_cpds(\n",
    "        model          : LinearGaussianBayesianNetwork,\n",
    "        df_raw         : pd.DataFrame,\n",
    "        sigma_p        : float = 1.0,      # Half-Normal(σ) prior for βj ≥ 0 (soft)\n",
    "        n_draws        : int   = 2000,\n",
    "        n_tune         : int   = 1000,\n",
    "        seed           : int   = 44,\n",
    "        continuous_cols: list[str] | None = None,\n",
    "):\n",
    "    \"\"\"\n",
    "    For each *continuous* child Y with parents X₁…Xₖ, fit\n",
    "\n",
    "        Y = β₀ + Σ βⱼ Xⱼ + ε,  ε ~ N(0, σ²)\n",
    "        βⱼ ~ HalfNormal(σ_p)\n",
    "\n",
    "    and insert a LinearGaussianCPD with posterior-mean parameters\n",
    "    into the LinearGaussianBayesianNetwork `model`.\n",
    "    \"\"\"\n",
    "    continuous_cols = continuous_cols or list(df_raw.columns)\n",
    "\n",
    "    for child in continuous_cols:\n",
    "        if child not in model.nodes:\n",
    "            continue\n",
    "\n",
    "        parents = list(model.get_parents(child))\n",
    "        if not parents:                      # root node → no regression to fit\n",
    "            continue\n",
    "\n",
    "        X = df_raw[parents].values\n",
    "        y = df_raw[child].values\n",
    "        k = X.shape[1]\n",
    "\n",
    "        # ── PyMC linear-Gaussian with Half-Normal priors ──────────────────\n",
    "        with pm.Model() as lm:\n",
    "            β0 = pm.Normal(\"β0\", mu=0, sigma=10)\n",
    "            β  = pm.HalfNormal(\"β\", sigma=sigma_p, shape=k)\n",
    "            σ  = pm.HalfNormal(\"σ\", sigma=1.0)\n",
    "\n",
    "            μ  = β0 + pm.math.dot(X, β)\n",
    "            pm.Normal(\"y\", mu=μ, sigma=σ, observed=y)\n",
    "\n",
    "            idata = pm.sample(\n",
    "                draws=n_draws,\n",
    "                tune=n_tune,\n",
    "                chains=2,\n",
    "                target_accept=0.9,\n",
    "                progressbar=False,\n",
    "                random_seed=seed,\n",
    "            )\n",
    "\n",
    "        means    = idata.posterior.mean(dim=(\"chain\", \"draw\"))\n",
    "        β0_hat   = float(means[\"β0\"])\n",
    "        β_values = np.atleast_1d(means[\"β\"].values).tolist()\n",
    "        std_hat  = float(means[\"σ\"])        # σ itself (not σ²)\n",
    "\n",
    "        # β list must start with intercept, then follow parent order\n",
    "        beta_vec = [β0_hat] + β_values\n",
    "\n",
    "        cpd = LinearGaussianCPD(\n",
    "            variable=child,\n",
    "            beta=beta_vec,          # [intercept, β₁, …, βₖ]\n",
    "            std=std_hat,\n",
    "            evidence=parents,       # same ordering as β_values\n",
    "        )\n",
    "\n",
    "        model.add_cpds(cpd)\n"
   ]
  },
  {
   "cell_type": "code",
   "execution_count": 0,
   "metadata": {
    "application/vnd.databricks.v1+cell": {
     "cellMetadata": {
      "byteLimit": 2048000,
      "rowLimit": 10000
     },
     "inputWidgets": {},
     "nuid": "d22d8aea-8845-498d-aacf-c0fee8f13eb8",
     "showTitle": false,
     "tableResultSettingsMap": {},
     "title": ""
    }
   },
   "outputs": [
    {
     "output_type": "stream",
     "name": "stderr",
     "output_type": "stream",
     "text": [
      "INFO:root:Exception while sending command.\nTraceback (most recent call last):\n  File \"/databricks/spark/python/lib/py4j-0.10.9.9-src.zip/py4j/clientserver.py\", line 527, in send_command\n    self.socket.sendall(command.encode(\"utf-8\"))\nConnectionResetError: [Errno 104] Connection reset by peer\n\nDuring handling of the above exception, another exception occurred:\n\nTraceback (most recent call last):\n  File \"/databricks/spark/python/lib/py4j-0.10.9.9-src.zip/py4j/java_gateway.py\", line 1038, in send_command\n    response = connection.send_command(command)\n               ^^^^^^^^^^^^^^^^^^^^^^^^^^^^^^^^\n  File \"/databricks/spark/python/lib/py4j-0.10.9.9-src.zip/py4j/clientserver.py\", line 530, in send_command\n    raise Py4JNetworkError(\npy4j.protocol.Py4JNetworkError: Error while sending\n"
     ]
    },
    {
     "output_type": "display_data",
     "data": {
      "application/vnd.jupyter.widget-view+json": {
       "model_id": "d207d11bd45d4486bbc92019b58ab0b1",
       "version_major": 2,
       "version_minor": 0
      },
      "text/plain": [
       "Uploading artifacts:   0%|          | 0/9 [00:00<?, ?it/s]"
      ]
     },
     "metadata": {},
     "output_type": "display_data"
    },
    {
     "output_type": "display_data",
     "data": {
      "application/vnd.jupyter.widget-view+json": {
       "model_id": "2614f4a82c484b49b253a4d7845ac7bd",
       "version_major": 2,
       "version_minor": 0
      },
      "text/plain": [
       "Uploading artifacts:   0%|          | 0/9 [00:00<?, ?it/s]"
      ]
     },
     "metadata": {},
     "output_type": "display_data"
    },
    {
     "output_type": "display_data",
     "data": {
      "application/vnd.jupyter.widget-view+json": {
       "model_id": "cfb53129e89b41cf9ca21b915767a8c9",
       "version_major": 2,
       "version_minor": 0
      },
      "text/plain": [
       "Uploading artifacts:   0%|          | 0/9 [00:00<?, ?it/s]"
      ]
     },
     "metadata": {},
     "output_type": "display_data"
    },
    {
     "output_type": "display_data",
     "data": {
      "application/vnd.jupyter.widget-view+json": {
       "model_id": "1d099fc72c164a80a370313063bd2027",
       "version_major": 2,
       "version_minor": 0
      },
      "text/plain": [
       "Uploading artifacts:   0%|          | 0/9 [00:00<?, ?it/s]"
      ]
     },
     "metadata": {},
     "output_type": "display_data"
    },
    {
     "output_type": "display_data",
     "data": {
      "application/vnd.jupyter.widget-view+json": {
       "model_id": "04f5df305d8c46e381e3eca69d612846",
       "version_major": 2,
       "version_minor": 0
      },
      "text/plain": [
       "Uploading artifacts:   0%|          | 0/9 [00:00<?, ?it/s]"
      ]
     },
     "metadata": {},
     "output_type": "display_data"
    },
    {
     "output_type": "display_data",
     "data": {
      "application/vnd.jupyter.widget-view+json": {
       "model_id": "f9a659f7ae454b61af2384c8e6558ef5",
       "version_major": 2,
       "version_minor": 0
      },
      "text/plain": [
       "Uploading artifacts:   0%|          | 0/9 [00:00<?, ?it/s]"
      ]
     },
     "metadata": {},
     "output_type": "display_data"
    },
    {
     "output_type": "display_data",
     "data": {
      "application/vnd.jupyter.widget-view+json": {
       "model_id": "bdf4d6b1eea84a2a9b2b717e3ee9f5b1",
       "version_major": 2,
       "version_minor": 0
      },
      "text/plain": [
       "Uploading artifacts:   0%|          | 0/9 [00:00<?, ?it/s]"
      ]
     },
     "metadata": {},
     "output_type": "display_data"
    },
    {
     "output_type": "display_data",
     "data": {
      "application/vnd.jupyter.widget-view+json": {
       "model_id": "aa1a8db6635c42818c4b2d127cc7a220",
       "version_major": 2,
       "version_minor": 0
      },
      "text/plain": [
       "Uploading artifacts:   0%|          | 0/9 [00:00<?, ?it/s]"
      ]
     },
     "metadata": {},
     "output_type": "display_data"
    },
    {
     "output_type": "display_data",
     "data": {
      "application/vnd.jupyter.widget-view+json": {
       "model_id": "4850926b786b4e059c2e8c520401b0d2",
       "version_major": 2,
       "version_minor": 0
      },
      "text/plain": [
       "Uploading artifacts:   0%|          | 0/9 [00:00<?, ?it/s]"
      ]
     },
     "metadata": {},
     "output_type": "display_data"
    },
    {
     "output_type": "display_data",
     "data": {
      "application/vnd.jupyter.widget-view+json": {
       "model_id": "35349cf268604899ae053fb86161e1e8",
       "version_major": 2,
       "version_minor": 0
      },
      "text/plain": [
       "Uploading artifacts:   0%|          | 0/9 [00:00<?, ?it/s]"
      ]
     },
     "metadata": {},
     "output_type": "display_data"
    },
    {
     "output_type": "display_data",
     "data": {
      "application/vnd.jupyter.widget-view+json": {
       "model_id": "a45598e46e9b4062a2d4575ae036fcd1",
       "version_major": 2,
       "version_minor": 0
      },
      "text/plain": [
       "Uploading artifacts:   0%|          | 0/9 [00:00<?, ?it/s]"
      ]
     },
     "metadata": {},
     "output_type": "display_data"
    },
    {
     "output_type": "display_data",
     "data": {
      "application/vnd.jupyter.widget-view+json": {
       "model_id": "4345de6546384c0386b03cc89f9906c8",
       "version_major": 2,
       "version_minor": 0
      },
      "text/plain": [
       "Uploading artifacts:   0%|          | 0/9 [00:00<?, ?it/s]"
      ]
     },
     "metadata": {},
     "output_type": "display_data"
    },
    {
     "output_type": "display_data",
     "data": {
      "application/vnd.jupyter.widget-view+json": {
       "model_id": "0815a44067f84319af9cd30253de345c",
       "version_major": 2,
       "version_minor": 0
      },
      "text/plain": [
       "Uploading artifacts:   0%|          | 0/9 [00:00<?, ?it/s]"
      ]
     },
     "metadata": {},
     "output_type": "display_data"
    },
    {
     "output_type": "display_data",
     "data": {
      "application/vnd.jupyter.widget-view+json": {
       "model_id": "4144475d8df3465aad4119186608abe2",
       "version_major": 2,
       "version_minor": 0
      },
      "text/plain": [
       "Uploading artifacts:   0%|          | 0/9 [00:00<?, ?it/s]"
      ]
     },
     "metadata": {},
     "output_type": "display_data"
    },
    {
     "output_type": "display_data",
     "data": {
      "application/vnd.jupyter.widget-view+json": {
       "model_id": "b7ebc772e9c741648a361356b8082bdf",
       "version_major": 2,
       "version_minor": 0
      },
      "text/plain": [
       "Uploading artifacts:   0%|          | 0/9 [00:00<?, ?it/s]"
      ]
     },
     "metadata": {},
     "output_type": "display_data"
    },
    {
     "output_type": "display_data",
     "data": {
      "application/vnd.jupyter.widget-view+json": {
       "model_id": "42c882ed1f6b41c1983250cbf9afc2e9",
       "version_major": 2,
       "version_minor": 0
      },
      "text/plain": [
       "Uploading artifacts:   0%|          | 0/9 [00:00<?, ?it/s]"
      ]
     },
     "metadata": {},
     "output_type": "display_data"
    },
    {
     "output_type": "stream",
     "name": "stderr",
     "output_type": "stream",
     "text": [
      "INFO:pymc.sampling.mcmc:Initializing NUTS using jitter+adapt_diag...\nINFO:pymc.sampling.mcmc:Multiprocess sampling (2 chains in 2 jobs)\nINFO:pymc.sampling.mcmc:NUTS: [β0, β, σ]\nINFO:root:Exception while sending command.\nTraceback (most recent call last):\n  File \"/databricks/spark/python/lib/py4j-0.10.9.9-src.zip/py4j/clientserver.py\", line 527, in send_command\n    self.socket.sendall(command.encode(\"utf-8\"))\nConnectionResetError: [Errno 104] Connection reset by peer\n\nDuring handling of the above exception, another exception occurred:\n\nTraceback (most recent call last):\n  File \"/databricks/spark/python/lib/py4j-0.10.9.9-src.zip/py4j/java_gateway.py\", line 1038, in send_command\n    response = connection.send_command(command)\n               ^^^^^^^^^^^^^^^^^^^^^^^^^^^^^^^^\n  File \"/databricks/spark/python/lib/py4j-0.10.9.9-src.zip/py4j/clientserver.py\", line 530, in send_command\n    raise Py4JNetworkError(\npy4j.protocol.Py4JNetworkError: Error while sending\nINFO:pymc.sampling.mcmc:Sampling 2 chains for 1_000 tune and 2_000 draw iterations (2_000 + 4_000 draws total) took 3 seconds.\nINFO:pymc.stats.convergence:We recommend running at least 4 chains for robust computation of convergence diagnostics\nWARNING:pgmpy:Replacing existing CPD for impressions_App_None\nINFO:pymc.sampling.mcmc:Initializing NUTS using jitter+adapt_diag...\nINFO:pymc.sampling.mcmc:Multiprocess sampling (2 chains in 2 jobs)\nINFO:pymc.sampling.mcmc:NUTS: [β0, β, σ]\nINFO:pymc.sampling.mcmc:Sampling 2 chains for 1_000 tune and 2_000 draw iterations (2_000 + 4_000 draws total) took 3 seconds.\nINFO:pymc.stats.convergence:We recommend running at least 4 chains for robust computation of convergence diagnostics\nWARNING:pgmpy:Replacing existing CPD for impressions_Audio_None\nINFO:pymc.sampling.mcmc:Initializing NUTS using jitter+adapt_diag...\nINFO:pymc.sampling.mcmc:Multiprocess sampling (2 chains in 2 jobs)\nINFO:pymc.sampling.mcmc:NUTS: [β0, β, σ]\nINFO:pymc.sampling.mcmc:Sampling 2 chains for 1_000 tune and 2_000 draw iterations (2_000 + 4_000 draws total) took 3 seconds.\nERROR:pymc.stats.convergence:There were 3 divergences after tuning. Increase `target_accept` or reparameterize.\nINFO:pymc.stats.convergence:We recommend running at least 4 chains for robust computation of convergence diagnostics\nWARNING:pgmpy:Replacing existing CPD for impressions_Display_None\nINFO:pymc.sampling.mcmc:Initializing NUTS using jitter+adapt_diag...\nINFO:pymc.sampling.mcmc:Multiprocess sampling (2 chains in 2 jobs)\nINFO:pymc.sampling.mcmc:NUTS: [β0, β, σ]\nINFO:pymc.sampling.mcmc:Sampling 2 chains for 1_000 tune and 2_000 draw iterations (2_000 + 4_000 draws total) took 3 seconds.\nINFO:pymc.stats.convergence:We recommend running at least 4 chains for robust computation of convergence diagnostics\nWARNING:pgmpy:Replacing existing CPD for impressions_Email_None\nINFO:pymc.sampling.mcmc:Initializing NUTS using jitter+adapt_diag...\nINFO:pymc.sampling.mcmc:Multiprocess sampling (2 chains in 2 jobs)\nINFO:pymc.sampling.mcmc:NUTS: [β0, β, σ]\nINFO:pymc.sampling.mcmc:Sampling 2 chains for 1_000 tune and 2_000 draw iterations (2_000 + 4_000 draws total) took 3 seconds.\nERROR:pymc.stats.convergence:There were 2 divergences after tuning. Increase `target_accept` or reparameterize.\nINFO:pymc.stats.convergence:We recommend running at least 4 chains for robust computation of convergence diagnostics\nWARNING:pgmpy:Replacing existing CPD for impressions_MediaSolutions_None\nINFO:pymc.sampling.mcmc:Initializing NUTS using jitter+adapt_diag...\nINFO:pymc.sampling.mcmc:Multiprocess sampling (2 chains in 2 jobs)\nINFO:pymc.sampling.mcmc:NUTS: [β0, β, σ]\nINFO:pymc.sampling.mcmc:Sampling 2 chains for 1_000 tune and 2_000 draw iterations (2_000 + 4_000 draws total) took 2 seconds.\nINFO:pymc.stats.convergence:We recommend running at least 4 chains for robust computation of convergence diagnostics\nWARNING:pgmpy:Replacing existing CPD for impressions_Native_None\nINFO:pymc.sampling.mcmc:Initializing NUTS using jitter+adapt_diag...\nINFO:pymc.sampling.mcmc:Multiprocess sampling (2 chains in 2 jobs)\nINFO:pymc.sampling.mcmc:NUTS: [β0, β, σ]\nINFO:pymc.sampling.mcmc:Sampling 2 chains for 1_000 tune and 2_000 draw iterations (2_000 + 4_000 draws total) took 2 seconds.\nINFO:pymc.stats.convergence:We recommend running at least 4 chains for robust computation of convergence diagnostics\nWARNING:pgmpy:Replacing existing CPD for impressions_OnlineVideo_None\nINFO:pymc.sampling.mcmc:Initializing NUTS using jitter+adapt_diag...\nINFO:pymc.sampling.mcmc:Multiprocess sampling (2 chains in 2 jobs)\nINFO:pymc.sampling.mcmc:NUTS: [β0, β, σ]\nINFO:pymc.sampling.mcmc:Sampling 2 chains for 1_000 tune and 2_000 draw iterations (2_000 + 4_000 draws total) took 3 seconds.\nINFO:pymc.stats.convergence:We recommend running at least 4 chains for robust computation of convergence diagnostics\nWARNING:pgmpy:Replacing existing CPD for impressions_OperationalEmails_None\nINFO:pymc.sampling.mcmc:Initializing NUTS using jitter+adapt_diag...\nINFO:pymc.sampling.mcmc:Multiprocess sampling (2 chains in 2 jobs)\nINFO:pymc.sampling.mcmc:NUTS: [β0, β, σ]\nINFO:pymc.sampling.mcmc:Sampling 2 chains for 1_000 tune and 2_000 draw iterations (2_000 + 4_000 draws total) took 2 seconds.\nINFO:pymc.stats.convergence:We recommend running at least 4 chains for robust computation of convergence diagnostics\nWARNING:pgmpy:Replacing existing CPD for impressions_PaidSocial_None\nINFO:pymc.sampling.mcmc:Initializing NUTS using jitter+adapt_diag...\nINFO:pymc.sampling.mcmc:Multiprocess sampling (2 chains in 2 jobs)\nINFO:pymc.sampling.mcmc:NUTS: [β0, β, σ]\nINFO:pymc.sampling.mcmc:Sampling 2 chains for 1_000 tune and 2_000 draw iterations (2_000 + 4_000 draws total) took 3 seconds.\nINFO:pymc.stats.convergence:We recommend running at least 4 chains for robust computation of convergence diagnostics\nWARNING:pgmpy:Replacing existing CPD for impressions_Push_null\nINFO:pymc.sampling.mcmc:Initializing NUTS using jitter+adapt_diag...\nINFO:pymc.sampling.mcmc:Multiprocess sampling (2 chains in 2 jobs)\nINFO:pymc.sampling.mcmc:NUTS: [β0, β, σ]\nINFO:pymc.sampling.mcmc:Sampling 2 chains for 1_000 tune and 2_000 draw iterations (2_000 + 4_000 draws total) took 8 seconds.\nERROR:pymc.stats.convergence:There were 36 divergences after tuning. Increase `target_accept` or reparameterize.\nINFO:pymc.stats.convergence:We recommend running at least 4 chains for robust computation of convergence diagnostics\nWARNING:pgmpy:Replacing existing CPD for impressions_SEM_None\nINFO:pymc.sampling.mcmc:Initializing NUTS using jitter+adapt_diag...\nINFO:pymc.sampling.mcmc:Multiprocess sampling (2 chains in 2 jobs)\nINFO:pymc.sampling.mcmc:NUTS: [β0, β, σ]\nINFO:pymc.sampling.mcmc:Sampling 2 chains for 1_000 tune and 2_000 draw iterations (2_000 + 4_000 draws total) took 2 seconds.\nINFO:pymc.stats.convergence:We recommend running at least 4 chains for robust computation of convergence diagnostics\nWARNING:pgmpy:Replacing existing CPD for impressions_TV_None\nINFO:pymc.sampling.mcmc:Initializing NUTS using jitter+adapt_diag...\nINFO:pymc.sampling.mcmc:Multiprocess sampling (2 chains in 2 jobs)\nINFO:pymc.sampling.mcmc:NUTS: [β0, β, σ]\nINFO:pymc.sampling.mcmc:Sampling 2 chains for 1_000 tune and 2_000 draw iterations (2_000 + 4_000 draws total) took 12 seconds.\nERROR:pymc.stats.convergence:There was 1 divergence after tuning. Increase `target_accept` or reparameterize.\nINFO:pymc.stats.convergence:We recommend running at least 4 chains for robust computation of convergence diagnostics\nWARNING:pgmpy:Replacing existing CPD for value_visits_visits\nINFO:pymc.sampling.mcmc:Initializing NUTS using jitter+adapt_diag...\nINFO:pymc.sampling.mcmc:Multiprocess sampling (2 chains in 2 jobs)\nINFO:pymc.sampling.mcmc:NUTS: [β0, β, σ]\nINFO:pymc.sampling.mcmc:Sampling 2 chains for 1_000 tune and 2_000 draw iterations (2_000 + 4_000 draws total) took 3 seconds.\nINFO:pymc.stats.convergence:We recommend running at least 4 chains for robust computation of convergence diagnostics\nWARNING:pgmpy:Replacing existing CPD for value_leads_fs_submits\nINFO:pymc.sampling.mcmc:Initializing NUTS using jitter+adapt_diag...\nINFO:pymc.sampling.mcmc:Multiprocess sampling (2 chains in 2 jobs)\nINFO:pymc.sampling.mcmc:NUTS: [β0, β, σ]\nINFO:pymc.sampling.mcmc:Sampling 2 chains for 1_000 tune and 2_000 draw iterations (2_000 + 4_000 draws total) took 4 seconds.\nERROR:pymc.stats.convergence:There were 2 divergences after tuning. Increase `target_accept` or reparameterize.\nINFO:pymc.stats.convergence:We recommend running at least 4 chains for robust computation of convergence diagnostics\nWARNING:pgmpy:Replacing existing CPD for bii_score\nINFO:pymc.sampling.mcmc:Initializing NUTS using jitter+adapt_diag...\nINFO:pymc.sampling.mcmc:Multiprocess sampling (2 chains in 2 jobs)\nINFO:pymc.sampling.mcmc:NUTS: [β0, β, σ]\nINFO:pymc.sampling.mcmc:Sampling 2 chains for 1_000 tune and 2_000 draw iterations (2_000 + 4_000 draws total) took 3 seconds.\nINFO:pymc.stats.convergence:We recommend running at least 4 chains for robust computation of convergence diagnostics\nWARNING:pgmpy:Replacing existing CPD for seasonal\n"
     ]
    }
   ],
   "source": [
    "from pgmpy.models import LinearGaussianBayesianNetwork\n",
    "import numpy as np, pandas as pd\n",
    "\n",
    "DV          = \"value_leads_fs_submits\"       # <-- your dependent variable\n",
    "dag_edges   = model.edges()                 # from HillClimbSearch earlier\n",
    "df         = scaled.copy()               # *continuous* dataframe (no bins!)\n",
    "\n",
    "# 1-A  wrap the learned structure in an LGBN\n",
    "lgbn = LinearGaussianBayesianNetwork(dag_edges)     # sink-node rule already in dag\n",
    "\n",
    "# 1-B  MLE: one linear regression per node\n",
    "lgbn.fit(df, method=\"mle\")                          # adds LinearGaussianCPDs\n",
    "\n",
    "\n",
    "bayes_linear_cpds(lgbn, scaled,\n",
    "                  sigma_p=1.0,\n",
    "                  continuous_cols=scaled.columns.tolist())\n",
    "\n",
    "assert lgbn.check_model()\n",
    "\n",
    "from pgmpy.inference import VariableElimination\n",
    "infer = VariableElimination(lgbn)\n"
   ]
  },
  {
   "cell_type": "code",
   "execution_count": 0,
   "metadata": {
    "application/vnd.databricks.v1+cell": {
     "cellMetadata": {
      "byteLimit": 2048000,
      "rowLimit": 10000
     },
     "inputWidgets": {},
     "nuid": "d15139c5-26dd-487b-9f8a-1b613f818600",
     "showTitle": false,
     "tableResultSettingsMap": {},
     "title": ""
    }
   },
   "outputs": [
    {
     "output_type": "execute_result",
     "data": {
      "text/plain": [
       "<pgmpy.inference.ExactInference.VariableElimination at 0x7f16cd14b800>"
      ]
     },
     "execution_count": 79,
     "metadata": {},
     "output_type": "execute_result"
    }
   ],
   "source": [
    "infer"
   ]
  },
  {
   "cell_type": "code",
   "execution_count": 0,
   "metadata": {
    "application/vnd.databricks.v1+cell": {
     "cellMetadata": {
      "byteLimit": 2048000,
      "rowLimit": 10000
     },
     "inputWidgets": {},
     "nuid": "fccfc3c4-ad46-449a-b622-3b2499d573c0",
     "showTitle": false,
     "tableResultSettingsMap": {},
     "title": ""
    }
   },
   "outputs": [
    {
     "output_type": "stream",
     "name": "stdout",
     "output_type": "stream",
     "text": [
      "\n=== Average causal contribution (one-unit do()) ===\n\nseasonal                                1.461419\nvalue_visits_visits                     0.778483\nimpressions_OwnedSocial_None            0.339022\nimpressions_OnlineVideo_None            0.149472\nimpressions_PaidSocial_None             0.115870\nimpressions_Push_null                   0.100179\nimpressions_Email_None                  0.049628\nimpressions_SEM_None                    0.039208\nbii_score                               0.031581\nimpressions_TV_None                     0.011796\nimpressions_Display_None                0.004815\nimpressions_MediaSolutions_None         0.000491\nimpressions_App_None                    0.000069\nimpressions_Audio_None                  0.000000\nimpressions_MediaTransformation_None    0.000000\nimpressions_OperationalEmails_None      0.000000\nimpressions_Native_None                 0.000000\nName: Δvalue_leads_fs_submits  per +1 in X, dtype: float64\n"
     ]
    },
    {
     "output_type": "display_data",
     "data": {
      "image/png": "[encoded data removed]",
      "text/plain": [
       "<Figure size 1000x600 with 1 Axes>"
      ]
     },
     "metadata": {},
     "output_type": "display_data"
    },
    {
     "output_type": "stream",
     "name": "stdout",
     "output_type": "stream",
     "text": [
      "\uD83D\uDCCA  saved → dv_total_effects.png\n"
     ]
    }
   ],
   "source": [
    "import numpy as np, pandas as pd, matplotlib.pyplot as plt\n",
    "from pgmpy.inference import VariableElimination   # optional for spot-checks\n",
    "\n",
    "# ------------------------------------------------------------------\n",
    "# A.  choose your dependent variable (exact name from your DataFrame)\n",
    "DV = \"value_leads_fs_submits\"\n",
    "\n",
    "# ------------------------------------------------------------------\n",
    "# B.  build the B matrix  (direct coefficients)\n",
    "vars_ = list(lgbn.nodes())                 # lgbn is your fitted model\n",
    "idx   = {v: i for i, v in enumerate(vars_)}\n",
    "n     = len(vars_)\n",
    "\n",
    "B = np.zeros((n, n))\n",
    "for cpd in lgbn.get_cpds():               # each is LinearGaussianCPD\n",
    "    child = cpd.variable\n",
    "    β     = cpd.beta                      # [β0, β_parent1, …]\n",
    "    parents = cpd.evidence\n",
    "    for p, beta in zip(parents, β[1:]):   # skip intercept β0\n",
    "        B[idx[child], idx[p]] = beta\n",
    "\n",
    "# ------------------------------------------------------------------\n",
    "# C.  total-effect matrix  T  (one shot, cheap)\n",
    "T = np.linalg.inv(np.eye(n) - B) - np.eye(n)\n",
    "\n",
    "# ------------------------------------------------------------------\n",
    "# D.  pull the DV row  →  causal lift table\n",
    "dv_row = T[idx[DV], :]\n",
    "ace    = (pd.Series(dv_row, index=vars_, name=\"Δ\" + DV + \"  per +1 in X\")\n",
    "            .drop(DV)                     # exclude self-effect\n",
    "            .sort_values(ascending=False))\n",
    "\n",
    "print(\"\\n=== Average causal contribution (one-unit do()) ===\\n\")\n",
    "print(ace)\n",
    "\n",
    "# ------------------------------------------------------------------\n",
    "# E.  visualise\n",
    "plt.figure(figsize=(10, 6))\n",
    "ace.plot(kind=\"barh\")\n",
    "plt.axvline(0, color=\"k\", linewidth=0.8)\n",
    "plt.xlabel(\"Δ  expected  \" + DV)\n",
    "plt.title(\"Total causal contribution of each variable\")\n",
    "plt.tight_layout()\n",
    "plt.savefig(\"dv_total_effects.png\", dpi=160)\n",
    "plt.show()\n",
    "print(\"\uD83D\uDCCA  saved → dv_total_effects.png\")\n"
   ]
  },
  {
   "cell_type": "code",
   "execution_count": 0,
   "metadata": {
    "application/vnd.databricks.v1+cell": {
     "cellMetadata": {
      "byteLimit": 2048000,
      "rowLimit": 10000
     },
     "inputWidgets": {},
     "nuid": "c9fd0bf9-d146-4967-97e7-6c091929ed92",
     "showTitle": false,
     "tableResultSettingsMap": {},
     "title": ""
    }
   },
   "outputs": [],
   "source": [
    "delta = scaled['bii_score'].quantile(0.75) - scaled['bii_score'].quantile(0.25)\n",
    "lift  = T[idx[DV], idx['bii_score']] * delta"
   ]
  },
  {
   "cell_type": "code",
   "execution_count": 0,
   "metadata": {
    "application/vnd.databricks.v1+cell": {
     "cellMetadata": {
      "byteLimit": 2048000,
      "rowLimit": 10000
     },
     "inputWidgets": {},
     "nuid": "91909359-ed72-47db-a61d-b0ae94a0ab8a",
     "showTitle": false,
     "tableResultSettingsMap": {},
     "title": ""
    }
   },
   "outputs": [
    {
     "output_type": "execute_result",
     "data": {
      "text/plain": [
       "0.0005905766800842851"
      ]
     },
     "execution_count": 118,
     "metadata": {},
     "output_type": "execute_result"
    }
   ],
   "source": [
    "lift"
   ]
  },
  {
   "cell_type": "code",
   "execution_count": 0,
   "metadata": {
    "application/vnd.databricks.v1+cell": {
     "cellMetadata": {
      "byteLimit": 2048000,
      "rowLimit": 10000
     },
     "inputWidgets": {},
     "nuid": "4763375a-639b-4420-92d7-d8418aa9e19d",
     "showTitle": false,
     "tableResultSettingsMap": {},
     "title": ""
    }
   },
   "outputs": [
    {
     "output_type": "stream",
     "name": "stdout",
     "output_type": "stream",
     "text": [
      "\n=== Average causal contribution (ΔDV per +1 in X) ===\n\nseasonal                                1.877264\nimpressions_OwnedSocial_None            0.435491\nimpressions_OnlineVideo_None            0.192005\nimpressions_PaidSocial_None             0.148841\nimpressions_Push_null                   0.128685\nimpressions_Email_None                  0.063749\nimpressions_SEM_None                    0.050365\nbii_score                               0.040567\nimpressions_TV_None                     0.015153\nimpressions_Display_None                0.006185\nimpressions_MediaSolutions_None         0.000631\nimpressions_App_None                    0.000089\nimpressions_OperationalEmails_None      0.000000\nimpressions_Audio_None                  0.000000\nimpressions_MediaTransformation_None    0.000000\nimpressions_Native_None                 0.000000\nvalue_leads_fs_submits                  0.000000\ndtype: float64\n"
     ]
    },
    {
     "output_type": "display_data",
     "data": {
      "image/png": "[encoded data removed]",
      "text/plain": [
       "<Figure size 1000x600 with 1 Axes>"
      ]
     },
     "metadata": {},
     "output_type": "display_data"
    }
   ],
   "source": [
    "DV = \"value_visits_visits\"          # your dependent variable\n",
    "\n",
    "# total causal effects, all paths included\n",
    "T = np.linalg.inv(np.eye(len(B)) - B) - np.eye(len(B))\n",
    "\n",
    "ace = (pd.Series(T[idx[DV], :], index=vars_)\n",
    "         .drop(DV)                       # remove self-effect\n",
    "         .sort_values(ascending=False))\n",
    "\n",
    "print(\"\\n=== Average causal contribution (ΔDV per +1 in X) ===\\n\")\n",
    "print(ace)\n",
    "\n",
    "# visualise\n",
    "ace.plot(kind=\"barh\", figsize=(10,6))\n",
    "plt.axvline(0, color=\"k\"); plt.xlabel(\"Δ expected \" + DV)\n",
    "plt.title(\"Total causal contribution of each variable\")\n",
    "plt.tight_layout(); plt.savefig(\"dv_total_effects.png\", dpi=160); plt.show()\n"
   ]
  },
  {
   "cell_type": "code",
   "execution_count": 0,
   "metadata": {
    "application/vnd.databricks.v1+cell": {
     "cellMetadata": {
      "byteLimit": 2048000,
      "rowLimit": 10000
     },
     "inputWidgets": {},
     "nuid": "3ef14ab7-c101-4c57-8559-e5db3fb33f9b",
     "showTitle": false,
     "tableResultSettingsMap": {},
     "title": ""
    }
   },
   "outputs": [],
   "source": [
    "# -----------------------------------------------\n",
    "# vars_  : list of node names in a fixed order\n",
    "# idx    : dict {node → row/column index}\n",
    "# lgbn   : your fitted LinearGaussianBayesianNetwork\n",
    "# -----------------------------------------------\n",
    "\n",
    "# 1️⃣  allocate the vector\n",
    "c = np.zeros(len(vars_))\n",
    "\n",
    "# 2️⃣  loop over every CPD and drop β₀ into the right slot\n",
    "for cpd in lgbn.get_cpds():             # each is LinearGaussianCPD\n",
    "    child = cpd.variable\n",
    "    beta0 = cpd.beta[0]                 # first entry is the intercept\n",
    "    c[idx[child]] = beta0               # place it into the vector\n",
    "\n",
    "# now  c  ==  [β0_node1, β0_node2, …]  consistent with B and T\n"
   ]
  },
  {
   "cell_type": "code",
   "execution_count": 0,
   "metadata": {
    "application/vnd.databricks.v1+cell": {
     "cellMetadata": {
      "byteLimit": 2048000,
      "rowLimit": 10000
     },
     "inputWidgets": {},
     "nuid": "21882299-a4f5-41cf-acd8-b98bff67bec5",
     "showTitle": false,
     "tableResultSettingsMap": {},
     "title": ""
    }
   },
   "outputs": [
    {
     "output_type": "stream",
     "name": "stdout",
     "output_type": "stream",
     "text": [
      "T-matrix lift : 0.040566705031822275\nDirect-μ lift : 0.0004056670503183035\n"
     ]
    }
   ],
   "source": [
    "# ------------------------------------------------------------------\n",
    "# helper: steady-state mean implied by the LG-BN\n",
    "inv_I_minus_B = np.linalg.inv(np.eye(len(B)) - B)\n",
    "mu_model      = inv_I_minus_B @ c             # vector of means\n",
    "\n",
    "# ------------------------------------------------------------------\n",
    "# pick the driver we’re testing\n",
    "X = \"bii_score\"\n",
    "DV = \"value_visits_visits\"\n",
    "\n",
    "# 1.  T-matrix causal lift  (already correct)\n",
    "lift_T = T[idx[DV], idx[X]]                   # one-unit do()\n",
    "\n",
    "# 2.  Direct recomputation using the structural equations\n",
    "delta  = 0.01                                  # +1 unit intervention\n",
    "mu_plus = inv_I_minus_B @ (c + B[:, idx[X]] * delta)\n",
    "lift_direct = mu_plus[idx[DV]] - mu_model[idx[DV]]\n",
    "\n",
    "print(\"T-matrix lift :\", lift_T)\n",
    "print(\"Direct-μ lift :\", lift_direct)\n"
   ]
  },
  {
   "cell_type": "code",
   "execution_count": 0,
   "metadata": {
    "application/vnd.databricks.v1+cell": {
     "cellMetadata": {
      "byteLimit": 2048000,
      "rowLimit": 10000
     },
     "inputWidgets": {},
     "nuid": "4d496543-ab10-4f95-9b05-f90c3740a32e",
     "showTitle": false,
     "tableResultSettingsMap": {},
     "title": ""
    }
   },
   "outputs": [
    {
     "output_type": "execute_result",
     "data": {
      "text/plain": [
       "290319.38311324065"
      ]
     },
     "execution_count": 126,
     "metadata": {},
     "output_type": "execute_result"
    }
   ],
   "source": [
    "0.0004056670503183035*np.mean(aggregated['value_visits_visits'])"
   ]
  },
  {
   "cell_type": "code",
   "execution_count": 0,
   "metadata": {
    "application/vnd.databricks.v1+cell": {
     "cellMetadata": {
      "byteLimit": 2048000,
      "rowLimit": 10000
     },
     "inputWidgets": {},
     "nuid": "95f09b7e-d0f0-49b7-8f46-aea4f7ef70dc",
     "showTitle": false,
     "tableResultSettingsMap": {},
     "title": ""
    }
   },
   "outputs": [
    {
     "output_type": "execute_result",
     "data": {
      "text/plain": [
       "0.041413076706495494"
      ]
     },
     "execution_count": 128,
     "metadata": {},
     "output_type": "execute_result"
    }
   ],
   "source": [
    "290319.38311324065*100/701033118.5263158"
   ]
  },
  {
   "cell_type": "markdown",
   "metadata": {
    "application/vnd.databricks.v1+cell": {
     "cellMetadata": {},
     "inputWidgets": {},
     "nuid": "eb5ca584-9645-454d-ad55-3446208aae81",
     "showTitle": false,
     "tableResultSettingsMap": {},
     "title": ""
    }
   },
   "source": [
    "A 0.01 increase in bii_score can move the visits by 290k which is approximately 0.04% of total visits we get in a month"
   ]
  },
  {
   "cell_type": "code",
   "execution_count": 0,
   "metadata": {
    "application/vnd.databricks.v1+cell": {
     "cellMetadata": {
      "byteLimit": 2048000,
      "rowLimit": 10000
     },
     "inputWidgets": {},
     "nuid": "c8268e29-ddcf-407f-9d73-474cc8723fe8",
     "showTitle": false,
     "tableResultSettingsMap": {},
     "title": ""
    }
   },
   "outputs": [
    {
     "output_type": "stream",
     "name": "stdout",
     "output_type": "stream",
     "text": [
      "T-matrix lift : 0.03158050271407169\nDirect-μ lift : 0.00031580502714079195\n"
     ]
    }
   ],
   "source": [
    "# ------------------------------------------------------------------\n",
    "# helper: steady-state mean implied by the LG-BN\n",
    "inv_I_minus_B = np.linalg.inv(np.eye(len(B)) - B)\n",
    "mu_model      = inv_I_minus_B @ c             # vector of means\n",
    "\n",
    "# ------------------------------------------------------------------\n",
    "# pick the driver we’re testing\n",
    "X = \"bii_score\"\n",
    "DV = \"value_leads_fs_submits\"\n",
    "\n",
    "# 1.  T-matrix causal lift  (already correct)\n",
    "lift_T = T[idx[DV], idx[X]]                   # one-unit do()\n",
    "\n",
    "# 2.  Direct recomputation using the structural equations\n",
    "delta  = 0.01                                  # +1 unit intervention\n",
    "mu_plus = inv_I_minus_B @ (c + B[:, idx[X]] * delta)\n",
    "lift_direct = mu_plus[idx[DV]] - mu_model[idx[DV]]\n",
    "\n",
    "print(\"T-matrix lift :\", lift_T)\n",
    "print(\"Direct-μ lift :\", lift_direct)"
   ]
  },
  {
   "cell_type": "code",
   "execution_count": 0,
   "metadata": {
    "application/vnd.databricks.v1+cell": {
     "cellMetadata": {
      "byteLimit": 2048000,
      "rowLimit": 10000
     },
     "inputWidgets": {},
     "nuid": "1c437a69-974a-4c90-90af-4436266fb11b",
     "showTitle": false,
     "tableResultSettingsMap": {},
     "title": ""
    }
   },
   "outputs": [
    {
     "output_type": "execute_result",
     "data": {
      "text/plain": [
       "348.93091246680143"
      ]
     },
     "execution_count": 122,
     "metadata": {},
     "output_type": "execute_result"
    }
   ],
   "source": [
    "0.00031580502714079195*np.mean(aggregated['value_leads_fs_submits'])"
   ]
  },
  {
   "cell_type": "markdown",
   "metadata": {
    "application/vnd.databricks.v1+cell": {
     "cellMetadata": {},
     "inputWidgets": {},
     "nuid": "3501ad4d-d48c-448e-b0aa-05bddaa99d6c",
     "showTitle": false,
     "tableResultSettingsMap": {},
     "title": ""
    }
   },
   "source": [
    "A 0.01 increase in bii_score can move the FS Submits by 350 which is approximately 0.025% of total FS Submits we get in a month"
   ]
  },
  {
   "cell_type": "code",
   "execution_count": 0,
   "metadata": {
    "application/vnd.databricks.v1+cell": {
     "cellMetadata": {
      "byteLimit": 2048000,
      "rowLimit": 10000
     },
     "inputWidgets": {},
     "nuid": "0d37e2cd-5e61-4dc7-a904-9e950ada1054",
     "showTitle": false,
     "tableResultSettingsMap": {},
     "title": ""
    }
   },
   "outputs": [
    {
     "output_type": "stream",
     "name": "stderr",
     "output_type": "stream",
     "text": [
      "INFO:root:Exception while sending command.\nTraceback (most recent call last):\n  File \"/databricks/spark/python/lib/py4j-0.10.9.9-src.zip/py4j/clientserver.py\", line 527, in send_command\n    self.socket.sendall(command.encode(\"utf-8\"))\nConnectionResetError: [Errno 104] Connection reset by peer\n\nDuring handling of the above exception, another exception occurred:\n\nTraceback (most recent call last):\n  File \"/databricks/spark/python/lib/py4j-0.10.9.9-src.zip/py4j/java_gateway.py\", line 1038, in send_command\n    response = connection.send_command(command)\n               ^^^^^^^^^^^^^^^^^^^^^^^^^^^^^^^^\n  File \"/databricks/spark/python/lib/py4j-0.10.9.9-src.zip/py4j/clientserver.py\", line 530, in send_command\n    raise Py4JNetworkError(\npy4j.protocol.Py4JNetworkError: Error while sending\n"
     ]
    },
    {
     "output_type": "display_data",
     "data": {
      "text/plain": [
       "com.databricks.backend.common.rpc.CommandCancelledException\n",
       "\tat com.databricks.spark.chauffeur.SequenceExecutionState.$anonfun$cancel$5(SequenceExecutionState.scala:132)\n",
       "\tat scala.Option.getOrElse(Option.scala:189)\n",
       "\tat com.databricks.spark.chauffeur.SequenceExecutionState.$anonfun$cancel$3(SequenceExecutionState.scala:132)\n",
       "\tat com.databricks.spark.chauffeur.SequenceExecutionState.$anonfun$cancel$3$adapted(SequenceExecutionState.scala:129)\n",
       "\tat scala.collection.immutable.Range.foreach(Range.scala:158)\n",
       "\tat com.databricks.spark.chauffeur.SequenceExecutionState.cancel(SequenceExecutionState.scala:129)\n",
       "\tat com.databricks.spark.chauffeur.ExecContextState.cancelRunningSequence(ExecContextState.scala:715)\n",
       "\tat com.databricks.spark.chauffeur.ExecContextState.$anonfun$cancel$1(ExecContextState.scala:435)\n",
       "\tat scala.Option.getOrElse(Option.scala:189)\n",
       "\tat com.databricks.spark.chauffeur.ExecContextState.cancel(ExecContextState.scala:435)\n",
       "\tat com.databricks.spark.chauffeur.ExecutionContextManagerV1.cancelExecution(ExecutionContextManagerV1.scala:473)\n",
       "\tat com.databricks.spark.chauffeur.ChauffeurState.$anonfun$process$1(ChauffeurState.scala:750)\n",
       "\tat com.databricks.logging.UsageLogging.$anonfun$recordOperation$1(UsageLogging.scala:510)\n",
       "\tat com.databricks.logging.UsageLogging.executeThunkAndCaptureResultTags$1(UsageLogging.scala:616)\n",
       "\tat com.databricks.logging.UsageLogging.$anonfun$recordOperationWithResultTags$4(UsageLogging.scala:643)\n",
       "\tat com.databricks.logging.AttributionContextTracing.$anonfun$withAttributionContext$1(AttributionContextTracing.scala:49)\n",
       "\tat com.databricks.logging.AttributionContext$.$anonfun$withValue$1(AttributionContext.scala:293)\n",
       "\tat scala.util.DynamicVariable.withValue(DynamicVariable.scala:62)\n",
       "\tat com.databricks.logging.AttributionContext$.withValue(AttributionContext.scala:289)\n",
       "\tat com.databricks.logging.AttributionContextTracing.withAttributionContext(AttributionContextTracing.scala:47)\n",
       "\tat com.databricks.logging.AttributionContextTracing.withAttributionContext$(AttributionContextTracing.scala:44)\n",
       "\tat com.databricks.spark.chauffeur.ChauffeurState.withAttributionContext(ChauffeurState.scala:84)\n",
       "\tat com.databricks.logging.AttributionContextTracing.withAttributionTags(AttributionContextTracing.scala:96)\n",
       "\tat com.databricks.logging.AttributionContextTracing.withAttributionTags$(AttributionContextTracing.scala:77)\n",
       "\tat com.databricks.spark.chauffeur.ChauffeurState.withAttributionTags(ChauffeurState.scala:84)\n",
       "\tat com.databricks.logging.UsageLogging.recordOperationWithResultTags(UsageLogging.scala:611)\n",
       "\tat com.databricks.logging.UsageLogging.recordOperationWithResultTags$(UsageLogging.scala:519)\n",
       "\tat com.databricks.spark.chauffeur.ChauffeurState.recordOperationWithResultTags(ChauffeurState.scala:84)\n",
       "\tat com.databricks.logging.UsageLogging.recordOperation(UsageLogging.scala:511)\n",
       "\tat com.databricks.logging.UsageLogging.recordOperation$(UsageLogging.scala:475)\n",
       "\tat com.databricks.spark.chauffeur.ChauffeurState.recordOperation(ChauffeurState.scala:84)\n",
       "\tat com.databricks.spark.chauffeur.ChauffeurState.process(ChauffeurState.scala:728)\n",
       "\tat com.databricks.spark.chauffeur.Chauffeur$$anon$1$$anonfun$receive$1.handleDriverRequest$1(Chauffeur.scala:911)\n",
       "\tat com.databricks.spark.chauffeur.Chauffeur$$anon$1$$anonfun$receive$1.$anonfun$applyOrElse$4(Chauffeur.scala:937)\n",
       "\tat com.databricks.logging.UsageLogging.executeThunkAndCaptureResultTags$1(UsageLogging.scala:616)\n",
       "\tat com.databricks.logging.UsageLogging.$anonfun$recordOperationWithResultTags$4(UsageLogging.scala:643)\n",
       "\tat com.databricks.logging.AttributionContextTracing.$anonfun$withAttributionContext$1(AttributionContextTracing.scala:49)\n",
       "\tat com.databricks.logging.AttributionContext$.$anonfun$withValue$1(AttributionContext.scala:293)\n",
       "\tat scala.util.DynamicVariable.withValue(DynamicVariable.scala:62)\n",
       "\tat com.databricks.logging.AttributionContext$.withValue(AttributionContext.scala:289)\n",
       "\tat com.databricks.logging.AttributionContextTracing.withAttributionContext(AttributionContextTracing.scala:47)\n",
       "\tat com.databricks.logging.AttributionContextTracing.withAttributionContext$(AttributionContextTracing.scala:44)\n",
       "\tat com.databricks.rpc.ServerBackend.withAttributionContext(ServerBackend.scala:22)\n",
       "\tat com.databricks.logging.AttributionContextTracing.withAttributionTags(AttributionContextTracing.scala:96)\n",
       "\tat com.databricks.logging.AttributionContextTracing.withAttributionTags$(AttributionContextTracing.scala:77)\n",
       "\tat com.databricks.rpc.ServerBackend.withAttributionTags(ServerBackend.scala:22)\n",
       "\tat com.databricks.logging.UsageLogging.recordOperationWithResultTags(UsageLogging.scala:611)\n",
       "\tat com.databricks.logging.UsageLogging.recordOperationWithResultTags$(UsageLogging.scala:519)\n",
       "\tat com.databricks.rpc.ServerBackend.recordOperationWithResultTags(ServerBackend.scala:22)\n",
       "\tat com.databricks.spark.chauffeur.Chauffeur$$anon$1$$anonfun$receive$1.handleDriverRequestWithUsageLogging$1(Chauffeur.scala:936)\n",
       "\tat com.databricks.spark.chauffeur.Chauffeur$$anon$1$$anonfun$receive$1.applyOrElse(Chauffeur.scala:991)\n",
       "\tat com.databricks.spark.chauffeur.Chauffeur$$anon$1$$anonfun$receive$1.applyOrElse(Chauffeur.scala:776)\n",
       "\tat com.databricks.rpc.ServerBackend.$anonfun$internalReceive0$2(ServerBackend.scala:174)\n",
       "\tat com.databricks.rpc.ServerBackend$$anonfun$commonReceive$1.applyOrElse(ServerBackend.scala:200)\n",
       "\tat com.databricks.rpc.ServerBackend$$anonfun$commonReceive$1.applyOrElse(ServerBackend.scala:200)\n",
       "\tat com.databricks.rpc.ServerBackend.internalReceive0(ServerBackend.scala:171)\n",
       "\tat com.databricks.rpc.ServerBackend.$anonfun$internalReceive$1(ServerBackend.scala:147)\n",
       "\tat com.databricks.logging.UsageLogging.$anonfun$recordOperation$1(UsageLogging.scala:510)\n",
       "\tat com.databricks.logging.UsageLogging.executeThunkAndCaptureResultTags$1(UsageLogging.scala:616)\n",
       "\tat com.databricks.logging.UsageLogging.$anonfun$recordOperationWithResultTags$4(UsageLogging.scala:643)\n",
       "\tat com.databricks.logging.AttributionContextTracing.$anonfun$withAttributionContext$1(AttributionContextTracing.scala:49)\n",
       "\tat com.databricks.logging.AttributionContext$.$anonfun$withValue$1(AttributionContext.scala:293)\n",
       "\tat scala.util.DynamicVariable.withValue(DynamicVariable.scala:62)\n",
       "\tat com.databricks.logging.AttributionContext$.withValue(AttributionContext.scala:289)\n",
       "\tat com.databricks.logging.AttributionContextTracing.withAttributionContext(AttributionContextTracing.scala:47)\n",
       "\tat com.databricks.logging.AttributionContextTracing.withAttributionContext$(AttributionContextTracing.scala:44)\n",
       "\tat com.databricks.rpc.ServerBackend.withAttributionContext(ServerBackend.scala:22)\n",
       "\tat com.databricks.logging.AttributionContextTracing.withAttributionTags(AttributionContextTracing.scala:96)\n",
       "\tat com.databricks.logging.AttributionContextTracing.withAttributionTags$(AttributionContextTracing.scala:77)\n",
       "\tat com.databricks.rpc.ServerBackend.withAttributionTags(ServerBackend.scala:22)\n",
       "\tat com.databricks.logging.UsageLogging.recordOperationWithResultTags(UsageLogging.scala:611)\n",
       "\tat com.databricks.logging.UsageLogging.recordOperationWithResultTags$(UsageLogging.scala:519)\n",
       "\tat com.databricks.rpc.ServerBackend.recordOperationWithResultTags(ServerBackend.scala:22)\n",
       "\tat com.databricks.logging.UsageLogging.recordOperation(UsageLogging.scala:511)\n",
       "\tat com.databricks.logging.UsageLogging.recordOperation$(UsageLogging.scala:475)\n",
       "\tat com.databricks.rpc.ServerBackend.recordOperation(ServerBackend.scala:22)\n",
       "\tat com.databricks.rpc.ServerBackend.internalReceive(ServerBackend.scala:146)\n",
       "\tat com.databricks.rpc.JettyServer$RequestManager.handleRPC(JettyServer.scala:1033)\n",
       "\tat com.databricks.rpc.JettyServer$RequestManager.handleRequestAndRespond(JettyServer.scala:953)\n",
       "\tat com.databricks.rpc.JettyServer$RequestManager.$anonfun$handleHttp$5(JettyServer.scala:548)\n",
       "\tat com.databricks.rpc.JettyServer$RequestManager.$anonfun$handleHttp$5$adapted(JettyServer.scala:513)\n",
       "\tat com.databricks.logging.activity.ActivityContextFactory$.$anonfun$withActivityInternal$13(ActivityContextFactory.scala:831)\n",
       "\tat com.databricks.logging.AttributionContextTracing.$anonfun$withAttributionContext$1(AttributionContextTracing.scala:49)\n",
       "\tat com.databricks.logging.AttributionContext$.$anonfun$withValue$1(AttributionContext.scala:293)\n",
       "\tat scala.util.DynamicVariable.withValue(DynamicVariable.scala:62)\n",
       "\tat com.databricks.logging.AttributionContext$.withValue(AttributionContext.scala:289)\n",
       "\tat com.databricks.logging.AttributionContextTracing.withAttributionContext(AttributionContextTracing.scala:47)\n",
       "\tat com.databricks.logging.AttributionContextTracing.withAttributionContext$(AttributionContextTracing.scala:44)\n",
       "\tat com.databricks.logging.activity.ActivityContextFactory$.withAttributionContext(ActivityContextFactory.scala:53)\n",
       "\tat com.databricks.logging.activity.ActivityContextFactory$.$anonfun$withActivityInternal$3(ActivityContextFactory.scala:831)\n",
       "\tat com.databricks.context.integrity.IntegrityCheckContext$ThreadLocalStorage$.withValue(IntegrityCheckContext.scala:73)\n",
       "\tat com.databricks.logging.activity.ActivityContextFactory$.withActivityInternal(ActivityContextFactory.scala:794)\n",
       "\tat com.databricks.logging.activity.ActivityContextFactory$.withActivityInternal(ActivityContextFactory.scala:776)\n",
       "\tat com.databricks.logging.activity.ActivityContextFactory$.$anonfun$withServiceRequestActivity$15(ActivityContextFactory.scala:285)\n",
       "\tat com.databricks.logging.AttributionContextTracing.$anonfun$withAttributionContext$1(AttributionContextTracing.scala:49)\n",
       "\tat com.databricks.logging.AttributionContext$.$anonfun$withValue$1(AttributionContext.scala:293)\n",
       "\tat scala.util.DynamicVariable.withValue(DynamicVariable.scala:62)\n",
       "\tat com.databricks.logging.AttributionContext$.withValue(AttributionContext.scala:289)\n",
       "\tat com.databricks.logging.AttributionContextTracing.withAttributionContext(AttributionContextTracing.scala:47)\n",
       "\tat com.databricks.logging.AttributionContextTracing.withAttributionContext$(AttributionContextTracing.scala:44)\n",
       "\tat com.databricks.logging.activity.ActivityContextFactory$.withAttributionContext(ActivityContextFactory.scala:53)\n",
       "\tat com.databricks.logging.activity.ActivityContextFactory$.withServiceRequestActivity(ActivityContextFactory.scala:285)\n",
       "\tat com.databricks.rpc.JettyServer$RequestManager.handleHttp(JettyServer.scala:513)\n",
       "\tat com.databricks.rpc.JettyServer$RequestManager.doPost(JettyServer.scala:408)\n",
       "\tat javax.servlet.http.HttpServlet.service(HttpServlet.java:665)\n",
       "\tat com.databricks.rpc.HttpServletWithPatch.service(HttpServletWithPatch.scala:33)\n",
       "\tat javax.servlet.http.HttpServlet.service(HttpServlet.java:750)\n",
       "\tat org.eclipse.jetty.servlet.ServletHolder.handle(ServletHolder.java:799)\n",
       "\tat org.eclipse.jetty.servlet.ServletHandler.doHandle(ServletHandler.java:554)\n",
       "\tat org.eclipse.jetty.server.handler.ScopedHandler.nextScope(ScopedHandler.java:190)\n",
       "\tat org.eclipse.jetty.servlet.ServletHandler.doScope(ServletHandler.java:505)\n",
       "\tat org.eclipse.jetty.server.handler.ScopedHandler.handle(ScopedHandler.java:141)\n",
       "\tat org.eclipse.jetty.server.handler.HandlerWrapper.handle(HandlerWrapper.java:127)\n",
       "\tat org.eclipse.jetty.server.Server.handle(Server.java:516)\n",
       "\tat org.eclipse.jetty.server.HttpChannel.lambda$handle$1(HttpChannel.java:487)\n",
       "\tat org.eclipse.jetty.server.HttpChannel.dispatch(HttpChannel.java:732)\n",
       "\tat org.eclipse.jetty.server.HttpChannel.handle(HttpChannel.java:479)\n",
       "\tat org.eclipse.jetty.server.HttpConnection.onFillable(HttpConnection.java:277)\n",
       "\tat org.eclipse.jetty.io.AbstractConnection$ReadCallback.succeeded(AbstractConnection.java:311)\n",
       "\tat org.eclipse.jetty.io.FillInterest.fillable(FillInterest.java:105)\n",
       "\tat org.eclipse.jetty.io.ssl.SslConnection$DecryptedEndPoint.onFillable(SslConnection.java:555)\n",
       "\tat org.eclipse.jetty.io.ssl.SslConnection.onFillable(SslConnection.java:410)\n",
       "\tat org.eclipse.jetty.io.ssl.SslConnection$2.succeeded(SslConnection.java:164)\n",
       "\tat org.eclipse.jetty.io.FillInterest.fillable(FillInterest.java:105)\n",
       "\tat org.eclipse.jetty.io.ChannelEndPoint$1.run(ChannelEndPoint.java:104)\n",
       "\tat org.eclipse.jetty.util.thread.strategy.EatWhatYouKill.runTask(EatWhatYouKill.java:338)\n",
       "\tat org.eclipse.jetty.util.thread.strategy.EatWhatYouKill.doProduce(EatWhatYouKill.java:315)\n",
       "\tat org.eclipse.jetty.util.thread.strategy.EatWhatYouKill.tryProduce(EatWhatYouKill.java:173)\n",
       "\tat org.eclipse.jetty.util.thread.strategy.EatWhatYouKill.run(EatWhatYouKill.java:131)\n",
       "\tat org.eclipse.jetty.util.thread.ReservedThreadExecutor$ReservedThread.run(ReservedThreadExecutor.java:409)\n",
       "\tat com.databricks.rpc.InstrumentedQueuedThreadPool$$anon$1.$anonfun$run$2(InstrumentedQueuedThreadPool.scala:110)\n",
       "\tat scala.runtime.java8.JFunction0$mcV$sp.apply(JFunction0$mcV$sp.java:23)\n",
       "\tat com.databricks.logging.AttributionContextTracing.$anonfun$withAttributionContext$1(AttributionContextTracing.scala:49)\n",
       "\tat com.databricks.logging.AttributionContext$.$anonfun$withValue$1(AttributionContext.scala:293)\n",
       "\tat scala.util.DynamicVariable.withValue(DynamicVariable.scala:62)\n",
       "\tat com.databricks.logging.AttributionContext$.withValue(AttributionContext.scala:289)\n",
       "\tat com.databricks.logging.AttributionContextTracing.withAttributionContext(AttributionContextTracing.scala:47)\n",
       "\tat com.databricks.logging.AttributionContextTracing.withAttributionContext$(AttributionContextTracing.scala:44)\n",
       "\tat com.databricks.rpc.InstrumentedQueuedThreadPool.withAttributionContext(InstrumentedQueuedThreadPool.scala:45)\n",
       "\tat com.databricks.rpc.InstrumentedQueuedThreadPool$$anon$1.$anonfun$run$1(InstrumentedQueuedThreadPool.scala:110)\n",
       "\tat scala.runtime.java8.JFunction0$mcV$sp.apply(JFunction0$mcV$sp.java:23)\n",
       "\tat com.databricks.instrumentation.QueuedThreadPoolInstrumenter.trackActiveThreads(QueuedThreadPoolInstrumenter.scala:132)\n",
       "\tat com.databricks.instrumentation.QueuedThreadPoolInstrumenter.trackActiveThreads$(QueuedThreadPoolInstrumenter.scala:129)\n",
       "\tat com.databricks.rpc.InstrumentedQueuedThreadPool.trackActiveThreads(InstrumentedQueuedThreadPool.scala:45)\n",
       "\tat com.databricks.rpc.InstrumentedQueuedThreadPool$$anon$1.run(InstrumentedQueuedThreadPool.scala:92)\n",
       "\tat org.eclipse.jetty.util.thread.QueuedThreadPool.runJob(QueuedThreadPool.java:883)\n",
       "\tat org.eclipse.jetty.util.thread.QueuedThreadPool$Runner.run(QueuedThreadPool.java:1034)\n",
       "\tat java.base/java.lang.Thread.run(Thread.java:840)"
      ]
     },
     "metadata": {
      "application/vnd.databricks.v1+output": {
       "addedWidgets": {},
       "arguments": {},
       "datasetInfos": [],
       "jupyterProps": null,
       "metadata": {
        "errorSummary": "Cancelled"
       },
       "removedWidgets": [],
       "sqlProps": null,
       "stackFrames": [
        "com.databricks.backend.common.rpc.CommandCancelledException",
        "\tat com.databricks.spark.chauffeur.SequenceExecutionState.$anonfun$cancel$5(SequenceExecutionState.scala:132)",
        "\tat scala.Option.getOrElse(Option.scala:189)",
        "\tat com.databricks.spark.chauffeur.SequenceExecutionState.$anonfun$cancel$3(SequenceExecutionState.scala:132)",
        "\tat com.databricks.spark.chauffeur.SequenceExecutionState.$anonfun$cancel$3$adapted(SequenceExecutionState.scala:129)",
        "\tat scala.collection.immutable.Range.foreach(Range.scala:158)",
        "\tat com.databricks.spark.chauffeur.SequenceExecutionState.cancel(SequenceExecutionState.scala:129)",
        "\tat com.databricks.spark.chauffeur.ExecContextState.cancelRunningSequence(ExecContextState.scala:715)",
        "\tat com.databricks.spark.chauffeur.ExecContextState.$anonfun$cancel$1(ExecContextState.scala:435)",
        "\tat scala.Option.getOrElse(Option.scala:189)",
        "\tat com.databricks.spark.chauffeur.ExecContextState.cancel(ExecContextState.scala:435)",
        "\tat com.databricks.spark.chauffeur.ExecutionContextManagerV1.cancelExecution(ExecutionContextManagerV1.scala:473)",
        "\tat com.databricks.spark.chauffeur.ChauffeurState.$anonfun$process$1(ChauffeurState.scala:750)",
        "\tat com.databricks.logging.UsageLogging.$anonfun$recordOperation$1(UsageLogging.scala:510)",
        "\tat com.databricks.logging.UsageLogging.executeThunkAndCaptureResultTags$1(UsageLogging.scala:616)",
        "\tat com.databricks.logging.UsageLogging.$anonfun$recordOperationWithResultTags$4(UsageLogging.scala:643)",
        "\tat com.databricks.logging.AttributionContextTracing.$anonfun$withAttributionContext$1(AttributionContextTracing.scala:49)",
        "\tat com.databricks.logging.AttributionContext$.$anonfun$withValue$1(AttributionContext.scala:293)",
        "\tat scala.util.DynamicVariable.withValue(DynamicVariable.scala:62)",
        "\tat com.databricks.logging.AttributionContext$.withValue(AttributionContext.scala:289)",
        "\tat com.databricks.logging.AttributionContextTracing.withAttributionContext(AttributionContextTracing.scala:47)",
        "\tat com.databricks.logging.AttributionContextTracing.withAttributionContext$(AttributionContextTracing.scala:44)",
        "\tat com.databricks.spark.chauffeur.ChauffeurState.withAttributionContext(ChauffeurState.scala:84)",
        "\tat com.databricks.logging.AttributionContextTracing.withAttributionTags(AttributionContextTracing.scala:96)",
        "\tat com.databricks.logging.AttributionContextTracing.withAttributionTags$(AttributionContextTracing.scala:77)",
        "\tat com.databricks.spark.chauffeur.ChauffeurState.withAttributionTags(ChauffeurState.scala:84)",
        "\tat com.databricks.logging.UsageLogging.recordOperationWithResultTags(UsageLogging.scala:611)",
        "\tat com.databricks.logging.UsageLogging.recordOperationWithResultTags$(UsageLogging.scala:519)",
        "\tat com.databricks.spark.chauffeur.ChauffeurState.recordOperationWithResultTags(ChauffeurState.scala:84)",
        "\tat com.databricks.logging.UsageLogging.recordOperation(UsageLogging.scala:511)",
        "\tat com.databricks.logging.UsageLogging.recordOperation$(UsageLogging.scala:475)",
        "\tat com.databricks.spark.chauffeur.ChauffeurState.recordOperation(ChauffeurState.scala:84)",
        "\tat com.databricks.spark.chauffeur.ChauffeurState.process(ChauffeurState.scala:728)",
        "\tat com.databricks.spark.chauffeur.Chauffeur$$anon$1$$anonfun$receive$1.handleDriverRequest$1(Chauffeur.scala:911)",
        "\tat com.databricks.spark.chauffeur.Chauffeur$$anon$1$$anonfun$receive$1.$anonfun$applyOrElse$4(Chauffeur.scala:937)",
        "\tat com.databricks.logging.UsageLogging.executeThunkAndCaptureResultTags$1(UsageLogging.scala:616)",
        "\tat com.databricks.logging.UsageLogging.$anonfun$recordOperationWithResultTags$4(UsageLogging.scala:643)",
        "\tat com.databricks.logging.AttributionContextTracing.$anonfun$withAttributionContext$1(AttributionContextTracing.scala:49)",
        "\tat com.databricks.logging.AttributionContext$.$anonfun$withValue$1(AttributionContext.scala:293)",
        "\tat scala.util.DynamicVariable.withValue(DynamicVariable.scala:62)",
        "\tat com.databricks.logging.AttributionContext$.withValue(AttributionContext.scala:289)",
        "\tat com.databricks.logging.AttributionContextTracing.withAttributionContext(AttributionContextTracing.scala:47)",
        "\tat com.databricks.logging.AttributionContextTracing.withAttributionContext$(AttributionContextTracing.scala:44)",
        "\tat com.databricks.rpc.ServerBackend.withAttributionContext(ServerBackend.scala:22)",
        "\tat com.databricks.logging.AttributionContextTracing.withAttributionTags(AttributionContextTracing.scala:96)",
        "\tat com.databricks.logging.AttributionContextTracing.withAttributionTags$(AttributionContextTracing.scala:77)",
        "\tat com.databricks.rpc.ServerBackend.withAttributionTags(ServerBackend.scala:22)",
        "\tat com.databricks.logging.UsageLogging.recordOperationWithResultTags(UsageLogging.scala:611)",
        "\tat com.databricks.logging.UsageLogging.recordOperationWithResultTags$(UsageLogging.scala:519)",
        "\tat com.databricks.rpc.ServerBackend.recordOperationWithResultTags(ServerBackend.scala:22)",
        "\tat com.databricks.spark.chauffeur.Chauffeur$$anon$1$$anonfun$receive$1.handleDriverRequestWithUsageLogging$1(Chauffeur.scala:936)",
        "\tat com.databricks.spark.chauffeur.Chauffeur$$anon$1$$anonfun$receive$1.applyOrElse(Chauffeur.scala:991)",
        "\tat com.databricks.spark.chauffeur.Chauffeur$$anon$1$$anonfun$receive$1.applyOrElse(Chauffeur.scala:776)",
        "\tat com.databricks.rpc.ServerBackend.$anonfun$internalReceive0$2(ServerBackend.scala:174)",
        "\tat com.databricks.rpc.ServerBackend$$anonfun$commonReceive$1.applyOrElse(ServerBackend.scala:200)",
        "\tat com.databricks.rpc.ServerBackend$$anonfun$commonReceive$1.applyOrElse(ServerBackend.scala:200)",
        "\tat com.databricks.rpc.ServerBackend.internalReceive0(ServerBackend.scala:171)",
        "\tat com.databricks.rpc.ServerBackend.$anonfun$internalReceive$1(ServerBackend.scala:147)",
        "\tat com.databricks.logging.UsageLogging.$anonfun$recordOperation$1(UsageLogging.scala:510)",
        "\tat com.databricks.logging.UsageLogging.executeThunkAndCaptureResultTags$1(UsageLogging.scala:616)",
        "\tat com.databricks.logging.UsageLogging.$anonfun$recordOperationWithResultTags$4(UsageLogging.scala:643)",
        "\tat com.databricks.logging.AttributionContextTracing.$anonfun$withAttributionContext$1(AttributionContextTracing.scala:49)",
        "\tat com.databricks.logging.AttributionContext$.$anonfun$withValue$1(AttributionContext.scala:293)",
        "\tat scala.util.DynamicVariable.withValue(DynamicVariable.scala:62)",
        "\tat com.databricks.logging.AttributionContext$.withValue(AttributionContext.scala:289)",
        "\tat com.databricks.logging.AttributionContextTracing.withAttributionContext(AttributionContextTracing.scala:47)",
        "\tat com.databricks.logging.AttributionContextTracing.withAttributionContext$(AttributionContextTracing.scala:44)",
        "\tat com.databricks.rpc.ServerBackend.withAttributionContext(ServerBackend.scala:22)",
        "\tat com.databricks.logging.AttributionContextTracing.withAttributionTags(AttributionContextTracing.scala:96)",
        "\tat com.databricks.logging.AttributionContextTracing.withAttributionTags$(AttributionContextTracing.scala:77)",
        "\tat com.databricks.rpc.ServerBackend.withAttributionTags(ServerBackend.scala:22)",
        "\tat com.databricks.logging.UsageLogging.recordOperationWithResultTags(UsageLogging.scala:611)",
        "\tat com.databricks.logging.UsageLogging.recordOperationWithResultTags$(UsageLogging.scala:519)",
        "\tat com.databricks.rpc.ServerBackend.recordOperationWithResultTags(ServerBackend.scala:22)",
        "\tat com.databricks.logging.UsageLogging.recordOperation(UsageLogging.scala:511)",
        "\tat com.databricks.logging.UsageLogging.recordOperation$(UsageLogging.scala:475)",
        "\tat com.databricks.rpc.ServerBackend.recordOperation(ServerBackend.scala:22)",
        "\tat com.databricks.rpc.ServerBackend.internalReceive(ServerBackend.scala:146)",
        "\tat com.databricks.rpc.JettyServer$RequestManager.handleRPC(JettyServer.scala:1033)",
        "\tat com.databricks.rpc.JettyServer$RequestManager.handleRequestAndRespond(JettyServer.scala:953)",
        "\tat com.databricks.rpc.JettyServer$RequestManager.$anonfun$handleHttp$5(JettyServer.scala:548)",
        "\tat com.databricks.rpc.JettyServer$RequestManager.$anonfun$handleHttp$5$adapted(JettyServer.scala:513)",
        "\tat com.databricks.logging.activity.ActivityContextFactory$.$anonfun$withActivityInternal$13(ActivityContextFactory.scala:831)",
        "\tat com.databricks.logging.AttributionContextTracing.$anonfun$withAttributionContext$1(AttributionContextTracing.scala:49)",
        "\tat com.databricks.logging.AttributionContext$.$anonfun$withValue$1(AttributionContext.scala:293)",
        "\tat scala.util.DynamicVariable.withValue(DynamicVariable.scala:62)",
        "\tat com.databricks.logging.AttributionContext$.withValue(AttributionContext.scala:289)",
        "\tat com.databricks.logging.AttributionContextTracing.withAttributionContext(AttributionContextTracing.scala:47)",
        "\tat com.databricks.logging.AttributionContextTracing.withAttributionContext$(AttributionContextTracing.scala:44)",
        "\tat com.databricks.logging.activity.ActivityContextFactory$.withAttributionContext(ActivityContextFactory.scala:53)",
        "\tat com.databricks.logging.activity.ActivityContextFactory$.$anonfun$withActivityInternal$3(ActivityContextFactory.scala:831)",
        "\tat com.databricks.context.integrity.IntegrityCheckContext$ThreadLocalStorage$.withValue(IntegrityCheckContext.scala:73)",
        "\tat com.databricks.logging.activity.ActivityContextFactory$.withActivityInternal(ActivityContextFactory.scala:794)",
        "\tat com.databricks.logging.activity.ActivityContextFactory$.withActivityInternal(ActivityContextFactory.scala:776)",
        "\tat com.databricks.logging.activity.ActivityContextFactory$.$anonfun$withServiceRequestActivity$15(ActivityContextFactory.scala:285)",
        "\tat com.databricks.logging.AttributionContextTracing.$anonfun$withAttributionContext$1(AttributionContextTracing.scala:49)",
        "\tat com.databricks.logging.AttributionContext$.$anonfun$withValue$1(AttributionContext.scala:293)",
        "\tat scala.util.DynamicVariable.withValue(DynamicVariable.scala:62)",
        "\tat com.databricks.logging.AttributionContext$.withValue(AttributionContext.scala:289)",
        "\tat com.databricks.logging.AttributionContextTracing.withAttributionContext(AttributionContextTracing.scala:47)",
        "\tat com.databricks.logging.AttributionContextTracing.withAttributionContext$(AttributionContextTracing.scala:44)",
        "\tat com.databricks.logging.activity.ActivityContextFactory$.withAttributionContext(ActivityContextFactory.scala:53)",
        "\tat com.databricks.logging.activity.ActivityContextFactory$.withServiceRequestActivity(ActivityContextFactory.scala:285)",
        "\tat com.databricks.rpc.JettyServer$RequestManager.handleHttp(JettyServer.scala:513)",
        "\tat com.databricks.rpc.JettyServer$RequestManager.doPost(JettyServer.scala:408)",
        "\tat javax.servlet.http.HttpServlet.service(HttpServlet.java:665)",
        "\tat com.databricks.rpc.HttpServletWithPatch.service(HttpServletWithPatch.scala:33)",
        "\tat javax.servlet.http.HttpServlet.service(HttpServlet.java:750)",
        "\tat org.eclipse.jetty.servlet.ServletHolder.handle(ServletHolder.java:799)",
        "\tat org.eclipse.jetty.servlet.ServletHandler.doHandle(ServletHandler.java:554)",
        "\tat org.eclipse.jetty.server.handler.ScopedHandler.nextScope(ScopedHandler.java:190)",
        "\tat org.eclipse.jetty.servlet.ServletHandler.doScope(ServletHandler.java:505)",
        "\tat org.eclipse.jetty.server.handler.ScopedHandler.handle(ScopedHandler.java:141)",
        "\tat org.eclipse.jetty.server.handler.HandlerWrapper.handle(HandlerWrapper.java:127)",
        "\tat org.eclipse.jetty.server.Server.handle(Server.java:516)",
        "\tat org.eclipse.jetty.server.HttpChannel.lambda$handle$1(HttpChannel.java:487)",
        "\tat org.eclipse.jetty.server.HttpChannel.dispatch(HttpChannel.java:732)",
        "\tat org.eclipse.jetty.server.HttpChannel.handle(HttpChannel.java:479)",
        "\tat org.eclipse.jetty.server.HttpConnection.onFillable(HttpConnection.java:277)",
        "\tat org.eclipse.jetty.io.AbstractConnection$ReadCallback.succeeded(AbstractConnection.java:311)",
        "\tat org.eclipse.jetty.io.FillInterest.fillable(FillInterest.java:105)",
        "\tat org.eclipse.jetty.io.ssl.SslConnection$DecryptedEndPoint.onFillable(SslConnection.java:555)",
        "\tat org.eclipse.jetty.io.ssl.SslConnection.onFillable(SslConnection.java:410)",
        "\tat org.eclipse.jetty.io.ssl.SslConnection$2.succeeded(SslConnection.java:164)",
        "\tat org.eclipse.jetty.io.FillInterest.fillable(FillInterest.java:105)",
        "\tat org.eclipse.jetty.io.ChannelEndPoint$1.run(ChannelEndPoint.java:104)",
        "\tat org.eclipse.jetty.util.thread.strategy.EatWhatYouKill.runTask(EatWhatYouKill.java:338)",
        "\tat org.eclipse.jetty.util.thread.strategy.EatWhatYouKill.doProduce(EatWhatYouKill.java:315)",
        "\tat org.eclipse.jetty.util.thread.strategy.EatWhatYouKill.tryProduce(EatWhatYouKill.java:173)",
        "\tat org.eclipse.jetty.util.thread.strategy.EatWhatYouKill.run(EatWhatYouKill.java:131)",
        "\tat org.eclipse.jetty.util.thread.ReservedThreadExecutor$ReservedThread.run(ReservedThreadExecutor.java:409)",
        "\tat com.databricks.rpc.InstrumentedQueuedThreadPool$$anon$1.$anonfun$run$2(InstrumentedQueuedThreadPool.scala:110)",
        "\tat scala.runtime.java8.JFunction0$mcV$sp.apply(JFunction0$mcV$sp.java:23)",
        "\tat com.databricks.logging.AttributionContextTracing.$anonfun$withAttributionContext$1(AttributionContextTracing.scala:49)",
        "\tat com.databricks.logging.AttributionContext$.$anonfun$withValue$1(AttributionContext.scala:293)",
        "\tat scala.util.DynamicVariable.withValue(DynamicVariable.scala:62)",
        "\tat com.databricks.logging.AttributionContext$.withValue(AttributionContext.scala:289)",
        "\tat com.databricks.logging.AttributionContextTracing.withAttributionContext(AttributionContextTracing.scala:47)",
        "\tat com.databricks.logging.AttributionContextTracing.withAttributionContext$(AttributionContextTracing.scala:44)",
        "\tat com.databricks.rpc.InstrumentedQueuedThreadPool.withAttributionContext(InstrumentedQueuedThreadPool.scala:45)",
        "\tat com.databricks.rpc.InstrumentedQueuedThreadPool$$anon$1.$anonfun$run$1(InstrumentedQueuedThreadPool.scala:110)",
        "\tat scala.runtime.java8.JFunction0$mcV$sp.apply(JFunction0$mcV$sp.java:23)",
        "\tat com.databricks.instrumentation.QueuedThreadPoolInstrumenter.trackActiveThreads(QueuedThreadPoolInstrumenter.scala:132)",
        "\tat com.databricks.instrumentation.QueuedThreadPoolInstrumenter.trackActiveThreads$(QueuedThreadPoolInstrumenter.scala:129)",
        "\tat com.databricks.rpc.InstrumentedQueuedThreadPool.trackActiveThreads(InstrumentedQueuedThreadPool.scala:45)",
        "\tat com.databricks.rpc.InstrumentedQueuedThreadPool$$anon$1.run(InstrumentedQueuedThreadPool.scala:92)",
        "\tat org.eclipse.jetty.util.thread.QueuedThreadPool.runJob(QueuedThreadPool.java:883)",
        "\tat org.eclipse.jetty.util.thread.QueuedThreadPool$Runner.run(QueuedThreadPool.java:1034)",
        "\tat java.base/java.lang.Thread.run(Thread.java:840)"
       ],
       "type": "baseError"
      }
     },
     "output_type": "display_data"
    }
   ],
   "source": [
    "i = 1\n",
    "\n",
    "while i > 0:\n",
    "\n",
    "    i = 1"
   ]
  },
  {
   "cell_type": "code",
   "execution_count": 0,
   "metadata": {
    "application/vnd.databricks.v1+cell": {
     "cellMetadata": {
      "byteLimit": 2048000,
      "rowLimit": 10000
     },
     "inputWidgets": {},
     "nuid": "65c9ddc1-8b98-468a-960e-e30263c928f8",
     "showTitle": false,
     "tableResultSettingsMap": {},
     "title": ""
    }
   },
   "outputs": [
    {
     "output_type": "execute_result",
     "data": {
      "text/plain": [
       "12166207507.0"
      ]
     },
     "execution_count": 75,
     "metadata": {},
     "output_type": "execute_result"
    }
   ],
   "source": [
    "aggregated['value_visits_visits'].sum()"
   ]
  },
  {
   "cell_type": "code",
   "execution_count": 0,
   "metadata": {
    "application/vnd.databricks.v1+cell": {
     "cellMetadata": {
      "byteLimit": 2048000,
      "rowLimit": 10000
     },
     "inputWidgets": {},
     "nuid": "73b28812-f6d6-4abc-b74f-c5ddc03a3eac",
     "showTitle": false,
     "tableResultSettingsMap": {},
     "title": ""
    }
   },
   "outputs": [
    {
     "output_type": "execute_result",
     "data": {
      "text/plain": [
       "715659265.117647"
      ]
     },
     "execution_count": 68,
     "metadata": {},
     "output_type": "execute_result"
    }
   ],
   "source": [
    "# Can I calculate the causation of this visits?\n",
    "\n",
    "np.mean(aggregated['value_visits_visits'])"
   ]
  },
  {
   "cell_type": "code",
   "execution_count": 0,
   "metadata": {
    "application/vnd.databricks.v1+cell": {
     "cellMetadata": {
      "byteLimit": 2048000,
      "rowLimit": 10000
     },
     "inputWidgets": {},
     "nuid": "34d3750e-59e2-4e25-8bd6-943deb30b11b",
     "showTitle": false,
     "tableResultSettingsMap": {},
     "title": ""
    }
   },
   "outputs": [
    {
     "output_type": "stream",
     "name": "stderr",
     "output_type": "stream",
     "text": [
      "INFO:pymc.sampling.mcmc:Initializing NUTS using jitter+adapt_diag...\nINFO:pymc.sampling.mcmc:Multiprocess sampling (4 chains in 4 jobs)\nINFO:pymc.sampling.mcmc:NUTS: [theta, lam, sigma, beta_media, seasonal_beta, visits_beta]\n"
     ]
    },
    {
     "output_type": "display_data",
     "data": {
      "application/vnd.jupyter.widget-view+json": {
       "model_id": "0284449d1e904732a282283b981b304c",
       "version_major": 2,
       "version_minor": 0
      },
      "text/plain": [
       "Output()"
      ]
     },
     "metadata": {},
     "output_type": "display_data"
    },
    {
     "output_type": "display_data",
     "data": {
      "text/html": [
       "<pre style=\"white-space:pre;overflow-x:auto;line-height:normal;font-family:Menlo,'DejaVu Sans Mono',consolas,'Courier New',monospace\"></pre>\n"
      ],
      "text/plain": []
     },
     "metadata": {},
     "output_type": "display_data"
    },
    {
     "output_type": "stream",
     "name": "stderr",
     "output_type": "stream",
     "text": [
      "INFO:pymc.sampling.mcmc:Sampling 4 chains for 1_000 tune and 3_000 draw iterations (4_000 + 12_000 draws total) took 7 seconds.\n"
     ]
    },
    {
     "output_type": "stream",
     "name": "stdout",
     "output_type": "stream",
     "text": [
      "                 mean      sd  hdi_3%  ...    ess_bulk   ess_tail   r_hat\ntheta          0.0316  0.0255  0.0000  ...   8806.8296  4596.8106  1.0000\nlam            0.1650  0.1045  0.0060  ...  14273.6345  7425.7518  1.0003\nbeta_media[0]  0.1516  0.0787  0.0264  ...  11176.6467  6698.0197  1.0002\nbeta_media[1]  0.1572  0.0836  0.0265  ...  13182.8941  7927.2048  1.0003\nbeta_media[2]  0.1778  0.0940  0.0327  ...  13199.1277  7283.8304  1.0001\nseasonal_beta  0.1800  0.0803  0.0394  ...  13399.4791  7718.7797  1.0000\n\n[6 rows x 9 columns]\n\nPosterior mean immediate lift θ   : 0.0316\nPosterior mean carry-over λ        : 0.1650\nLong-run lift θ/(1-λ)              : 0.0379\nHalf-life (months)                 : 0.38\n"
     ]
    }
   ],
   "source": [
    "# Let's run a Bayesian Model\n",
    "\n",
    "import pymc as pm\n",
    "import pandas as pd\n",
    "import arviz as az\n",
    "\n",
    "# ------------------------------------------------------------------\n",
    "# 1.  Ensure the data are in chronological order and have no gaps\n",
    "#     (17 monthly rows expected)\n",
    "#df = scaled.sort_values(\"month\").reset_index(drop=True)\n",
    "\n",
    "# 2.  Pull the columns you care about\n",
    "fs_subs       = scaled[\"value_leads_fs_submits\"].values          # y_t\n",
    "visits       = scaled[\"value_visits_visits\"].values          # y_t\n",
    "brand_metric = scaled[\"bii_score\"].values                    # X_t\n",
    "tv = scaled['impressions_TV_None'].values\n",
    "seasonal = scaled['seasonal'].values\n",
    "sem = scaled['impressions_SEM_None'].values\n",
    "paid_social = scaled['impressions_PaidSocial_None'].values\n",
    "y_lag        = pd.Series(visits).shift(1).values         # y_{t-1}\n",
    "\n",
    "# 3.  Drop the first row (no lag available)\n",
    "mask         = ~pd.isna(y_lag)\n",
    "fs_subs       = fs_subs[mask]\n",
    "visits       = visits[mask]\n",
    "brand_metric = brand_metric[mask]\n",
    "tv = tv[mask]\n",
    "seasonal = seasonal[mask]\n",
    "sem = sem[mask]\n",
    "paid_social = paid_social[mask]\n",
    "y_lag        = y_lag[mask]\n",
    "\n",
    "# ------------------------------------------------------------------\n",
    "# 4.  Bayesian Koyck model with soft-positive prior on θ\n",
    "with pm.Model() as brand_koyck:\n",
    "    theta = pm.HalfNormal(\"theta\", sigma=0.05)           # immediate lift ≥ 0\n",
    "    lam   = pm.Beta(\"lam\", alpha=2, beta=2)              # 0 < λ < 1\n",
    "    sigma = pm.HalfNormal(\"sigma\", sigma=1.0)\n",
    "    betaM = pm.LogNormal(\"beta_media\", mu=0, sigma=1, shape=3) \n",
    "    seasonalB = pm.LogNormal(\"seasonal_beta\", mu=0, sigma=1)\n",
    "    visitsB = pm.LogNormal(\"visits_beta\", mu=0, sigma=1) \n",
    "\n",
    "    mu = theta * brand_metric + lam * y_lag + betaM[0] * tv  +  betaM[1]*sem + betaM[2]*paid_social +  seasonalB*seasonal + visitsB*visits\n",
    "    pm.Normal(\"y\", mu=mu, sigma=sigma, observed=fs_subs)\n",
    "\n",
    "    trace = pm.sample(3000, tune=1000, chains=4,\n",
    "                      target_accept=0.9, random_seed=44)\n",
    "\n",
    "# ------------------------------------------------------------------\n",
    "# 5.  Summarise the key parameters\n",
    "summary = az.summary(trace, var_names=[\"theta\",\"lam\",\"beta_media\",\"seasonal_beta\"], round_to=4)\n",
    "print(summary)\n",
    "\n",
    "# 6.  Compute long-run multiplier and half-life\n",
    "theta_hat = trace.posterior[\"theta\"].mean().item()\n",
    "lam_hat   = trace.posterior[\"lam\"].mean().item()\n",
    "\n",
    "long_run  = theta_hat / (1 - lam_hat)\n",
    "half_life = np.log(0.5) / np.log(lam_hat)        # in months\n",
    "\n",
    "print(f\"\\nPosterior mean immediate lift θ   : {theta_hat:.4f}\")\n",
    "print(f\"Posterior mean carry-over λ        : {lam_hat:.4f}\")\n",
    "print(f\"Long-run lift θ/(1-λ)              : {long_run:.4f}\")\n",
    "print(f\"Half-life (months)                 : {half_life:.2f}\")"
   ]
  },
  {
   "cell_type": "code",
   "execution_count": 0,
   "metadata": {
    "application/vnd.databricks.v1+cell": {
     "cellMetadata": {
      "byteLimit": 2048000,
      "rowLimit": 10000
     },
     "inputWidgets": {},
     "nuid": "7d344420-fe6d-45c5-97c9-168c622ea823",
     "showTitle": false,
     "tableResultSettingsMap": {},
     "title": ""
    }
   },
   "outputs": [
    {
     "output_type": "execute_result",
     "data": {
      "text/plain": [
       "349.14633670588233"
      ]
     },
     "execution_count": 92,
     "metadata": {},
     "output_type": "execute_result"
    }
   ],
   "source": [
    "0.0316*0.01*np.mean(aggregated['value_leads_fs_submits'])"
   ]
  },
  {
   "cell_type": "code",
   "execution_count": 0,
   "metadata": {
    "application/vnd.databricks.v1+cell": {
     "cellMetadata": {
      "byteLimit": 2048000,
      "rowLimit": 10000
     },
     "inputWidgets": {},
     "nuid": "8d8816c5-9cb5-4448-bfa2-57008eeaaab5",
     "showTitle": false,
     "tableResultSettingsMap": {},
     "title": ""
    }
   },
   "outputs": [
    {
     "output_type": "stream",
     "name": "stdout",
     "output_type": "stream",
     "text": [
      "<xarray.Dataset> Size: 80B\nDimensions:  (hdi: 2)\nCoordinates:\n  * hdi      (hdi) <U6 48B 'lower' 'higher'\nData variables:\n    theta    (hdi) float64 16B 0.001828 0.1124\n    lam      (hdi) float64 16B 0.6912 0.9717\n"
     ]
    }
   ],
   "source": [
    "hdi = az.hdi(trace, var_names=[\"theta\",\"lam\"], hdi_prob=0.9)\n",
    "print(hdi)"
   ]
  },
  {
   "cell_type": "code",
   "execution_count": 0,
   "metadata": {
    "application/vnd.databricks.v1+cell": {
     "cellMetadata": {},
     "inputWidgets": {},
     "nuid": "070b6724-8a34-4f0b-a37b-9c500d6bde4c",
     "showTitle": false,
     "tableResultSettingsMap": {},
     "title": ""
    }
   },
   "outputs": [],
   "source": [
    "# What does this say?"
   ]
  }
 ],
 "metadata": {
  "application/vnd.databricks.v1+notebook": {
   "computePreferences": null,
   "dashboards": [],
   "environmentMetadata": {
    "base_environment": "",
    "environment_version": "2"
   },
   "inputWidgetPreferences": null,
   "language": "python",
   "notebookMetadata": {
    "mostRecentlyExecutedCommandWithImplicitDF": {
     "commandId": 7259347679264080,
     "dataframes": [
      "_sqldf"
     ]
    },
    "pythonIndentUnit": 4
   },
   "notebookName": "Causal Impact of BII on Visits and FS Submits",
   "widgets": {}
  },
  "language_info": {
   "name": "python"
  }
 },
 "nbformat": 4,
 "nbformat_minor": 0
}